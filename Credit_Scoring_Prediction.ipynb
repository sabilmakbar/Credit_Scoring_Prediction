{
  "nbformat": 4,
  "nbformat_minor": 0,
  "metadata": {
    "colab": {
      "name": "Credit Scoring Prediction.ipynb",
      "provenance": [],
      "collapsed_sections": []
    },
    "kernelspec": {
      "display_name": "Python 3",
      "name": "python3"
    }
  },
  "cells": [
    {
      "cell_type": "code",
      "metadata": {
        "id": "pZm9t15IlXeD"
      },
      "source": [
        "# #Unpack .rar file directly from Google Drive and store it also on Drive\n",
        "# #Source: https://stackoverflow.com/questions/50315989/how-to-extract-rar-files-inside-google-colab\n",
        "\n",
        "# !pip install pyunpack\n",
        "# !pip install patool\n",
        "\n",
        "# from google.colab import drive\n",
        "\n",
        "# drive.mount('/content/drive/')\n",
        "\n",
        "# from pyunpack import Archive\n",
        "# Archive(r'/content/drive/My Drive/Copy of data.rar').extractall(r'/content/drive/My Drive')"
      ],
      "execution_count": 1,
      "outputs": []
    },
    {
      "cell_type": "markdown",
      "metadata": {
        "id": "ArCKUgEXJF9E"
      },
      "source": [
        "# Package & Settings"
      ]
    },
    {
      "cell_type": "code",
      "metadata": {
        "id": "jBUFgJ9SHxJo"
      },
      "source": [
        "import pandas as pd\n",
        "import numpy as np\n",
        "from google.colab import drive"
      ],
      "execution_count": 2,
      "outputs": []
    },
    {
      "cell_type": "code",
      "metadata": {
        "id": "cAibzVc9q7kg"
      },
      "source": [
        "#Setting to display all output\n",
        "from IPython.core.interactiveshell import InteractiveShell\n",
        "InteractiveShell.ast_node_interactivity = \"all\"\n",
        "\n",
        "#Setting to display all rows & columns\n",
        "pd.set_option('display.max_rows', 100)\n",
        "pd.set_option('display.max_columns', None)"
      ],
      "execution_count": 3,
      "outputs": []
    },
    {
      "cell_type": "markdown",
      "metadata": {
        "id": "gnKAevwcJJa8"
      },
      "source": [
        "# Data Read"
      ]
    },
    {
      "cell_type": "code",
      "metadata": {
        "colab": {
          "base_uri": "https://localhost:8080/"
        },
        "id": "mp9Ut6y3p2aQ",
        "outputId": "32f260ec-2837-4876-fa09-9cf503ec4a2e"
      },
      "source": [
        "drive.mount('/content/drive/')\n",
        "\n",
        "folder_path = \"/content/drive/My Drive/Machine Learning Sample Credit Prediction/\"\n",
        "application_train = pd.read_csv(folder_path+'application_train.csv')\n",
        "previous_application = pd.read_csv(folder_path+'previous_application.csv')\n",
        "installments_payment = pd.read_csv(folder_path+'installments_payments.csv')\n",
        "bureau = pd.read_csv(folder_path+'bureau.csv')\n",
        "bureau_balance = pd.read_csv(folder_path+'bureau_balance.csv')\n",
        "pos_cash_balance = pd.read_csv(folder_path+'POS_CASH_balance.csv')\n",
        "credit_card_balance = pd.read_csv(folder_path+'credit_card_balance.csv')\n",
        "\n",
        "sample_submission = pd.read_csv(folder_path+'sample_submission.csv')\n",
        "application_test = pd.read_csv(folder_path+'application_test.csv')"
      ],
      "execution_count": 4,
      "outputs": [
        {
          "output_type": "stream",
          "text": [
            "Drive already mounted at /content/drive/; to attempt to forcibly remount, call drive.mount(\"/content/drive/\", force_remount=True).\n"
          ],
          "name": "stdout"
        }
      ]
    },
    {
      "cell_type": "markdown",
      "metadata": {
        "id": "08noaYNRB9Zw"
      },
      "source": [
        "# Column Dropping (assumed based on Domain Knowledge)"
      ]
    },
    {
      "cell_type": "markdown",
      "metadata": {
        "id": "URgKctpDCCFG"
      },
      "source": [
        "Most of the time, loan approval was mostly determined by the current economical conditions of the clients (including ongoing and finished loans), and client performance on past mortgage\n",
        "\n",
        "So, by reading the column description, we will choose columns with adequate informations regarding their conditions"
      ]
    },
    {
      "cell_type": "code",
      "metadata": {
        "id": "pEtUKS20B8_D"
      },
      "source": [
        "application_col_to_drop = ['REGION_POPULATION_RELATIVE', 'DAYS_REGISTRATION', 'DAYS_ID_PUBLISH',\n",
        "                           'NAME_TYPE_SUITE','REGION_RATING_CLIENT_W_CITY', 'WEEKDAY_APPR_PROCESS_START', \n",
        "                           'HOUR_APPR_PROCESS_START', 'EXT_SOURCE_1', 'EXT_SOURCE_2', 'EXT_SOURCE_3', \n",
        "                           'APARTMENTS_AVG', 'BASEMENTAREA_AVG', 'YEARS_BEGINEXPLUATATION_AVG',\n",
        "                           'YEARS_BUILD_AVG', 'COMMONAREA_AVG', 'ELEVATORS_AVG', 'ENTRANCES_AVG',\n",
        "                           'FLOORSMAX_AVG', 'FLOORSMIN_AVG', 'LANDAREA_AVG', 'LIVINGAPARTMENTS_AVG',\n",
        "                           'LIVINGAREA_AVG', 'NONLIVINGAPARTMENTS_AVG', 'NONLIVINGAREA_AVG', 'APARTMENTS_MODE',\n",
        "                           'BASEMENTAREA_MODE', 'YEARS_BEGINEXPLUATATION_MODE', 'YEARS_BUILD_MODE', 'COMMONAREA_MODE',\n",
        "                           'ELEVATORS_MODE', 'ENTRANCES_MODE', 'FLOORSMAX_MODE', 'FLOORSMIN_MODE', 'LANDAREA_MODE',\n",
        "                           'LIVINGAPARTMENTS_MODE', 'LIVINGAREA_MODE', 'NONLIVINGAPARTMENTS_MODE', 'NONLIVINGAREA_MODE',\n",
        "                           'APARTMENTS_MEDI', 'BASEMENTAREA_MEDI', 'YEARS_BEGINEXPLUATATION_MEDI','YEARS_BUILD_MEDI',\n",
        "                           'COMMONAREA_MEDI', 'ELEVATORS_MEDI', 'ENTRANCES_MEDI', 'FLOORSMAX_MEDI', 'FLOORSMIN_MEDI',\n",
        "                           'LANDAREA_MEDI', 'LIVINGAPARTMENTS_MEDI', 'LIVINGAREA_MEDI', 'NONLIVINGAPARTMENTS_MEDI',\n",
        "                           'NONLIVINGAREA_MEDI', 'FONDKAPREMONT_MODE', 'HOUSETYPE_MODE', 'TOTALAREA_MODE',\n",
        "                           'WALLSMATERIAL_MODE', 'EMERGENCYSTATE_MODE']\n",
        "\n",
        "application_train.drop(columns = application_col_to_drop, inplace=True)\n",
        "application_test.drop(columns = application_col_to_drop, inplace=True)"
      ],
      "execution_count": 5,
      "outputs": []
    },
    {
      "cell_type": "code",
      "metadata": {
        "id": "VPMXOTKy2lqb"
      },
      "source": [
        "previous_application_to_drop = ['WEEKDAY_APPR_PROCESS_START', 'HOUR_APPR_PROCESS_START', 'FLAG_LAST_APPL_PER_CONTRACT',\n",
        "                                'NFLAG_LAST_APPL_IN_DAY', 'DAYS_DECISION', 'NAME_PAYMENT_TYPE', 'NAME_TYPE_SUITE',\n",
        "                                'CHANNEL_TYPE', 'SELLERPLACE_AREA', 'NAME_SELLER_INDUSTRY',\n",
        "                                'CNT_PAYMENT', 'NAME_YIELD_GROUP', 'PRODUCT_COMBINATION', 'DAYS_FIRST_DRAWING',\n",
        "                                'DAYS_FIRST_DUE', 'DAYS_LAST_DUE_1ST_VERSION', 'DAYS_LAST_DUE', 'DAYS_TERMINATION', \n",
        "                                'NFLAG_INSURED_ON_APPROVAL', 'NAME_GOODS_CATEGORY', 'NAME_CASH_LOAN_PURPOSE']\n",
        "previous_application.drop(columns = previous_application_to_drop, inplace=True)"
      ],
      "execution_count": 6,
      "outputs": []
    },
    {
      "cell_type": "code",
      "metadata": {
        "id": "1WLAcNyv2onB"
      },
      "source": [
        "installments_payment_to_drop = ['NUM_INSTALMENT_VERSION', 'NUM_INSTALMENT_NUMBER']\n",
        "installments_payment.drop(columns = installments_payment_to_drop, inplace=True)"
      ],
      "execution_count": 7,
      "outputs": []
    },
    {
      "cell_type": "code",
      "metadata": {
        "id": "wFB1Y54L2-e3"
      },
      "source": [
        "pos_cash_balance_to_drop = ['MONTHS_BALANCE', 'CNT_INSTALMENT']\n",
        "pos_cash_balance.drop(columns = pos_cash_balance_to_drop, inplace=True)"
      ],
      "execution_count": 8,
      "outputs": []
    },
    {
      "cell_type": "code",
      "metadata": {
        "id": "KfIHzSPTB0rE"
      },
      "source": [
        "bureau_merged = bureau.merge(bureau_balance, how='inner', on = 'SK_ID_BUREAU')\n",
        "del bureau, bureau_balance"
      ],
      "execution_count": 9,
      "outputs": []
    },
    {
      "cell_type": "markdown",
      "metadata": {
        "id": "d6RlGRiiJL9L"
      },
      "source": [
        "#Data Investigation & Cleansing"
      ]
    },
    {
      "cell_type": "markdown",
      "metadata": {
        "id": "gRPLWgbm5VR-"
      },
      "source": [
        "## Application DF"
      ]
    },
    {
      "cell_type": "code",
      "metadata": {
        "colab": {
          "base_uri": "https://localhost:8080/"
        },
        "id": "DjxyAlLoNDFR",
        "outputId": "54d9c8da-39f0-4e6c-80e5-601727215e47"
      },
      "source": [
        "application_train.info()"
      ],
      "execution_count": 10,
      "outputs": [
        {
          "output_type": "stream",
          "text": [
            "<class 'pandas.core.frame.DataFrame'>\n",
            "RangeIndex: 307511 entries, 0 to 307510\n",
            "Data columns (total 65 columns):\n",
            " #   Column                       Non-Null Count   Dtype  \n",
            "---  ------                       --------------   -----  \n",
            " 0   SK_ID_CURR                   307511 non-null  int64  \n",
            " 1   TARGET                       307511 non-null  int64  \n",
            " 2   NAME_CONTRACT_TYPE           307511 non-null  object \n",
            " 3   CODE_GENDER                  307511 non-null  object \n",
            " 4   FLAG_OWN_CAR                 307511 non-null  object \n",
            " 5   FLAG_OWN_REALTY              307511 non-null  object \n",
            " 6   CNT_CHILDREN                 307511 non-null  int64  \n",
            " 7   AMT_INCOME_TOTAL             307511 non-null  float64\n",
            " 8   AMT_CREDIT                   307511 non-null  float64\n",
            " 9   AMT_ANNUITY                  307499 non-null  float64\n",
            " 10  AMT_GOODS_PRICE              307233 non-null  float64\n",
            " 11  NAME_INCOME_TYPE             307511 non-null  object \n",
            " 12  NAME_EDUCATION_TYPE          307511 non-null  object \n",
            " 13  NAME_FAMILY_STATUS           307511 non-null  object \n",
            " 14  NAME_HOUSING_TYPE            307511 non-null  object \n",
            " 15  DAYS_BIRTH                   307511 non-null  int64  \n",
            " 16  DAYS_EMPLOYED                307511 non-null  int64  \n",
            " 17  OWN_CAR_AGE                  104582 non-null  float64\n",
            " 18  FLAG_MOBIL                   307511 non-null  int64  \n",
            " 19  FLAG_EMP_PHONE               307511 non-null  int64  \n",
            " 20  FLAG_WORK_PHONE              307511 non-null  int64  \n",
            " 21  FLAG_CONT_MOBILE             307511 non-null  int64  \n",
            " 22  FLAG_PHONE                   307511 non-null  int64  \n",
            " 23  FLAG_EMAIL                   307511 non-null  int64  \n",
            " 24  OCCUPATION_TYPE              211120 non-null  object \n",
            " 25  CNT_FAM_MEMBERS              307509 non-null  float64\n",
            " 26  REGION_RATING_CLIENT         307511 non-null  int64  \n",
            " 27  REG_REGION_NOT_LIVE_REGION   307511 non-null  int64  \n",
            " 28  REG_REGION_NOT_WORK_REGION   307511 non-null  int64  \n",
            " 29  LIVE_REGION_NOT_WORK_REGION  307511 non-null  int64  \n",
            " 30  REG_CITY_NOT_LIVE_CITY       307511 non-null  int64  \n",
            " 31  REG_CITY_NOT_WORK_CITY       307511 non-null  int64  \n",
            " 32  LIVE_CITY_NOT_WORK_CITY      307511 non-null  int64  \n",
            " 33  ORGANIZATION_TYPE            307511 non-null  object \n",
            " 34  OBS_30_CNT_SOCIAL_CIRCLE     306490 non-null  float64\n",
            " 35  DEF_30_CNT_SOCIAL_CIRCLE     306490 non-null  float64\n",
            " 36  OBS_60_CNT_SOCIAL_CIRCLE     306490 non-null  float64\n",
            " 37  DEF_60_CNT_SOCIAL_CIRCLE     306490 non-null  float64\n",
            " 38  DAYS_LAST_PHONE_CHANGE       307510 non-null  float64\n",
            " 39  FLAG_DOCUMENT_2              307511 non-null  int64  \n",
            " 40  FLAG_DOCUMENT_3              307511 non-null  int64  \n",
            " 41  FLAG_DOCUMENT_4              307511 non-null  int64  \n",
            " 42  FLAG_DOCUMENT_5              307511 non-null  int64  \n",
            " 43  FLAG_DOCUMENT_6              307511 non-null  int64  \n",
            " 44  FLAG_DOCUMENT_7              307511 non-null  int64  \n",
            " 45  FLAG_DOCUMENT_8              307511 non-null  int64  \n",
            " 46  FLAG_DOCUMENT_9              307511 non-null  int64  \n",
            " 47  FLAG_DOCUMENT_10             307511 non-null  int64  \n",
            " 48  FLAG_DOCUMENT_11             307511 non-null  int64  \n",
            " 49  FLAG_DOCUMENT_12             307511 non-null  int64  \n",
            " 50  FLAG_DOCUMENT_13             307511 non-null  int64  \n",
            " 51  FLAG_DOCUMENT_14             307511 non-null  int64  \n",
            " 52  FLAG_DOCUMENT_15             307511 non-null  int64  \n",
            " 53  FLAG_DOCUMENT_16             307511 non-null  int64  \n",
            " 54  FLAG_DOCUMENT_17             307511 non-null  int64  \n",
            " 55  FLAG_DOCUMENT_18             307511 non-null  int64  \n",
            " 56  FLAG_DOCUMENT_19             307511 non-null  int64  \n",
            " 57  FLAG_DOCUMENT_20             307511 non-null  int64  \n",
            " 58  FLAG_DOCUMENT_21             307511 non-null  int64  \n",
            " 59  AMT_REQ_CREDIT_BUREAU_HOUR   265992 non-null  float64\n",
            " 60  AMT_REQ_CREDIT_BUREAU_DAY    265992 non-null  float64\n",
            " 61  AMT_REQ_CREDIT_BUREAU_WEEK   265992 non-null  float64\n",
            " 62  AMT_REQ_CREDIT_BUREAU_MON    265992 non-null  float64\n",
            " 63  AMT_REQ_CREDIT_BUREAU_QRT    265992 non-null  float64\n",
            " 64  AMT_REQ_CREDIT_BUREAU_YEAR   265992 non-null  float64\n",
            "dtypes: float64(17), int64(38), object(10)\n",
            "memory usage: 152.5+ MB\n"
          ],
          "name": "stdout"
        }
      ]
    },
    {
      "cell_type": "code",
      "metadata": {
        "colab": {
          "base_uri": "https://localhost:8080/"
        },
        "id": "dVlnnE6uGe_W",
        "outputId": "61d1ced3-8432-4570-ba8c-7ee84e909595"
      },
      "source": [
        "null_columns=application_train.columns[application_train.isnull().any()]\n",
        "application_train[null_columns].isnull().sum()"
      ],
      "execution_count": 11,
      "outputs": [
        {
          "output_type": "execute_result",
          "data": {
            "text/plain": [
              "AMT_ANNUITY                       12\n",
              "AMT_GOODS_PRICE                  278\n",
              "OWN_CAR_AGE                   202929\n",
              "OCCUPATION_TYPE                96391\n",
              "CNT_FAM_MEMBERS                    2\n",
              "OBS_30_CNT_SOCIAL_CIRCLE        1021\n",
              "DEF_30_CNT_SOCIAL_CIRCLE        1021\n",
              "OBS_60_CNT_SOCIAL_CIRCLE        1021\n",
              "DEF_60_CNT_SOCIAL_CIRCLE        1021\n",
              "DAYS_LAST_PHONE_CHANGE             1\n",
              "AMT_REQ_CREDIT_BUREAU_HOUR     41519\n",
              "AMT_REQ_CREDIT_BUREAU_DAY      41519\n",
              "AMT_REQ_CREDIT_BUREAU_WEEK     41519\n",
              "AMT_REQ_CREDIT_BUREAU_MON      41519\n",
              "AMT_REQ_CREDIT_BUREAU_QRT      41519\n",
              "AMT_REQ_CREDIT_BUREAU_YEAR     41519\n",
              "dtype: int64"
            ]
          },
          "metadata": {
            "tags": []
          },
          "execution_count": 11
        }
      ]
    },
    {
      "cell_type": "code",
      "metadata": {
        "colab": {
          "base_uri": "https://localhost:8080/"
        },
        "id": "wn506oKeNFfJ",
        "outputId": "1c2744ca-c2f6-4c3a-c9b0-1ef86624a961"
      },
      "source": [
        "application_test.info()"
      ],
      "execution_count": 12,
      "outputs": [
        {
          "output_type": "stream",
          "text": [
            "<class 'pandas.core.frame.DataFrame'>\n",
            "RangeIndex: 48744 entries, 0 to 48743\n",
            "Data columns (total 64 columns):\n",
            " #   Column                       Non-Null Count  Dtype  \n",
            "---  ------                       --------------  -----  \n",
            " 0   SK_ID_CURR                   48744 non-null  int64  \n",
            " 1   NAME_CONTRACT_TYPE           48744 non-null  object \n",
            " 2   CODE_GENDER                  48744 non-null  object \n",
            " 3   FLAG_OWN_CAR                 48744 non-null  object \n",
            " 4   FLAG_OWN_REALTY              48744 non-null  object \n",
            " 5   CNT_CHILDREN                 48744 non-null  int64  \n",
            " 6   AMT_INCOME_TOTAL             48744 non-null  float64\n",
            " 7   AMT_CREDIT                   48744 non-null  float64\n",
            " 8   AMT_ANNUITY                  48720 non-null  float64\n",
            " 9   AMT_GOODS_PRICE              48744 non-null  float64\n",
            " 10  NAME_INCOME_TYPE             48744 non-null  object \n",
            " 11  NAME_EDUCATION_TYPE          48744 non-null  object \n",
            " 12  NAME_FAMILY_STATUS           48744 non-null  object \n",
            " 13  NAME_HOUSING_TYPE            48744 non-null  object \n",
            " 14  DAYS_BIRTH                   48744 non-null  int64  \n",
            " 15  DAYS_EMPLOYED                48744 non-null  int64  \n",
            " 16  OWN_CAR_AGE                  16432 non-null  float64\n",
            " 17  FLAG_MOBIL                   48744 non-null  int64  \n",
            " 18  FLAG_EMP_PHONE               48744 non-null  int64  \n",
            " 19  FLAG_WORK_PHONE              48744 non-null  int64  \n",
            " 20  FLAG_CONT_MOBILE             48744 non-null  int64  \n",
            " 21  FLAG_PHONE                   48744 non-null  int64  \n",
            " 22  FLAG_EMAIL                   48744 non-null  int64  \n",
            " 23  OCCUPATION_TYPE              33139 non-null  object \n",
            " 24  CNT_FAM_MEMBERS              48744 non-null  float64\n",
            " 25  REGION_RATING_CLIENT         48744 non-null  int64  \n",
            " 26  REG_REGION_NOT_LIVE_REGION   48744 non-null  int64  \n",
            " 27  REG_REGION_NOT_WORK_REGION   48744 non-null  int64  \n",
            " 28  LIVE_REGION_NOT_WORK_REGION  48744 non-null  int64  \n",
            " 29  REG_CITY_NOT_LIVE_CITY       48744 non-null  int64  \n",
            " 30  REG_CITY_NOT_WORK_CITY       48744 non-null  int64  \n",
            " 31  LIVE_CITY_NOT_WORK_CITY      48744 non-null  int64  \n",
            " 32  ORGANIZATION_TYPE            48744 non-null  object \n",
            " 33  OBS_30_CNT_SOCIAL_CIRCLE     48715 non-null  float64\n",
            " 34  DEF_30_CNT_SOCIAL_CIRCLE     48715 non-null  float64\n",
            " 35  OBS_60_CNT_SOCIAL_CIRCLE     48715 non-null  float64\n",
            " 36  DEF_60_CNT_SOCIAL_CIRCLE     48715 non-null  float64\n",
            " 37  DAYS_LAST_PHONE_CHANGE       48744 non-null  float64\n",
            " 38  FLAG_DOCUMENT_2              48744 non-null  int64  \n",
            " 39  FLAG_DOCUMENT_3              48744 non-null  int64  \n",
            " 40  FLAG_DOCUMENT_4              48744 non-null  int64  \n",
            " 41  FLAG_DOCUMENT_5              48744 non-null  int64  \n",
            " 42  FLAG_DOCUMENT_6              48744 non-null  int64  \n",
            " 43  FLAG_DOCUMENT_7              48744 non-null  int64  \n",
            " 44  FLAG_DOCUMENT_8              48744 non-null  int64  \n",
            " 45  FLAG_DOCUMENT_9              48744 non-null  int64  \n",
            " 46  FLAG_DOCUMENT_10             48744 non-null  int64  \n",
            " 47  FLAG_DOCUMENT_11             48744 non-null  int64  \n",
            " 48  FLAG_DOCUMENT_12             48744 non-null  int64  \n",
            " 49  FLAG_DOCUMENT_13             48744 non-null  int64  \n",
            " 50  FLAG_DOCUMENT_14             48744 non-null  int64  \n",
            " 51  FLAG_DOCUMENT_15             48744 non-null  int64  \n",
            " 52  FLAG_DOCUMENT_16             48744 non-null  int64  \n",
            " 53  FLAG_DOCUMENT_17             48744 non-null  int64  \n",
            " 54  FLAG_DOCUMENT_18             48744 non-null  int64  \n",
            " 55  FLAG_DOCUMENT_19             48744 non-null  int64  \n",
            " 56  FLAG_DOCUMENT_20             48744 non-null  int64  \n",
            " 57  FLAG_DOCUMENT_21             48744 non-null  int64  \n",
            " 58  AMT_REQ_CREDIT_BUREAU_HOUR   42695 non-null  float64\n",
            " 59  AMT_REQ_CREDIT_BUREAU_DAY    42695 non-null  float64\n",
            " 60  AMT_REQ_CREDIT_BUREAU_WEEK   42695 non-null  float64\n",
            " 61  AMT_REQ_CREDIT_BUREAU_MON    42695 non-null  float64\n",
            " 62  AMT_REQ_CREDIT_BUREAU_QRT    42695 non-null  float64\n",
            " 63  AMT_REQ_CREDIT_BUREAU_YEAR   42695 non-null  float64\n",
            "dtypes: float64(17), int64(37), object(10)\n",
            "memory usage: 23.8+ MB\n"
          ],
          "name": "stdout"
        }
      ]
    },
    {
      "cell_type": "code",
      "metadata": {
        "colab": {
          "base_uri": "https://localhost:8080/"
        },
        "id": "8chgmbl9HYaq",
        "outputId": "ffca7f9d-41d9-4ee6-e730-597525376ea1"
      },
      "source": [
        "null_columns=application_test.columns[application_test.isnull().any()]\n",
        "application_test[null_columns].isnull().sum()"
      ],
      "execution_count": 13,
      "outputs": [
        {
          "output_type": "execute_result",
          "data": {
            "text/plain": [
              "AMT_ANNUITY                      24\n",
              "OWN_CAR_AGE                   32312\n",
              "OCCUPATION_TYPE               15605\n",
              "OBS_30_CNT_SOCIAL_CIRCLE         29\n",
              "DEF_30_CNT_SOCIAL_CIRCLE         29\n",
              "OBS_60_CNT_SOCIAL_CIRCLE         29\n",
              "DEF_60_CNT_SOCIAL_CIRCLE         29\n",
              "AMT_REQ_CREDIT_BUREAU_HOUR     6049\n",
              "AMT_REQ_CREDIT_BUREAU_DAY      6049\n",
              "AMT_REQ_CREDIT_BUREAU_WEEK     6049\n",
              "AMT_REQ_CREDIT_BUREAU_MON      6049\n",
              "AMT_REQ_CREDIT_BUREAU_QRT      6049\n",
              "AMT_REQ_CREDIT_BUREAU_YEAR     6049\n",
              "dtype: int64"
            ]
          },
          "metadata": {
            "tags": []
          },
          "execution_count": 13
        }
      ]
    },
    {
      "cell_type": "code",
      "metadata": {
        "id": "nViGuWa8qFk_"
      },
      "source": [
        "#fill NA\n",
        "application_train.OCCUPATION_TYPE=application_train.OCCUPATION_TYPE.fillna('Others')\n",
        "application_test.OCCUPATION_TYPE=application_test.OCCUPATION_TYPE.fillna('Others')\n",
        "\n",
        "application_train.DAYS_LAST_PHONE_CHANGE=application_train.DAYS_LAST_PHONE_CHANGE.fillna(0)\n",
        "application_train.CNT_FAM_MEMBERS=application_train.CNT_FAM_MEMBERS.fillna(application_train.CNT_FAM_MEMBERS.median())\n",
        "\n",
        "application_train.AMT_GOODS_PRICE=application_train.AMT_GOODS_PRICE.fillna(application_train.AMT_GOODS_PRICE.median())\n",
        "\n",
        "application_train.AMT_ANNUITY=application_train.AMT_ANNUITY.fillna(application_train.AMT_GOODS_PRICE.mean())\n",
        "application_test.AMT_ANNUITY=application_test.AMT_ANNUITY.fillna(application_train.AMT_GOODS_PRICE.mean())\n",
        "\n",
        "application_train.OWN_CAR_AGE=application_train.OWN_CAR_AGE.fillna(-99)\n",
        "application_test.OWN_CAR_AGE=application_test.OWN_CAR_AGE.fillna(-99)\n",
        "\n",
        "cols_social_circle = ['OBS_30_CNT_SOCIAL_CIRCLE', 'DEF_30_CNT_SOCIAL_CIRCLE', 'OBS_60_CNT_SOCIAL_CIRCLE', 'DEF_60_CNT_SOCIAL_CIRCLE']\n",
        "application_train[cols_social_circle] = application_train[cols_social_circle].fillna(-99)\n",
        "application_test[cols_social_circle] = application_test[cols_social_circle].fillna(-99)\n",
        "\n",
        "cols_req_bureau = ['AMT_REQ_CREDIT_BUREAU_HOUR', 'AMT_REQ_CREDIT_BUREAU_DAY', 'AMT_REQ_CREDIT_BUREAU_WEEK',\n",
        "                   'AMT_REQ_CREDIT_BUREAU_MON', 'AMT_REQ_CREDIT_BUREAU_QRT', 'AMT_REQ_CREDIT_BUREAU_YEAR']\n",
        "application_train[cols_req_bureau] = application_train[cols_req_bureau].fillna(-99)\n",
        "application_test[cols_req_bureau] = application_test[cols_req_bureau].fillna(-99)"
      ],
      "execution_count": 14,
      "outputs": []
    },
    {
      "cell_type": "code",
      "metadata": {
        "id": "BkwX4E7GWtbC"
      },
      "source": [
        "categoricals = np.union1d(application_train.select_dtypes(['object']).columns, application_test.select_dtypes(['object']).columns)\n",
        "for cat in categoricals:\n",
        "  unique_values = list(set(application_train[cat].values).union(set(application_test[cat].values)))\n",
        "  application_train[cat] = pd.Categorical(application_train[cat], categories=unique_values)\n",
        "  application_test[cat] = pd.Categorical(application_test[cat], categories=unique_values)"
      ],
      "execution_count": 15,
      "outputs": []
    },
    {
      "cell_type": "code",
      "metadata": {
        "colab": {
          "base_uri": "https://localhost:8080/"
        },
        "id": "cdzC1rprV52E",
        "outputId": "bc431b09-f57d-4cc8-f1d5-b7dc19ca80ec"
      },
      "source": [
        "application_train.info()"
      ],
      "execution_count": 16,
      "outputs": [
        {
          "output_type": "stream",
          "text": [
            "<class 'pandas.core.frame.DataFrame'>\n",
            "RangeIndex: 307511 entries, 0 to 307510\n",
            "Data columns (total 65 columns):\n",
            " #   Column                       Non-Null Count   Dtype   \n",
            "---  ------                       --------------   -----   \n",
            " 0   SK_ID_CURR                   307511 non-null  int64   \n",
            " 1   TARGET                       307511 non-null  int64   \n",
            " 2   NAME_CONTRACT_TYPE           307511 non-null  category\n",
            " 3   CODE_GENDER                  307511 non-null  category\n",
            " 4   FLAG_OWN_CAR                 307511 non-null  category\n",
            " 5   FLAG_OWN_REALTY              307511 non-null  category\n",
            " 6   CNT_CHILDREN                 307511 non-null  int64   \n",
            " 7   AMT_INCOME_TOTAL             307511 non-null  float64 \n",
            " 8   AMT_CREDIT                   307511 non-null  float64 \n",
            " 9   AMT_ANNUITY                  307511 non-null  float64 \n",
            " 10  AMT_GOODS_PRICE              307511 non-null  float64 \n",
            " 11  NAME_INCOME_TYPE             307511 non-null  category\n",
            " 12  NAME_EDUCATION_TYPE          307511 non-null  category\n",
            " 13  NAME_FAMILY_STATUS           307511 non-null  category\n",
            " 14  NAME_HOUSING_TYPE            307511 non-null  category\n",
            " 15  DAYS_BIRTH                   307511 non-null  int64   \n",
            " 16  DAYS_EMPLOYED                307511 non-null  int64   \n",
            " 17  OWN_CAR_AGE                  307511 non-null  float64 \n",
            " 18  FLAG_MOBIL                   307511 non-null  int64   \n",
            " 19  FLAG_EMP_PHONE               307511 non-null  int64   \n",
            " 20  FLAG_WORK_PHONE              307511 non-null  int64   \n",
            " 21  FLAG_CONT_MOBILE             307511 non-null  int64   \n",
            " 22  FLAG_PHONE                   307511 non-null  int64   \n",
            " 23  FLAG_EMAIL                   307511 non-null  int64   \n",
            " 24  OCCUPATION_TYPE              307511 non-null  category\n",
            " 25  CNT_FAM_MEMBERS              307511 non-null  float64 \n",
            " 26  REGION_RATING_CLIENT         307511 non-null  int64   \n",
            " 27  REG_REGION_NOT_LIVE_REGION   307511 non-null  int64   \n",
            " 28  REG_REGION_NOT_WORK_REGION   307511 non-null  int64   \n",
            " 29  LIVE_REGION_NOT_WORK_REGION  307511 non-null  int64   \n",
            " 30  REG_CITY_NOT_LIVE_CITY       307511 non-null  int64   \n",
            " 31  REG_CITY_NOT_WORK_CITY       307511 non-null  int64   \n",
            " 32  LIVE_CITY_NOT_WORK_CITY      307511 non-null  int64   \n",
            " 33  ORGANIZATION_TYPE            307511 non-null  category\n",
            " 34  OBS_30_CNT_SOCIAL_CIRCLE     307511 non-null  float64 \n",
            " 35  DEF_30_CNT_SOCIAL_CIRCLE     307511 non-null  float64 \n",
            " 36  OBS_60_CNT_SOCIAL_CIRCLE     307511 non-null  float64 \n",
            " 37  DEF_60_CNT_SOCIAL_CIRCLE     307511 non-null  float64 \n",
            " 38  DAYS_LAST_PHONE_CHANGE       307511 non-null  float64 \n",
            " 39  FLAG_DOCUMENT_2              307511 non-null  int64   \n",
            " 40  FLAG_DOCUMENT_3              307511 non-null  int64   \n",
            " 41  FLAG_DOCUMENT_4              307511 non-null  int64   \n",
            " 42  FLAG_DOCUMENT_5              307511 non-null  int64   \n",
            " 43  FLAG_DOCUMENT_6              307511 non-null  int64   \n",
            " 44  FLAG_DOCUMENT_7              307511 non-null  int64   \n",
            " 45  FLAG_DOCUMENT_8              307511 non-null  int64   \n",
            " 46  FLAG_DOCUMENT_9              307511 non-null  int64   \n",
            " 47  FLAG_DOCUMENT_10             307511 non-null  int64   \n",
            " 48  FLAG_DOCUMENT_11             307511 non-null  int64   \n",
            " 49  FLAG_DOCUMENT_12             307511 non-null  int64   \n",
            " 50  FLAG_DOCUMENT_13             307511 non-null  int64   \n",
            " 51  FLAG_DOCUMENT_14             307511 non-null  int64   \n",
            " 52  FLAG_DOCUMENT_15             307511 non-null  int64   \n",
            " 53  FLAG_DOCUMENT_16             307511 non-null  int64   \n",
            " 54  FLAG_DOCUMENT_17             307511 non-null  int64   \n",
            " 55  FLAG_DOCUMENT_18             307511 non-null  int64   \n",
            " 56  FLAG_DOCUMENT_19             307511 non-null  int64   \n",
            " 57  FLAG_DOCUMENT_20             307511 non-null  int64   \n",
            " 58  FLAG_DOCUMENT_21             307511 non-null  int64   \n",
            " 59  AMT_REQ_CREDIT_BUREAU_HOUR   307511 non-null  float64 \n",
            " 60  AMT_REQ_CREDIT_BUREAU_DAY    307511 non-null  float64 \n",
            " 61  AMT_REQ_CREDIT_BUREAU_WEEK   307511 non-null  float64 \n",
            " 62  AMT_REQ_CREDIT_BUREAU_MON    307511 non-null  float64 \n",
            " 63  AMT_REQ_CREDIT_BUREAU_QRT    307511 non-null  float64 \n",
            " 64  AMT_REQ_CREDIT_BUREAU_YEAR   307511 non-null  float64 \n",
            "dtypes: category(10), float64(17), int64(38)\n",
            "memory usage: 132.0 MB\n"
          ],
          "name": "stdout"
        }
      ]
    },
    {
      "cell_type": "code",
      "metadata": {
        "colab": {
          "base_uri": "https://localhost:8080/"
        },
        "id": "Y3gMye0UbC9v",
        "outputId": "70694866-634f-464c-9d9b-3d703c7a61a5"
      },
      "source": [
        "application_test.info()"
      ],
      "execution_count": 17,
      "outputs": [
        {
          "output_type": "stream",
          "text": [
            "<class 'pandas.core.frame.DataFrame'>\n",
            "RangeIndex: 48744 entries, 0 to 48743\n",
            "Data columns (total 64 columns):\n",
            " #   Column                       Non-Null Count  Dtype   \n",
            "---  ------                       --------------  -----   \n",
            " 0   SK_ID_CURR                   48744 non-null  int64   \n",
            " 1   NAME_CONTRACT_TYPE           48744 non-null  category\n",
            " 2   CODE_GENDER                  48744 non-null  category\n",
            " 3   FLAG_OWN_CAR                 48744 non-null  category\n",
            " 4   FLAG_OWN_REALTY              48744 non-null  category\n",
            " 5   CNT_CHILDREN                 48744 non-null  int64   \n",
            " 6   AMT_INCOME_TOTAL             48744 non-null  float64 \n",
            " 7   AMT_CREDIT                   48744 non-null  float64 \n",
            " 8   AMT_ANNUITY                  48744 non-null  float64 \n",
            " 9   AMT_GOODS_PRICE              48744 non-null  float64 \n",
            " 10  NAME_INCOME_TYPE             48744 non-null  category\n",
            " 11  NAME_EDUCATION_TYPE          48744 non-null  category\n",
            " 12  NAME_FAMILY_STATUS           48744 non-null  category\n",
            " 13  NAME_HOUSING_TYPE            48744 non-null  category\n",
            " 14  DAYS_BIRTH                   48744 non-null  int64   \n",
            " 15  DAYS_EMPLOYED                48744 non-null  int64   \n",
            " 16  OWN_CAR_AGE                  48744 non-null  float64 \n",
            " 17  FLAG_MOBIL                   48744 non-null  int64   \n",
            " 18  FLAG_EMP_PHONE               48744 non-null  int64   \n",
            " 19  FLAG_WORK_PHONE              48744 non-null  int64   \n",
            " 20  FLAG_CONT_MOBILE             48744 non-null  int64   \n",
            " 21  FLAG_PHONE                   48744 non-null  int64   \n",
            " 22  FLAG_EMAIL                   48744 non-null  int64   \n",
            " 23  OCCUPATION_TYPE              48744 non-null  category\n",
            " 24  CNT_FAM_MEMBERS              48744 non-null  float64 \n",
            " 25  REGION_RATING_CLIENT         48744 non-null  int64   \n",
            " 26  REG_REGION_NOT_LIVE_REGION   48744 non-null  int64   \n",
            " 27  REG_REGION_NOT_WORK_REGION   48744 non-null  int64   \n",
            " 28  LIVE_REGION_NOT_WORK_REGION  48744 non-null  int64   \n",
            " 29  REG_CITY_NOT_LIVE_CITY       48744 non-null  int64   \n",
            " 30  REG_CITY_NOT_WORK_CITY       48744 non-null  int64   \n",
            " 31  LIVE_CITY_NOT_WORK_CITY      48744 non-null  int64   \n",
            " 32  ORGANIZATION_TYPE            48744 non-null  category\n",
            " 33  OBS_30_CNT_SOCIAL_CIRCLE     48744 non-null  float64 \n",
            " 34  DEF_30_CNT_SOCIAL_CIRCLE     48744 non-null  float64 \n",
            " 35  OBS_60_CNT_SOCIAL_CIRCLE     48744 non-null  float64 \n",
            " 36  DEF_60_CNT_SOCIAL_CIRCLE     48744 non-null  float64 \n",
            " 37  DAYS_LAST_PHONE_CHANGE       48744 non-null  float64 \n",
            " 38  FLAG_DOCUMENT_2              48744 non-null  int64   \n",
            " 39  FLAG_DOCUMENT_3              48744 non-null  int64   \n",
            " 40  FLAG_DOCUMENT_4              48744 non-null  int64   \n",
            " 41  FLAG_DOCUMENT_5              48744 non-null  int64   \n",
            " 42  FLAG_DOCUMENT_6              48744 non-null  int64   \n",
            " 43  FLAG_DOCUMENT_7              48744 non-null  int64   \n",
            " 44  FLAG_DOCUMENT_8              48744 non-null  int64   \n",
            " 45  FLAG_DOCUMENT_9              48744 non-null  int64   \n",
            " 46  FLAG_DOCUMENT_10             48744 non-null  int64   \n",
            " 47  FLAG_DOCUMENT_11             48744 non-null  int64   \n",
            " 48  FLAG_DOCUMENT_12             48744 non-null  int64   \n",
            " 49  FLAG_DOCUMENT_13             48744 non-null  int64   \n",
            " 50  FLAG_DOCUMENT_14             48744 non-null  int64   \n",
            " 51  FLAG_DOCUMENT_15             48744 non-null  int64   \n",
            " 52  FLAG_DOCUMENT_16             48744 non-null  int64   \n",
            " 53  FLAG_DOCUMENT_17             48744 non-null  int64   \n",
            " 54  FLAG_DOCUMENT_18             48744 non-null  int64   \n",
            " 55  FLAG_DOCUMENT_19             48744 non-null  int64   \n",
            " 56  FLAG_DOCUMENT_20             48744 non-null  int64   \n",
            " 57  FLAG_DOCUMENT_21             48744 non-null  int64   \n",
            " 58  AMT_REQ_CREDIT_BUREAU_HOUR   48744 non-null  float64 \n",
            " 59  AMT_REQ_CREDIT_BUREAU_DAY    48744 non-null  float64 \n",
            " 60  AMT_REQ_CREDIT_BUREAU_WEEK   48744 non-null  float64 \n",
            " 61  AMT_REQ_CREDIT_BUREAU_MON    48744 non-null  float64 \n",
            " 62  AMT_REQ_CREDIT_BUREAU_QRT    48744 non-null  float64 \n",
            " 63  AMT_REQ_CREDIT_BUREAU_YEAR   48744 non-null  float64 \n",
            "dtypes: category(10), float64(17), int64(37)\n",
            "memory usage: 20.6 MB\n"
          ],
          "name": "stdout"
        }
      ]
    },
    {
      "cell_type": "code",
      "metadata": {
        "id": "GJN5YFRnO6_g",
        "colab": {
          "base_uri": "https://localhost:8080/",
          "height": 51
        },
        "outputId": "e3a3b5f1-c9fc-4ba0-ca58-75d1733bd0ac"
      },
      "source": [
        "null_columns=application_train.columns[application_train.isnull().any()]\n",
        "display(application_train[null_columns].isnull().sum())\n",
        "\n",
        "null_columns=application_test.columns[application_test.isnull().any()]\n",
        "display(application_test[null_columns].isnull().sum())"
      ],
      "execution_count": 18,
      "outputs": [
        {
          "output_type": "display_data",
          "data": {
            "text/plain": [
              "Series([], dtype: float64)"
            ]
          },
          "metadata": {
            "tags": []
          }
        },
        {
          "output_type": "display_data",
          "data": {
            "text/plain": [
              "Series([], dtype: float64)"
            ]
          },
          "metadata": {
            "tags": []
          }
        }
      ]
    },
    {
      "cell_type": "code",
      "metadata": {
        "colab": {
          "base_uri": "https://localhost:8080/",
          "height": 292
        },
        "id": "oc9J9oCxUrXw",
        "outputId": "f71b7068-6f36-469f-8670-7bc9eb18e3ca"
      },
      "source": [
        "application_train.head()"
      ],
      "execution_count": 19,
      "outputs": [
        {
          "output_type": "execute_result",
          "data": {
            "text/html": [
              "<div>\n",
              "<style scoped>\n",
              "    .dataframe tbody tr th:only-of-type {\n",
              "        vertical-align: middle;\n",
              "    }\n",
              "\n",
              "    .dataframe tbody tr th {\n",
              "        vertical-align: top;\n",
              "    }\n",
              "\n",
              "    .dataframe thead th {\n",
              "        text-align: right;\n",
              "    }\n",
              "</style>\n",
              "<table border=\"1\" class=\"dataframe\">\n",
              "  <thead>\n",
              "    <tr style=\"text-align: right;\">\n",
              "      <th></th>\n",
              "      <th>SK_ID_CURR</th>\n",
              "      <th>TARGET</th>\n",
              "      <th>NAME_CONTRACT_TYPE</th>\n",
              "      <th>CODE_GENDER</th>\n",
              "      <th>FLAG_OWN_CAR</th>\n",
              "      <th>FLAG_OWN_REALTY</th>\n",
              "      <th>CNT_CHILDREN</th>\n",
              "      <th>AMT_INCOME_TOTAL</th>\n",
              "      <th>AMT_CREDIT</th>\n",
              "      <th>AMT_ANNUITY</th>\n",
              "      <th>AMT_GOODS_PRICE</th>\n",
              "      <th>NAME_INCOME_TYPE</th>\n",
              "      <th>NAME_EDUCATION_TYPE</th>\n",
              "      <th>NAME_FAMILY_STATUS</th>\n",
              "      <th>NAME_HOUSING_TYPE</th>\n",
              "      <th>DAYS_BIRTH</th>\n",
              "      <th>DAYS_EMPLOYED</th>\n",
              "      <th>OWN_CAR_AGE</th>\n",
              "      <th>FLAG_MOBIL</th>\n",
              "      <th>FLAG_EMP_PHONE</th>\n",
              "      <th>FLAG_WORK_PHONE</th>\n",
              "      <th>FLAG_CONT_MOBILE</th>\n",
              "      <th>FLAG_PHONE</th>\n",
              "      <th>FLAG_EMAIL</th>\n",
              "      <th>OCCUPATION_TYPE</th>\n",
              "      <th>CNT_FAM_MEMBERS</th>\n",
              "      <th>REGION_RATING_CLIENT</th>\n",
              "      <th>REG_REGION_NOT_LIVE_REGION</th>\n",
              "      <th>REG_REGION_NOT_WORK_REGION</th>\n",
              "      <th>LIVE_REGION_NOT_WORK_REGION</th>\n",
              "      <th>REG_CITY_NOT_LIVE_CITY</th>\n",
              "      <th>REG_CITY_NOT_WORK_CITY</th>\n",
              "      <th>LIVE_CITY_NOT_WORK_CITY</th>\n",
              "      <th>ORGANIZATION_TYPE</th>\n",
              "      <th>OBS_30_CNT_SOCIAL_CIRCLE</th>\n",
              "      <th>DEF_30_CNT_SOCIAL_CIRCLE</th>\n",
              "      <th>OBS_60_CNT_SOCIAL_CIRCLE</th>\n",
              "      <th>DEF_60_CNT_SOCIAL_CIRCLE</th>\n",
              "      <th>DAYS_LAST_PHONE_CHANGE</th>\n",
              "      <th>FLAG_DOCUMENT_2</th>\n",
              "      <th>FLAG_DOCUMENT_3</th>\n",
              "      <th>FLAG_DOCUMENT_4</th>\n",
              "      <th>FLAG_DOCUMENT_5</th>\n",
              "      <th>FLAG_DOCUMENT_6</th>\n",
              "      <th>FLAG_DOCUMENT_7</th>\n",
              "      <th>FLAG_DOCUMENT_8</th>\n",
              "      <th>FLAG_DOCUMENT_9</th>\n",
              "      <th>FLAG_DOCUMENT_10</th>\n",
              "      <th>FLAG_DOCUMENT_11</th>\n",
              "      <th>FLAG_DOCUMENT_12</th>\n",
              "      <th>FLAG_DOCUMENT_13</th>\n",
              "      <th>FLAG_DOCUMENT_14</th>\n",
              "      <th>FLAG_DOCUMENT_15</th>\n",
              "      <th>FLAG_DOCUMENT_16</th>\n",
              "      <th>FLAG_DOCUMENT_17</th>\n",
              "      <th>FLAG_DOCUMENT_18</th>\n",
              "      <th>FLAG_DOCUMENT_19</th>\n",
              "      <th>FLAG_DOCUMENT_20</th>\n",
              "      <th>FLAG_DOCUMENT_21</th>\n",
              "      <th>AMT_REQ_CREDIT_BUREAU_HOUR</th>\n",
              "      <th>AMT_REQ_CREDIT_BUREAU_DAY</th>\n",
              "      <th>AMT_REQ_CREDIT_BUREAU_WEEK</th>\n",
              "      <th>AMT_REQ_CREDIT_BUREAU_MON</th>\n",
              "      <th>AMT_REQ_CREDIT_BUREAU_QRT</th>\n",
              "      <th>AMT_REQ_CREDIT_BUREAU_YEAR</th>\n",
              "    </tr>\n",
              "  </thead>\n",
              "  <tbody>\n",
              "    <tr>\n",
              "      <th>0</th>\n",
              "      <td>100002</td>\n",
              "      <td>1</td>\n",
              "      <td>Cash loans</td>\n",
              "      <td>M</td>\n",
              "      <td>N</td>\n",
              "      <td>Y</td>\n",
              "      <td>0</td>\n",
              "      <td>202500.0</td>\n",
              "      <td>406597.5</td>\n",
              "      <td>24700.5</td>\n",
              "      <td>351000.0</td>\n",
              "      <td>Working</td>\n",
              "      <td>Secondary / secondary special</td>\n",
              "      <td>Single / not married</td>\n",
              "      <td>House / apartment</td>\n",
              "      <td>-9461</td>\n",
              "      <td>-637</td>\n",
              "      <td>-99.0</td>\n",
              "      <td>1</td>\n",
              "      <td>1</td>\n",
              "      <td>0</td>\n",
              "      <td>1</td>\n",
              "      <td>1</td>\n",
              "      <td>0</td>\n",
              "      <td>Laborers</td>\n",
              "      <td>1.0</td>\n",
              "      <td>2</td>\n",
              "      <td>0</td>\n",
              "      <td>0</td>\n",
              "      <td>0</td>\n",
              "      <td>0</td>\n",
              "      <td>0</td>\n",
              "      <td>0</td>\n",
              "      <td>Business Entity Type 3</td>\n",
              "      <td>2.0</td>\n",
              "      <td>2.0</td>\n",
              "      <td>2.0</td>\n",
              "      <td>2.0</td>\n",
              "      <td>-1134.0</td>\n",
              "      <td>0</td>\n",
              "      <td>1</td>\n",
              "      <td>0</td>\n",
              "      <td>0</td>\n",
              "      <td>0</td>\n",
              "      <td>0</td>\n",
              "      <td>0</td>\n",
              "      <td>0</td>\n",
              "      <td>0</td>\n",
              "      <td>0</td>\n",
              "      <td>0</td>\n",
              "      <td>0</td>\n",
              "      <td>0</td>\n",
              "      <td>0</td>\n",
              "      <td>0</td>\n",
              "      <td>0</td>\n",
              "      <td>0</td>\n",
              "      <td>0</td>\n",
              "      <td>0</td>\n",
              "      <td>0</td>\n",
              "      <td>0.0</td>\n",
              "      <td>0.0</td>\n",
              "      <td>0.0</td>\n",
              "      <td>0.0</td>\n",
              "      <td>0.0</td>\n",
              "      <td>1.0</td>\n",
              "    </tr>\n",
              "    <tr>\n",
              "      <th>1</th>\n",
              "      <td>100003</td>\n",
              "      <td>0</td>\n",
              "      <td>Cash loans</td>\n",
              "      <td>F</td>\n",
              "      <td>N</td>\n",
              "      <td>N</td>\n",
              "      <td>0</td>\n",
              "      <td>270000.0</td>\n",
              "      <td>1293502.5</td>\n",
              "      <td>35698.5</td>\n",
              "      <td>1129500.0</td>\n",
              "      <td>State servant</td>\n",
              "      <td>Higher education</td>\n",
              "      <td>Married</td>\n",
              "      <td>House / apartment</td>\n",
              "      <td>-16765</td>\n",
              "      <td>-1188</td>\n",
              "      <td>-99.0</td>\n",
              "      <td>1</td>\n",
              "      <td>1</td>\n",
              "      <td>0</td>\n",
              "      <td>1</td>\n",
              "      <td>1</td>\n",
              "      <td>0</td>\n",
              "      <td>Core staff</td>\n",
              "      <td>2.0</td>\n",
              "      <td>1</td>\n",
              "      <td>0</td>\n",
              "      <td>0</td>\n",
              "      <td>0</td>\n",
              "      <td>0</td>\n",
              "      <td>0</td>\n",
              "      <td>0</td>\n",
              "      <td>School</td>\n",
              "      <td>1.0</td>\n",
              "      <td>0.0</td>\n",
              "      <td>1.0</td>\n",
              "      <td>0.0</td>\n",
              "      <td>-828.0</td>\n",
              "      <td>0</td>\n",
              "      <td>1</td>\n",
              "      <td>0</td>\n",
              "      <td>0</td>\n",
              "      <td>0</td>\n",
              "      <td>0</td>\n",
              "      <td>0</td>\n",
              "      <td>0</td>\n",
              "      <td>0</td>\n",
              "      <td>0</td>\n",
              "      <td>0</td>\n",
              "      <td>0</td>\n",
              "      <td>0</td>\n",
              "      <td>0</td>\n",
              "      <td>0</td>\n",
              "      <td>0</td>\n",
              "      <td>0</td>\n",
              "      <td>0</td>\n",
              "      <td>0</td>\n",
              "      <td>0</td>\n",
              "      <td>0.0</td>\n",
              "      <td>0.0</td>\n",
              "      <td>0.0</td>\n",
              "      <td>0.0</td>\n",
              "      <td>0.0</td>\n",
              "      <td>0.0</td>\n",
              "    </tr>\n",
              "    <tr>\n",
              "      <th>2</th>\n",
              "      <td>100004</td>\n",
              "      <td>0</td>\n",
              "      <td>Revolving loans</td>\n",
              "      <td>M</td>\n",
              "      <td>Y</td>\n",
              "      <td>Y</td>\n",
              "      <td>0</td>\n",
              "      <td>67500.0</td>\n",
              "      <td>135000.0</td>\n",
              "      <td>6750.0</td>\n",
              "      <td>135000.0</td>\n",
              "      <td>Working</td>\n",
              "      <td>Secondary / secondary special</td>\n",
              "      <td>Single / not married</td>\n",
              "      <td>House / apartment</td>\n",
              "      <td>-19046</td>\n",
              "      <td>-225</td>\n",
              "      <td>26.0</td>\n",
              "      <td>1</td>\n",
              "      <td>1</td>\n",
              "      <td>1</td>\n",
              "      <td>1</td>\n",
              "      <td>1</td>\n",
              "      <td>0</td>\n",
              "      <td>Laborers</td>\n",
              "      <td>1.0</td>\n",
              "      <td>2</td>\n",
              "      <td>0</td>\n",
              "      <td>0</td>\n",
              "      <td>0</td>\n",
              "      <td>0</td>\n",
              "      <td>0</td>\n",
              "      <td>0</td>\n",
              "      <td>Government</td>\n",
              "      <td>0.0</td>\n",
              "      <td>0.0</td>\n",
              "      <td>0.0</td>\n",
              "      <td>0.0</td>\n",
              "      <td>-815.0</td>\n",
              "      <td>0</td>\n",
              "      <td>0</td>\n",
              "      <td>0</td>\n",
              "      <td>0</td>\n",
              "      <td>0</td>\n",
              "      <td>0</td>\n",
              "      <td>0</td>\n",
              "      <td>0</td>\n",
              "      <td>0</td>\n",
              "      <td>0</td>\n",
              "      <td>0</td>\n",
              "      <td>0</td>\n",
              "      <td>0</td>\n",
              "      <td>0</td>\n",
              "      <td>0</td>\n",
              "      <td>0</td>\n",
              "      <td>0</td>\n",
              "      <td>0</td>\n",
              "      <td>0</td>\n",
              "      <td>0</td>\n",
              "      <td>0.0</td>\n",
              "      <td>0.0</td>\n",
              "      <td>0.0</td>\n",
              "      <td>0.0</td>\n",
              "      <td>0.0</td>\n",
              "      <td>0.0</td>\n",
              "    </tr>\n",
              "    <tr>\n",
              "      <th>3</th>\n",
              "      <td>100006</td>\n",
              "      <td>0</td>\n",
              "      <td>Cash loans</td>\n",
              "      <td>F</td>\n",
              "      <td>N</td>\n",
              "      <td>Y</td>\n",
              "      <td>0</td>\n",
              "      <td>135000.0</td>\n",
              "      <td>312682.5</td>\n",
              "      <td>29686.5</td>\n",
              "      <td>297000.0</td>\n",
              "      <td>Working</td>\n",
              "      <td>Secondary / secondary special</td>\n",
              "      <td>Civil marriage</td>\n",
              "      <td>House / apartment</td>\n",
              "      <td>-19005</td>\n",
              "      <td>-3039</td>\n",
              "      <td>-99.0</td>\n",
              "      <td>1</td>\n",
              "      <td>1</td>\n",
              "      <td>0</td>\n",
              "      <td>1</td>\n",
              "      <td>0</td>\n",
              "      <td>0</td>\n",
              "      <td>Laborers</td>\n",
              "      <td>2.0</td>\n",
              "      <td>2</td>\n",
              "      <td>0</td>\n",
              "      <td>0</td>\n",
              "      <td>0</td>\n",
              "      <td>0</td>\n",
              "      <td>0</td>\n",
              "      <td>0</td>\n",
              "      <td>Business Entity Type 3</td>\n",
              "      <td>2.0</td>\n",
              "      <td>0.0</td>\n",
              "      <td>2.0</td>\n",
              "      <td>0.0</td>\n",
              "      <td>-617.0</td>\n",
              "      <td>0</td>\n",
              "      <td>1</td>\n",
              "      <td>0</td>\n",
              "      <td>0</td>\n",
              "      <td>0</td>\n",
              "      <td>0</td>\n",
              "      <td>0</td>\n",
              "      <td>0</td>\n",
              "      <td>0</td>\n",
              "      <td>0</td>\n",
              "      <td>0</td>\n",
              "      <td>0</td>\n",
              "      <td>0</td>\n",
              "      <td>0</td>\n",
              "      <td>0</td>\n",
              "      <td>0</td>\n",
              "      <td>0</td>\n",
              "      <td>0</td>\n",
              "      <td>0</td>\n",
              "      <td>0</td>\n",
              "      <td>-99.0</td>\n",
              "      <td>-99.0</td>\n",
              "      <td>-99.0</td>\n",
              "      <td>-99.0</td>\n",
              "      <td>-99.0</td>\n",
              "      <td>-99.0</td>\n",
              "    </tr>\n",
              "    <tr>\n",
              "      <th>4</th>\n",
              "      <td>100007</td>\n",
              "      <td>0</td>\n",
              "      <td>Cash loans</td>\n",
              "      <td>M</td>\n",
              "      <td>N</td>\n",
              "      <td>Y</td>\n",
              "      <td>0</td>\n",
              "      <td>121500.0</td>\n",
              "      <td>513000.0</td>\n",
              "      <td>21865.5</td>\n",
              "      <td>513000.0</td>\n",
              "      <td>Working</td>\n",
              "      <td>Secondary / secondary special</td>\n",
              "      <td>Single / not married</td>\n",
              "      <td>House / apartment</td>\n",
              "      <td>-19932</td>\n",
              "      <td>-3038</td>\n",
              "      <td>-99.0</td>\n",
              "      <td>1</td>\n",
              "      <td>1</td>\n",
              "      <td>0</td>\n",
              "      <td>1</td>\n",
              "      <td>0</td>\n",
              "      <td>0</td>\n",
              "      <td>Core staff</td>\n",
              "      <td>1.0</td>\n",
              "      <td>2</td>\n",
              "      <td>0</td>\n",
              "      <td>0</td>\n",
              "      <td>0</td>\n",
              "      <td>0</td>\n",
              "      <td>1</td>\n",
              "      <td>1</td>\n",
              "      <td>Religion</td>\n",
              "      <td>0.0</td>\n",
              "      <td>0.0</td>\n",
              "      <td>0.0</td>\n",
              "      <td>0.0</td>\n",
              "      <td>-1106.0</td>\n",
              "      <td>0</td>\n",
              "      <td>0</td>\n",
              "      <td>0</td>\n",
              "      <td>0</td>\n",
              "      <td>0</td>\n",
              "      <td>0</td>\n",
              "      <td>1</td>\n",
              "      <td>0</td>\n",
              "      <td>0</td>\n",
              "      <td>0</td>\n",
              "      <td>0</td>\n",
              "      <td>0</td>\n",
              "      <td>0</td>\n",
              "      <td>0</td>\n",
              "      <td>0</td>\n",
              "      <td>0</td>\n",
              "      <td>0</td>\n",
              "      <td>0</td>\n",
              "      <td>0</td>\n",
              "      <td>0</td>\n",
              "      <td>0.0</td>\n",
              "      <td>0.0</td>\n",
              "      <td>0.0</td>\n",
              "      <td>0.0</td>\n",
              "      <td>0.0</td>\n",
              "      <td>0.0</td>\n",
              "    </tr>\n",
              "  </tbody>\n",
              "</table>\n",
              "</div>"
            ],
            "text/plain": [
              "   SK_ID_CURR  TARGET NAME_CONTRACT_TYPE CODE_GENDER FLAG_OWN_CAR  \\\n",
              "0      100002       1         Cash loans           M            N   \n",
              "1      100003       0         Cash loans           F            N   \n",
              "2      100004       0    Revolving loans           M            Y   \n",
              "3      100006       0         Cash loans           F            N   \n",
              "4      100007       0         Cash loans           M            N   \n",
              "\n",
              "  FLAG_OWN_REALTY  CNT_CHILDREN  AMT_INCOME_TOTAL  AMT_CREDIT  AMT_ANNUITY  \\\n",
              "0               Y             0          202500.0    406597.5      24700.5   \n",
              "1               N             0          270000.0   1293502.5      35698.5   \n",
              "2               Y             0           67500.0    135000.0       6750.0   \n",
              "3               Y             0          135000.0    312682.5      29686.5   \n",
              "4               Y             0          121500.0    513000.0      21865.5   \n",
              "\n",
              "   AMT_GOODS_PRICE NAME_INCOME_TYPE            NAME_EDUCATION_TYPE  \\\n",
              "0         351000.0          Working  Secondary / secondary special   \n",
              "1        1129500.0    State servant               Higher education   \n",
              "2         135000.0          Working  Secondary / secondary special   \n",
              "3         297000.0          Working  Secondary / secondary special   \n",
              "4         513000.0          Working  Secondary / secondary special   \n",
              "\n",
              "     NAME_FAMILY_STATUS  NAME_HOUSING_TYPE  DAYS_BIRTH  DAYS_EMPLOYED  \\\n",
              "0  Single / not married  House / apartment       -9461           -637   \n",
              "1               Married  House / apartment      -16765          -1188   \n",
              "2  Single / not married  House / apartment      -19046           -225   \n",
              "3        Civil marriage  House / apartment      -19005          -3039   \n",
              "4  Single / not married  House / apartment      -19932          -3038   \n",
              "\n",
              "   OWN_CAR_AGE  FLAG_MOBIL  FLAG_EMP_PHONE  FLAG_WORK_PHONE  FLAG_CONT_MOBILE  \\\n",
              "0        -99.0           1               1                0                 1   \n",
              "1        -99.0           1               1                0                 1   \n",
              "2         26.0           1               1                1                 1   \n",
              "3        -99.0           1               1                0                 1   \n",
              "4        -99.0           1               1                0                 1   \n",
              "\n",
              "   FLAG_PHONE  FLAG_EMAIL OCCUPATION_TYPE  CNT_FAM_MEMBERS  \\\n",
              "0           1           0        Laborers              1.0   \n",
              "1           1           0      Core staff              2.0   \n",
              "2           1           0        Laborers              1.0   \n",
              "3           0           0        Laborers              2.0   \n",
              "4           0           0      Core staff              1.0   \n",
              "\n",
              "   REGION_RATING_CLIENT  REG_REGION_NOT_LIVE_REGION  \\\n",
              "0                     2                           0   \n",
              "1                     1                           0   \n",
              "2                     2                           0   \n",
              "3                     2                           0   \n",
              "4                     2                           0   \n",
              "\n",
              "   REG_REGION_NOT_WORK_REGION  LIVE_REGION_NOT_WORK_REGION  \\\n",
              "0                           0                            0   \n",
              "1                           0                            0   \n",
              "2                           0                            0   \n",
              "3                           0                            0   \n",
              "4                           0                            0   \n",
              "\n",
              "   REG_CITY_NOT_LIVE_CITY  REG_CITY_NOT_WORK_CITY  LIVE_CITY_NOT_WORK_CITY  \\\n",
              "0                       0                       0                        0   \n",
              "1                       0                       0                        0   \n",
              "2                       0                       0                        0   \n",
              "3                       0                       0                        0   \n",
              "4                       0                       1                        1   \n",
              "\n",
              "        ORGANIZATION_TYPE  OBS_30_CNT_SOCIAL_CIRCLE  DEF_30_CNT_SOCIAL_CIRCLE  \\\n",
              "0  Business Entity Type 3                       2.0                       2.0   \n",
              "1                  School                       1.0                       0.0   \n",
              "2              Government                       0.0                       0.0   \n",
              "3  Business Entity Type 3                       2.0                       0.0   \n",
              "4                Religion                       0.0                       0.0   \n",
              "\n",
              "   OBS_60_CNT_SOCIAL_CIRCLE  DEF_60_CNT_SOCIAL_CIRCLE  DAYS_LAST_PHONE_CHANGE  \\\n",
              "0                       2.0                       2.0                 -1134.0   \n",
              "1                       1.0                       0.0                  -828.0   \n",
              "2                       0.0                       0.0                  -815.0   \n",
              "3                       2.0                       0.0                  -617.0   \n",
              "4                       0.0                       0.0                 -1106.0   \n",
              "\n",
              "   FLAG_DOCUMENT_2  FLAG_DOCUMENT_3  FLAG_DOCUMENT_4  FLAG_DOCUMENT_5  \\\n",
              "0                0                1                0                0   \n",
              "1                0                1                0                0   \n",
              "2                0                0                0                0   \n",
              "3                0                1                0                0   \n",
              "4                0                0                0                0   \n",
              "\n",
              "   FLAG_DOCUMENT_6  FLAG_DOCUMENT_7  FLAG_DOCUMENT_8  FLAG_DOCUMENT_9  \\\n",
              "0                0                0                0                0   \n",
              "1                0                0                0                0   \n",
              "2                0                0                0                0   \n",
              "3                0                0                0                0   \n",
              "4                0                0                1                0   \n",
              "\n",
              "   FLAG_DOCUMENT_10  FLAG_DOCUMENT_11  FLAG_DOCUMENT_12  FLAG_DOCUMENT_13  \\\n",
              "0                 0                 0                 0                 0   \n",
              "1                 0                 0                 0                 0   \n",
              "2                 0                 0                 0                 0   \n",
              "3                 0                 0                 0                 0   \n",
              "4                 0                 0                 0                 0   \n",
              "\n",
              "   FLAG_DOCUMENT_14  FLAG_DOCUMENT_15  FLAG_DOCUMENT_16  FLAG_DOCUMENT_17  \\\n",
              "0                 0                 0                 0                 0   \n",
              "1                 0                 0                 0                 0   \n",
              "2                 0                 0                 0                 0   \n",
              "3                 0                 0                 0                 0   \n",
              "4                 0                 0                 0                 0   \n",
              "\n",
              "   FLAG_DOCUMENT_18  FLAG_DOCUMENT_19  FLAG_DOCUMENT_20  FLAG_DOCUMENT_21  \\\n",
              "0                 0                 0                 0                 0   \n",
              "1                 0                 0                 0                 0   \n",
              "2                 0                 0                 0                 0   \n",
              "3                 0                 0                 0                 0   \n",
              "4                 0                 0                 0                 0   \n",
              "\n",
              "   AMT_REQ_CREDIT_BUREAU_HOUR  AMT_REQ_CREDIT_BUREAU_DAY  \\\n",
              "0                         0.0                        0.0   \n",
              "1                         0.0                        0.0   \n",
              "2                         0.0                        0.0   \n",
              "3                       -99.0                      -99.0   \n",
              "4                         0.0                        0.0   \n",
              "\n",
              "   AMT_REQ_CREDIT_BUREAU_WEEK  AMT_REQ_CREDIT_BUREAU_MON  \\\n",
              "0                         0.0                        0.0   \n",
              "1                         0.0                        0.0   \n",
              "2                         0.0                        0.0   \n",
              "3                       -99.0                      -99.0   \n",
              "4                         0.0                        0.0   \n",
              "\n",
              "   AMT_REQ_CREDIT_BUREAU_QRT  AMT_REQ_CREDIT_BUREAU_YEAR  \n",
              "0                        0.0                         1.0  \n",
              "1                        0.0                         0.0  \n",
              "2                        0.0                         0.0  \n",
              "3                      -99.0                       -99.0  \n",
              "4                        0.0                         0.0  "
            ]
          },
          "metadata": {
            "tags": []
          },
          "execution_count": 19
        }
      ]
    },
    {
      "cell_type": "code",
      "metadata": {
        "colab": {
          "base_uri": "https://localhost:8080/",
          "height": 275
        },
        "id": "Lw14FwrTUsuB",
        "outputId": "6a01b7c0-cb5a-4761-de99-c5cd6e1c2619"
      },
      "source": [
        "application_test.head()"
      ],
      "execution_count": 20,
      "outputs": [
        {
          "output_type": "execute_result",
          "data": {
            "text/html": [
              "<div>\n",
              "<style scoped>\n",
              "    .dataframe tbody tr th:only-of-type {\n",
              "        vertical-align: middle;\n",
              "    }\n",
              "\n",
              "    .dataframe tbody tr th {\n",
              "        vertical-align: top;\n",
              "    }\n",
              "\n",
              "    .dataframe thead th {\n",
              "        text-align: right;\n",
              "    }\n",
              "</style>\n",
              "<table border=\"1\" class=\"dataframe\">\n",
              "  <thead>\n",
              "    <tr style=\"text-align: right;\">\n",
              "      <th></th>\n",
              "      <th>SK_ID_CURR</th>\n",
              "      <th>NAME_CONTRACT_TYPE</th>\n",
              "      <th>CODE_GENDER</th>\n",
              "      <th>FLAG_OWN_CAR</th>\n",
              "      <th>FLAG_OWN_REALTY</th>\n",
              "      <th>CNT_CHILDREN</th>\n",
              "      <th>AMT_INCOME_TOTAL</th>\n",
              "      <th>AMT_CREDIT</th>\n",
              "      <th>AMT_ANNUITY</th>\n",
              "      <th>AMT_GOODS_PRICE</th>\n",
              "      <th>NAME_INCOME_TYPE</th>\n",
              "      <th>NAME_EDUCATION_TYPE</th>\n",
              "      <th>NAME_FAMILY_STATUS</th>\n",
              "      <th>NAME_HOUSING_TYPE</th>\n",
              "      <th>DAYS_BIRTH</th>\n",
              "      <th>DAYS_EMPLOYED</th>\n",
              "      <th>OWN_CAR_AGE</th>\n",
              "      <th>FLAG_MOBIL</th>\n",
              "      <th>FLAG_EMP_PHONE</th>\n",
              "      <th>FLAG_WORK_PHONE</th>\n",
              "      <th>FLAG_CONT_MOBILE</th>\n",
              "      <th>FLAG_PHONE</th>\n",
              "      <th>FLAG_EMAIL</th>\n",
              "      <th>OCCUPATION_TYPE</th>\n",
              "      <th>CNT_FAM_MEMBERS</th>\n",
              "      <th>REGION_RATING_CLIENT</th>\n",
              "      <th>REG_REGION_NOT_LIVE_REGION</th>\n",
              "      <th>REG_REGION_NOT_WORK_REGION</th>\n",
              "      <th>LIVE_REGION_NOT_WORK_REGION</th>\n",
              "      <th>REG_CITY_NOT_LIVE_CITY</th>\n",
              "      <th>REG_CITY_NOT_WORK_CITY</th>\n",
              "      <th>LIVE_CITY_NOT_WORK_CITY</th>\n",
              "      <th>ORGANIZATION_TYPE</th>\n",
              "      <th>OBS_30_CNT_SOCIAL_CIRCLE</th>\n",
              "      <th>DEF_30_CNT_SOCIAL_CIRCLE</th>\n",
              "      <th>OBS_60_CNT_SOCIAL_CIRCLE</th>\n",
              "      <th>DEF_60_CNT_SOCIAL_CIRCLE</th>\n",
              "      <th>DAYS_LAST_PHONE_CHANGE</th>\n",
              "      <th>FLAG_DOCUMENT_2</th>\n",
              "      <th>FLAG_DOCUMENT_3</th>\n",
              "      <th>FLAG_DOCUMENT_4</th>\n",
              "      <th>FLAG_DOCUMENT_5</th>\n",
              "      <th>FLAG_DOCUMENT_6</th>\n",
              "      <th>FLAG_DOCUMENT_7</th>\n",
              "      <th>FLAG_DOCUMENT_8</th>\n",
              "      <th>FLAG_DOCUMENT_9</th>\n",
              "      <th>FLAG_DOCUMENT_10</th>\n",
              "      <th>FLAG_DOCUMENT_11</th>\n",
              "      <th>FLAG_DOCUMENT_12</th>\n",
              "      <th>FLAG_DOCUMENT_13</th>\n",
              "      <th>FLAG_DOCUMENT_14</th>\n",
              "      <th>FLAG_DOCUMENT_15</th>\n",
              "      <th>FLAG_DOCUMENT_16</th>\n",
              "      <th>FLAG_DOCUMENT_17</th>\n",
              "      <th>FLAG_DOCUMENT_18</th>\n",
              "      <th>FLAG_DOCUMENT_19</th>\n",
              "      <th>FLAG_DOCUMENT_20</th>\n",
              "      <th>FLAG_DOCUMENT_21</th>\n",
              "      <th>AMT_REQ_CREDIT_BUREAU_HOUR</th>\n",
              "      <th>AMT_REQ_CREDIT_BUREAU_DAY</th>\n",
              "      <th>AMT_REQ_CREDIT_BUREAU_WEEK</th>\n",
              "      <th>AMT_REQ_CREDIT_BUREAU_MON</th>\n",
              "      <th>AMT_REQ_CREDIT_BUREAU_QRT</th>\n",
              "      <th>AMT_REQ_CREDIT_BUREAU_YEAR</th>\n",
              "    </tr>\n",
              "  </thead>\n",
              "  <tbody>\n",
              "    <tr>\n",
              "      <th>0</th>\n",
              "      <td>100001</td>\n",
              "      <td>Cash loans</td>\n",
              "      <td>F</td>\n",
              "      <td>N</td>\n",
              "      <td>Y</td>\n",
              "      <td>0</td>\n",
              "      <td>135000.0</td>\n",
              "      <td>568800.0</td>\n",
              "      <td>20560.5</td>\n",
              "      <td>450000.0</td>\n",
              "      <td>Working</td>\n",
              "      <td>Higher education</td>\n",
              "      <td>Married</td>\n",
              "      <td>House / apartment</td>\n",
              "      <td>-19241</td>\n",
              "      <td>-2329</td>\n",
              "      <td>-99.0</td>\n",
              "      <td>1</td>\n",
              "      <td>1</td>\n",
              "      <td>0</td>\n",
              "      <td>1</td>\n",
              "      <td>0</td>\n",
              "      <td>1</td>\n",
              "      <td>Others</td>\n",
              "      <td>2.0</td>\n",
              "      <td>2</td>\n",
              "      <td>0</td>\n",
              "      <td>0</td>\n",
              "      <td>0</td>\n",
              "      <td>0</td>\n",
              "      <td>0</td>\n",
              "      <td>0</td>\n",
              "      <td>Kindergarten</td>\n",
              "      <td>0.0</td>\n",
              "      <td>0.0</td>\n",
              "      <td>0.0</td>\n",
              "      <td>0.0</td>\n",
              "      <td>-1740.0</td>\n",
              "      <td>0</td>\n",
              "      <td>1</td>\n",
              "      <td>0</td>\n",
              "      <td>0</td>\n",
              "      <td>0</td>\n",
              "      <td>0</td>\n",
              "      <td>0</td>\n",
              "      <td>0</td>\n",
              "      <td>0</td>\n",
              "      <td>0</td>\n",
              "      <td>0</td>\n",
              "      <td>0</td>\n",
              "      <td>0</td>\n",
              "      <td>0</td>\n",
              "      <td>0</td>\n",
              "      <td>0</td>\n",
              "      <td>0</td>\n",
              "      <td>0</td>\n",
              "      <td>0</td>\n",
              "      <td>0</td>\n",
              "      <td>0.0</td>\n",
              "      <td>0.0</td>\n",
              "      <td>0.0</td>\n",
              "      <td>0.0</td>\n",
              "      <td>0.0</td>\n",
              "      <td>0.0</td>\n",
              "    </tr>\n",
              "    <tr>\n",
              "      <th>1</th>\n",
              "      <td>100005</td>\n",
              "      <td>Cash loans</td>\n",
              "      <td>M</td>\n",
              "      <td>N</td>\n",
              "      <td>Y</td>\n",
              "      <td>0</td>\n",
              "      <td>99000.0</td>\n",
              "      <td>222768.0</td>\n",
              "      <td>17370.0</td>\n",
              "      <td>180000.0</td>\n",
              "      <td>Working</td>\n",
              "      <td>Secondary / secondary special</td>\n",
              "      <td>Married</td>\n",
              "      <td>House / apartment</td>\n",
              "      <td>-18064</td>\n",
              "      <td>-4469</td>\n",
              "      <td>-99.0</td>\n",
              "      <td>1</td>\n",
              "      <td>1</td>\n",
              "      <td>0</td>\n",
              "      <td>1</td>\n",
              "      <td>0</td>\n",
              "      <td>0</td>\n",
              "      <td>Low-skill Laborers</td>\n",
              "      <td>2.0</td>\n",
              "      <td>2</td>\n",
              "      <td>0</td>\n",
              "      <td>0</td>\n",
              "      <td>0</td>\n",
              "      <td>0</td>\n",
              "      <td>0</td>\n",
              "      <td>0</td>\n",
              "      <td>Self-employed</td>\n",
              "      <td>0.0</td>\n",
              "      <td>0.0</td>\n",
              "      <td>0.0</td>\n",
              "      <td>0.0</td>\n",
              "      <td>0.0</td>\n",
              "      <td>0</td>\n",
              "      <td>1</td>\n",
              "      <td>0</td>\n",
              "      <td>0</td>\n",
              "      <td>0</td>\n",
              "      <td>0</td>\n",
              "      <td>0</td>\n",
              "      <td>0</td>\n",
              "      <td>0</td>\n",
              "      <td>0</td>\n",
              "      <td>0</td>\n",
              "      <td>0</td>\n",
              "      <td>0</td>\n",
              "      <td>0</td>\n",
              "      <td>0</td>\n",
              "      <td>0</td>\n",
              "      <td>0</td>\n",
              "      <td>0</td>\n",
              "      <td>0</td>\n",
              "      <td>0</td>\n",
              "      <td>0.0</td>\n",
              "      <td>0.0</td>\n",
              "      <td>0.0</td>\n",
              "      <td>0.0</td>\n",
              "      <td>0.0</td>\n",
              "      <td>3.0</td>\n",
              "    </tr>\n",
              "    <tr>\n",
              "      <th>2</th>\n",
              "      <td>100013</td>\n",
              "      <td>Cash loans</td>\n",
              "      <td>M</td>\n",
              "      <td>Y</td>\n",
              "      <td>Y</td>\n",
              "      <td>0</td>\n",
              "      <td>202500.0</td>\n",
              "      <td>663264.0</td>\n",
              "      <td>69777.0</td>\n",
              "      <td>630000.0</td>\n",
              "      <td>Working</td>\n",
              "      <td>Higher education</td>\n",
              "      <td>Married</td>\n",
              "      <td>House / apartment</td>\n",
              "      <td>-20038</td>\n",
              "      <td>-4458</td>\n",
              "      <td>5.0</td>\n",
              "      <td>1</td>\n",
              "      <td>1</td>\n",
              "      <td>0</td>\n",
              "      <td>1</td>\n",
              "      <td>0</td>\n",
              "      <td>0</td>\n",
              "      <td>Drivers</td>\n",
              "      <td>2.0</td>\n",
              "      <td>2</td>\n",
              "      <td>0</td>\n",
              "      <td>0</td>\n",
              "      <td>0</td>\n",
              "      <td>0</td>\n",
              "      <td>0</td>\n",
              "      <td>0</td>\n",
              "      <td>Transport: type 3</td>\n",
              "      <td>0.0</td>\n",
              "      <td>0.0</td>\n",
              "      <td>0.0</td>\n",
              "      <td>0.0</td>\n",
              "      <td>-856.0</td>\n",
              "      <td>0</td>\n",
              "      <td>0</td>\n",
              "      <td>0</td>\n",
              "      <td>0</td>\n",
              "      <td>0</td>\n",
              "      <td>0</td>\n",
              "      <td>1</td>\n",
              "      <td>0</td>\n",
              "      <td>0</td>\n",
              "      <td>0</td>\n",
              "      <td>0</td>\n",
              "      <td>0</td>\n",
              "      <td>0</td>\n",
              "      <td>0</td>\n",
              "      <td>0</td>\n",
              "      <td>0</td>\n",
              "      <td>0</td>\n",
              "      <td>0</td>\n",
              "      <td>0</td>\n",
              "      <td>0</td>\n",
              "      <td>0.0</td>\n",
              "      <td>0.0</td>\n",
              "      <td>0.0</td>\n",
              "      <td>0.0</td>\n",
              "      <td>1.0</td>\n",
              "      <td>4.0</td>\n",
              "    </tr>\n",
              "    <tr>\n",
              "      <th>3</th>\n",
              "      <td>100028</td>\n",
              "      <td>Cash loans</td>\n",
              "      <td>F</td>\n",
              "      <td>N</td>\n",
              "      <td>Y</td>\n",
              "      <td>2</td>\n",
              "      <td>315000.0</td>\n",
              "      <td>1575000.0</td>\n",
              "      <td>49018.5</td>\n",
              "      <td>1575000.0</td>\n",
              "      <td>Working</td>\n",
              "      <td>Secondary / secondary special</td>\n",
              "      <td>Married</td>\n",
              "      <td>House / apartment</td>\n",
              "      <td>-13976</td>\n",
              "      <td>-1866</td>\n",
              "      <td>-99.0</td>\n",
              "      <td>1</td>\n",
              "      <td>1</td>\n",
              "      <td>0</td>\n",
              "      <td>1</td>\n",
              "      <td>1</td>\n",
              "      <td>0</td>\n",
              "      <td>Sales staff</td>\n",
              "      <td>4.0</td>\n",
              "      <td>2</td>\n",
              "      <td>0</td>\n",
              "      <td>0</td>\n",
              "      <td>0</td>\n",
              "      <td>0</td>\n",
              "      <td>0</td>\n",
              "      <td>0</td>\n",
              "      <td>Business Entity Type 3</td>\n",
              "      <td>0.0</td>\n",
              "      <td>0.0</td>\n",
              "      <td>0.0</td>\n",
              "      <td>0.0</td>\n",
              "      <td>-1805.0</td>\n",
              "      <td>0</td>\n",
              "      <td>1</td>\n",
              "      <td>0</td>\n",
              "      <td>0</td>\n",
              "      <td>0</td>\n",
              "      <td>0</td>\n",
              "      <td>0</td>\n",
              "      <td>0</td>\n",
              "      <td>0</td>\n",
              "      <td>0</td>\n",
              "      <td>0</td>\n",
              "      <td>0</td>\n",
              "      <td>0</td>\n",
              "      <td>0</td>\n",
              "      <td>0</td>\n",
              "      <td>0</td>\n",
              "      <td>0</td>\n",
              "      <td>0</td>\n",
              "      <td>0</td>\n",
              "      <td>0</td>\n",
              "      <td>0.0</td>\n",
              "      <td>0.0</td>\n",
              "      <td>0.0</td>\n",
              "      <td>0.0</td>\n",
              "      <td>0.0</td>\n",
              "      <td>3.0</td>\n",
              "    </tr>\n",
              "    <tr>\n",
              "      <th>4</th>\n",
              "      <td>100038</td>\n",
              "      <td>Cash loans</td>\n",
              "      <td>M</td>\n",
              "      <td>Y</td>\n",
              "      <td>N</td>\n",
              "      <td>1</td>\n",
              "      <td>180000.0</td>\n",
              "      <td>625500.0</td>\n",
              "      <td>32067.0</td>\n",
              "      <td>625500.0</td>\n",
              "      <td>Working</td>\n",
              "      <td>Secondary / secondary special</td>\n",
              "      <td>Married</td>\n",
              "      <td>House / apartment</td>\n",
              "      <td>-13040</td>\n",
              "      <td>-2191</td>\n",
              "      <td>16.0</td>\n",
              "      <td>1</td>\n",
              "      <td>1</td>\n",
              "      <td>1</td>\n",
              "      <td>1</td>\n",
              "      <td>0</td>\n",
              "      <td>0</td>\n",
              "      <td>Others</td>\n",
              "      <td>3.0</td>\n",
              "      <td>2</td>\n",
              "      <td>0</td>\n",
              "      <td>0</td>\n",
              "      <td>0</td>\n",
              "      <td>0</td>\n",
              "      <td>1</td>\n",
              "      <td>1</td>\n",
              "      <td>Business Entity Type 3</td>\n",
              "      <td>0.0</td>\n",
              "      <td>0.0</td>\n",
              "      <td>0.0</td>\n",
              "      <td>0.0</td>\n",
              "      <td>-821.0</td>\n",
              "      <td>0</td>\n",
              "      <td>1</td>\n",
              "      <td>0</td>\n",
              "      <td>0</td>\n",
              "      <td>0</td>\n",
              "      <td>0</td>\n",
              "      <td>0</td>\n",
              "      <td>0</td>\n",
              "      <td>0</td>\n",
              "      <td>0</td>\n",
              "      <td>0</td>\n",
              "      <td>0</td>\n",
              "      <td>0</td>\n",
              "      <td>0</td>\n",
              "      <td>0</td>\n",
              "      <td>0</td>\n",
              "      <td>0</td>\n",
              "      <td>0</td>\n",
              "      <td>0</td>\n",
              "      <td>0</td>\n",
              "      <td>-99.0</td>\n",
              "      <td>-99.0</td>\n",
              "      <td>-99.0</td>\n",
              "      <td>-99.0</td>\n",
              "      <td>-99.0</td>\n",
              "      <td>-99.0</td>\n",
              "    </tr>\n",
              "  </tbody>\n",
              "</table>\n",
              "</div>"
            ],
            "text/plain": [
              "   SK_ID_CURR NAME_CONTRACT_TYPE CODE_GENDER FLAG_OWN_CAR FLAG_OWN_REALTY  \\\n",
              "0      100001         Cash loans           F            N               Y   \n",
              "1      100005         Cash loans           M            N               Y   \n",
              "2      100013         Cash loans           M            Y               Y   \n",
              "3      100028         Cash loans           F            N               Y   \n",
              "4      100038         Cash loans           M            Y               N   \n",
              "\n",
              "   CNT_CHILDREN  AMT_INCOME_TOTAL  AMT_CREDIT  AMT_ANNUITY  AMT_GOODS_PRICE  \\\n",
              "0             0          135000.0    568800.0      20560.5         450000.0   \n",
              "1             0           99000.0    222768.0      17370.0         180000.0   \n",
              "2             0          202500.0    663264.0      69777.0         630000.0   \n",
              "3             2          315000.0   1575000.0      49018.5        1575000.0   \n",
              "4             1          180000.0    625500.0      32067.0         625500.0   \n",
              "\n",
              "  NAME_INCOME_TYPE            NAME_EDUCATION_TYPE NAME_FAMILY_STATUS  \\\n",
              "0          Working               Higher education            Married   \n",
              "1          Working  Secondary / secondary special            Married   \n",
              "2          Working               Higher education            Married   \n",
              "3          Working  Secondary / secondary special            Married   \n",
              "4          Working  Secondary / secondary special            Married   \n",
              "\n",
              "   NAME_HOUSING_TYPE  DAYS_BIRTH  DAYS_EMPLOYED  OWN_CAR_AGE  FLAG_MOBIL  \\\n",
              "0  House / apartment      -19241          -2329        -99.0           1   \n",
              "1  House / apartment      -18064          -4469        -99.0           1   \n",
              "2  House / apartment      -20038          -4458          5.0           1   \n",
              "3  House / apartment      -13976          -1866        -99.0           1   \n",
              "4  House / apartment      -13040          -2191         16.0           1   \n",
              "\n",
              "   FLAG_EMP_PHONE  FLAG_WORK_PHONE  FLAG_CONT_MOBILE  FLAG_PHONE  FLAG_EMAIL  \\\n",
              "0               1                0                 1           0           1   \n",
              "1               1                0                 1           0           0   \n",
              "2               1                0                 1           0           0   \n",
              "3               1                0                 1           1           0   \n",
              "4               1                1                 1           0           0   \n",
              "\n",
              "      OCCUPATION_TYPE  CNT_FAM_MEMBERS  REGION_RATING_CLIENT  \\\n",
              "0              Others              2.0                     2   \n",
              "1  Low-skill Laborers              2.0                     2   \n",
              "2             Drivers              2.0                     2   \n",
              "3         Sales staff              4.0                     2   \n",
              "4              Others              3.0                     2   \n",
              "\n",
              "   REG_REGION_NOT_LIVE_REGION  REG_REGION_NOT_WORK_REGION  \\\n",
              "0                           0                           0   \n",
              "1                           0                           0   \n",
              "2                           0                           0   \n",
              "3                           0                           0   \n",
              "4                           0                           0   \n",
              "\n",
              "   LIVE_REGION_NOT_WORK_REGION  REG_CITY_NOT_LIVE_CITY  \\\n",
              "0                            0                       0   \n",
              "1                            0                       0   \n",
              "2                            0                       0   \n",
              "3                            0                       0   \n",
              "4                            0                       0   \n",
              "\n",
              "   REG_CITY_NOT_WORK_CITY  LIVE_CITY_NOT_WORK_CITY       ORGANIZATION_TYPE  \\\n",
              "0                       0                        0            Kindergarten   \n",
              "1                       0                        0           Self-employed   \n",
              "2                       0                        0       Transport: type 3   \n",
              "3                       0                        0  Business Entity Type 3   \n",
              "4                       1                        1  Business Entity Type 3   \n",
              "\n",
              "   OBS_30_CNT_SOCIAL_CIRCLE  DEF_30_CNT_SOCIAL_CIRCLE  \\\n",
              "0                       0.0                       0.0   \n",
              "1                       0.0                       0.0   \n",
              "2                       0.0                       0.0   \n",
              "3                       0.0                       0.0   \n",
              "4                       0.0                       0.0   \n",
              "\n",
              "   OBS_60_CNT_SOCIAL_CIRCLE  DEF_60_CNT_SOCIAL_CIRCLE  DAYS_LAST_PHONE_CHANGE  \\\n",
              "0                       0.0                       0.0                 -1740.0   \n",
              "1                       0.0                       0.0                     0.0   \n",
              "2                       0.0                       0.0                  -856.0   \n",
              "3                       0.0                       0.0                 -1805.0   \n",
              "4                       0.0                       0.0                  -821.0   \n",
              "\n",
              "   FLAG_DOCUMENT_2  FLAG_DOCUMENT_3  FLAG_DOCUMENT_4  FLAG_DOCUMENT_5  \\\n",
              "0                0                1                0                0   \n",
              "1                0                1                0                0   \n",
              "2                0                0                0                0   \n",
              "3                0                1                0                0   \n",
              "4                0                1                0                0   \n",
              "\n",
              "   FLAG_DOCUMENT_6  FLAG_DOCUMENT_7  FLAG_DOCUMENT_8  FLAG_DOCUMENT_9  \\\n",
              "0                0                0                0                0   \n",
              "1                0                0                0                0   \n",
              "2                0                0                1                0   \n",
              "3                0                0                0                0   \n",
              "4                0                0                0                0   \n",
              "\n",
              "   FLAG_DOCUMENT_10  FLAG_DOCUMENT_11  FLAG_DOCUMENT_12  FLAG_DOCUMENT_13  \\\n",
              "0                 0                 0                 0                 0   \n",
              "1                 0                 0                 0                 0   \n",
              "2                 0                 0                 0                 0   \n",
              "3                 0                 0                 0                 0   \n",
              "4                 0                 0                 0                 0   \n",
              "\n",
              "   FLAG_DOCUMENT_14  FLAG_DOCUMENT_15  FLAG_DOCUMENT_16  FLAG_DOCUMENT_17  \\\n",
              "0                 0                 0                 0                 0   \n",
              "1                 0                 0                 0                 0   \n",
              "2                 0                 0                 0                 0   \n",
              "3                 0                 0                 0                 0   \n",
              "4                 0                 0                 0                 0   \n",
              "\n",
              "   FLAG_DOCUMENT_18  FLAG_DOCUMENT_19  FLAG_DOCUMENT_20  FLAG_DOCUMENT_21  \\\n",
              "0                 0                 0                 0                 0   \n",
              "1                 0                 0                 0                 0   \n",
              "2                 0                 0                 0                 0   \n",
              "3                 0                 0                 0                 0   \n",
              "4                 0                 0                 0                 0   \n",
              "\n",
              "   AMT_REQ_CREDIT_BUREAU_HOUR  AMT_REQ_CREDIT_BUREAU_DAY  \\\n",
              "0                         0.0                        0.0   \n",
              "1                         0.0                        0.0   \n",
              "2                         0.0                        0.0   \n",
              "3                         0.0                        0.0   \n",
              "4                       -99.0                      -99.0   \n",
              "\n",
              "   AMT_REQ_CREDIT_BUREAU_WEEK  AMT_REQ_CREDIT_BUREAU_MON  \\\n",
              "0                         0.0                        0.0   \n",
              "1                         0.0                        0.0   \n",
              "2                         0.0                        0.0   \n",
              "3                         0.0                        0.0   \n",
              "4                       -99.0                      -99.0   \n",
              "\n",
              "   AMT_REQ_CREDIT_BUREAU_QRT  AMT_REQ_CREDIT_BUREAU_YEAR  \n",
              "0                        0.0                         0.0  \n",
              "1                        0.0                         3.0  \n",
              "2                        1.0                         4.0  \n",
              "3                        0.0                         3.0  \n",
              "4                      -99.0                       -99.0  "
            ]
          },
          "metadata": {
            "tags": []
          },
          "execution_count": 20
        }
      ]
    },
    {
      "cell_type": "markdown",
      "metadata": {
        "id": "ikTvVzVFbGOu"
      },
      "source": [
        "No nulls anymore and it's on the correct formatting. Now we will move on into different table to extract some more informations"
      ]
    },
    {
      "cell_type": "markdown",
      "metadata": {
        "id": "Ewq6RTfU5Zq1"
      },
      "source": [
        "## Previous Application DF"
      ]
    },
    {
      "cell_type": "code",
      "metadata": {
        "id": "kAgYaa0p43et",
        "colab": {
          "base_uri": "https://localhost:8080/"
        },
        "outputId": "f7cdbd03-be36-477a-dd01-1c9c308c26d8"
      },
      "source": [
        "previous_application.info()"
      ],
      "execution_count": 21,
      "outputs": [
        {
          "output_type": "stream",
          "text": [
            "<class 'pandas.core.frame.DataFrame'>\n",
            "RangeIndex: 1670214 entries, 0 to 1670213\n",
            "Data columns (total 16 columns):\n",
            " #   Column                    Non-Null Count    Dtype  \n",
            "---  ------                    --------------    -----  \n",
            " 0   SK_ID_PREV                1670214 non-null  int64  \n",
            " 1   SK_ID_CURR                1670214 non-null  int64  \n",
            " 2   NAME_CONTRACT_TYPE        1670214 non-null  object \n",
            " 3   AMT_ANNUITY               1297979 non-null  float64\n",
            " 4   AMT_APPLICATION           1670214 non-null  float64\n",
            " 5   AMT_CREDIT                1670213 non-null  float64\n",
            " 6   AMT_DOWN_PAYMENT          774370 non-null   float64\n",
            " 7   AMT_GOODS_PRICE           1284699 non-null  float64\n",
            " 8   RATE_DOWN_PAYMENT         774370 non-null   float64\n",
            " 9   RATE_INTEREST_PRIMARY     5951 non-null     float64\n",
            " 10  RATE_INTEREST_PRIVILEGED  5951 non-null     float64\n",
            " 11  NAME_CONTRACT_STATUS      1670214 non-null  object \n",
            " 12  CODE_REJECT_REASON        1670214 non-null  object \n",
            " 13  NAME_CLIENT_TYPE          1670214 non-null  object \n",
            " 14  NAME_PORTFOLIO            1670214 non-null  object \n",
            " 15  NAME_PRODUCT_TYPE         1670214 non-null  object \n",
            "dtypes: float64(8), int64(2), object(6)\n",
            "memory usage: 203.9+ MB\n"
          ],
          "name": "stdout"
        }
      ]
    },
    {
      "cell_type": "code",
      "metadata": {
        "colab": {
          "base_uri": "https://localhost:8080/"
        },
        "id": "P7MODnfP6dSe",
        "outputId": "41451928-507f-44ab-b7fc-8bc99b18b570"
      },
      "source": [
        "previous_application.info()"
      ],
      "execution_count": 22,
      "outputs": [
        {
          "output_type": "stream",
          "text": [
            "<class 'pandas.core.frame.DataFrame'>\n",
            "RangeIndex: 1670214 entries, 0 to 1670213\n",
            "Data columns (total 16 columns):\n",
            " #   Column                    Non-Null Count    Dtype  \n",
            "---  ------                    --------------    -----  \n",
            " 0   SK_ID_PREV                1670214 non-null  int64  \n",
            " 1   SK_ID_CURR                1670214 non-null  int64  \n",
            " 2   NAME_CONTRACT_TYPE        1670214 non-null  object \n",
            " 3   AMT_ANNUITY               1297979 non-null  float64\n",
            " 4   AMT_APPLICATION           1670214 non-null  float64\n",
            " 5   AMT_CREDIT                1670213 non-null  float64\n",
            " 6   AMT_DOWN_PAYMENT          774370 non-null   float64\n",
            " 7   AMT_GOODS_PRICE           1284699 non-null  float64\n",
            " 8   RATE_DOWN_PAYMENT         774370 non-null   float64\n",
            " 9   RATE_INTEREST_PRIMARY     5951 non-null     float64\n",
            " 10  RATE_INTEREST_PRIVILEGED  5951 non-null     float64\n",
            " 11  NAME_CONTRACT_STATUS      1670214 non-null  object \n",
            " 12  CODE_REJECT_REASON        1670214 non-null  object \n",
            " 13  NAME_CLIENT_TYPE          1670214 non-null  object \n",
            " 14  NAME_PORTFOLIO            1670214 non-null  object \n",
            " 15  NAME_PRODUCT_TYPE         1670214 non-null  object \n",
            "dtypes: float64(8), int64(2), object(6)\n",
            "memory usage: 203.9+ MB\n"
          ],
          "name": "stdout"
        }
      ]
    },
    {
      "cell_type": "code",
      "metadata": {
        "id": "BptEBReFs-5j"
      },
      "source": [
        "# previous_application.sort_values(by=['SK_ID_CURR','SK_ID_PREV'], inplace=True)\n",
        "categorical_columns=['NAME_CONTRACT_TYPE','NAME_CONTRACT_STATUS','CODE_REJECT_REASON',\n",
        "                    'NAME_CLIENT_TYPE','NAME_PORTFOLIO', 'NAME_PRODUCT_TYPE']\n",
        "\n",
        "previous_application_summary = pd.DataFrame(index=(set(previous_application['SK_ID_CURR'].values)))\n",
        "\n",
        "for cat in categorical_columns:\n",
        "  grouped = previous_application.groupby(['SK_ID_CURR', cat])['SK_ID_PREV'].agg(['count']).unstack(level=-1)\n",
        "  grouped.columns = grouped.columns.get_level_values(1).map(lambda x: grouped.columns.names[1]+'_'+x.upper())\n",
        "  previous_application_summary = previous_application_summary.merge(grouped, how='left', left_index=True, right_index=True)\n",
        "\n",
        "previous_application_summary.fillna(0, inplace=True) #NA entries means no count so it will be imputted with 0"
      ],
      "execution_count": 23,
      "outputs": []
    },
    {
      "cell_type": "code",
      "metadata": {
        "id": "v77QVVeDoCjZ"
      },
      "source": [
        "numerical_cols = np.setdiff1d(previous_application.select_dtypes(['int64','float64']).columns, ['SK_ID_PREV', 'SK_ID_CURR'])\n",
        "grouped = previous_application.groupby(['SK_ID_CURR'])[numerical_cols].agg(['mean', 'sum'])\n",
        "grouped.columns = grouped.columns.map('_'.join).str.upper()"
      ],
      "execution_count": 24,
      "outputs": []
    },
    {
      "cell_type": "code",
      "metadata": {
        "id": "LSpdstHUy83B"
      },
      "source": [
        "previous_application_summary = previous_application_summary.merge(grouped, how='left', left_index=True, right_index=True)"
      ],
      "execution_count": 25,
      "outputs": []
    },
    {
      "cell_type": "code",
      "metadata": {
        "colab": {
          "base_uri": "https://localhost:8080/"
        },
        "id": "LbDoAFcGT0UB",
        "outputId": "97cc4157-57ea-4c95-9f1d-f588d54adf8d"
      },
      "source": [
        "null_columns=previous_application_summary.columns[previous_application_summary.isnull().any()]\n",
        "previous_application_summary[null_columns].isnull().sum()"
      ],
      "execution_count": 26,
      "outputs": [
        {
          "output_type": "execute_result",
          "data": {
            "text/plain": [
              "AMT_ANNUITY_MEAN                    480\n",
              "AMT_DOWN_PAYMENT_MEAN             20104\n",
              "AMT_GOODS_PRICE_MEAN               1064\n",
              "RATE_DOWN_PAYMENT_MEAN            20104\n",
              "RATE_INTEREST_PRIMARY_MEAN       333136\n",
              "RATE_INTEREST_PRIVILEGED_MEAN    333136\n",
              "dtype: int64"
            ]
          },
          "metadata": {
            "tags": []
          },
          "execution_count": 26
        }
      ]
    },
    {
      "cell_type": "code",
      "metadata": {
        "colab": {
          "base_uri": "https://localhost:8080/",
          "height": 241
        },
        "id": "uESvqDV1Hy-0",
        "outputId": "1b7e649b-c371-4a36-e01e-026d3486bfed"
      },
      "source": [
        "del previous_application\n",
        "previous_application_summary.head()"
      ],
      "execution_count": 27,
      "outputs": [
        {
          "output_type": "execute_result",
          "data": {
            "text/html": [
              "<div>\n",
              "<style scoped>\n",
              "    .dataframe tbody tr th:only-of-type {\n",
              "        vertical-align: middle;\n",
              "    }\n",
              "\n",
              "    .dataframe tbody tr th {\n",
              "        vertical-align: top;\n",
              "    }\n",
              "\n",
              "    .dataframe thead th {\n",
              "        text-align: right;\n",
              "    }\n",
              "</style>\n",
              "<table border=\"1\" class=\"dataframe\">\n",
              "  <thead>\n",
              "    <tr style=\"text-align: right;\">\n",
              "      <th></th>\n",
              "      <th>NAME_CONTRACT_TYPE_CASH LOANS</th>\n",
              "      <th>NAME_CONTRACT_TYPE_CONSUMER LOANS</th>\n",
              "      <th>NAME_CONTRACT_TYPE_REVOLVING LOANS</th>\n",
              "      <th>NAME_CONTRACT_TYPE_XNA</th>\n",
              "      <th>NAME_CONTRACT_STATUS_APPROVED</th>\n",
              "      <th>NAME_CONTRACT_STATUS_CANCELED</th>\n",
              "      <th>NAME_CONTRACT_STATUS_REFUSED</th>\n",
              "      <th>NAME_CONTRACT_STATUS_UNUSED OFFER</th>\n",
              "      <th>CODE_REJECT_REASON_CLIENT</th>\n",
              "      <th>CODE_REJECT_REASON_HC</th>\n",
              "      <th>CODE_REJECT_REASON_LIMIT</th>\n",
              "      <th>CODE_REJECT_REASON_SCO</th>\n",
              "      <th>CODE_REJECT_REASON_SCOFR</th>\n",
              "      <th>CODE_REJECT_REASON_SYSTEM</th>\n",
              "      <th>CODE_REJECT_REASON_VERIF</th>\n",
              "      <th>CODE_REJECT_REASON_XAP</th>\n",
              "      <th>CODE_REJECT_REASON_XNA</th>\n",
              "      <th>NAME_CLIENT_TYPE_NEW</th>\n",
              "      <th>NAME_CLIENT_TYPE_REFRESHED</th>\n",
              "      <th>NAME_CLIENT_TYPE_REPEATER</th>\n",
              "      <th>NAME_CLIENT_TYPE_XNA</th>\n",
              "      <th>NAME_PORTFOLIO_CARDS</th>\n",
              "      <th>NAME_PORTFOLIO_CARS</th>\n",
              "      <th>NAME_PORTFOLIO_CASH</th>\n",
              "      <th>NAME_PORTFOLIO_POS</th>\n",
              "      <th>NAME_PORTFOLIO_XNA</th>\n",
              "      <th>NAME_PRODUCT_TYPE_XNA</th>\n",
              "      <th>NAME_PRODUCT_TYPE_WALK-IN</th>\n",
              "      <th>NAME_PRODUCT_TYPE_X-SELL</th>\n",
              "      <th>AMT_ANNUITY_MEAN</th>\n",
              "      <th>AMT_ANNUITY_SUM</th>\n",
              "      <th>AMT_APPLICATION_MEAN</th>\n",
              "      <th>AMT_APPLICATION_SUM</th>\n",
              "      <th>AMT_CREDIT_MEAN</th>\n",
              "      <th>AMT_CREDIT_SUM</th>\n",
              "      <th>AMT_DOWN_PAYMENT_MEAN</th>\n",
              "      <th>AMT_DOWN_PAYMENT_SUM</th>\n",
              "      <th>AMT_GOODS_PRICE_MEAN</th>\n",
              "      <th>AMT_GOODS_PRICE_SUM</th>\n",
              "      <th>RATE_DOWN_PAYMENT_MEAN</th>\n",
              "      <th>RATE_DOWN_PAYMENT_SUM</th>\n",
              "      <th>RATE_INTEREST_PRIMARY_MEAN</th>\n",
              "      <th>RATE_INTEREST_PRIMARY_SUM</th>\n",
              "      <th>RATE_INTEREST_PRIVILEGED_MEAN</th>\n",
              "      <th>RATE_INTEREST_PRIVILEGED_SUM</th>\n",
              "    </tr>\n",
              "  </thead>\n",
              "  <tbody>\n",
              "    <tr>\n",
              "      <th>100001</th>\n",
              "      <td>0.0</td>\n",
              "      <td>1.0</td>\n",
              "      <td>0.0</td>\n",
              "      <td>0.0</td>\n",
              "      <td>1.0</td>\n",
              "      <td>0.0</td>\n",
              "      <td>0.0</td>\n",
              "      <td>0.0</td>\n",
              "      <td>0.0</td>\n",
              "      <td>0.0</td>\n",
              "      <td>0.0</td>\n",
              "      <td>0.0</td>\n",
              "      <td>0.0</td>\n",
              "      <td>0.0</td>\n",
              "      <td>0.0</td>\n",
              "      <td>1.0</td>\n",
              "      <td>0.0</td>\n",
              "      <td>0.0</td>\n",
              "      <td>1.0</td>\n",
              "      <td>0.0</td>\n",
              "      <td>0.0</td>\n",
              "      <td>0.0</td>\n",
              "      <td>0.0</td>\n",
              "      <td>0.0</td>\n",
              "      <td>1.0</td>\n",
              "      <td>0.0</td>\n",
              "      <td>1.0</td>\n",
              "      <td>0.0</td>\n",
              "      <td>0.0</td>\n",
              "      <td>3951.000</td>\n",
              "      <td>3951.000</td>\n",
              "      <td>24835.50</td>\n",
              "      <td>24835.5</td>\n",
              "      <td>23787.00</td>\n",
              "      <td>23787.0</td>\n",
              "      <td>2520.0</td>\n",
              "      <td>2520.0</td>\n",
              "      <td>24835.5</td>\n",
              "      <td>24835.5</td>\n",
              "      <td>0.104326</td>\n",
              "      <td>0.104326</td>\n",
              "      <td>NaN</td>\n",
              "      <td>0.0</td>\n",
              "      <td>NaN</td>\n",
              "      <td>0.0</td>\n",
              "    </tr>\n",
              "    <tr>\n",
              "      <th>100002</th>\n",
              "      <td>0.0</td>\n",
              "      <td>1.0</td>\n",
              "      <td>0.0</td>\n",
              "      <td>0.0</td>\n",
              "      <td>1.0</td>\n",
              "      <td>0.0</td>\n",
              "      <td>0.0</td>\n",
              "      <td>0.0</td>\n",
              "      <td>0.0</td>\n",
              "      <td>0.0</td>\n",
              "      <td>0.0</td>\n",
              "      <td>0.0</td>\n",
              "      <td>0.0</td>\n",
              "      <td>0.0</td>\n",
              "      <td>0.0</td>\n",
              "      <td>1.0</td>\n",
              "      <td>0.0</td>\n",
              "      <td>1.0</td>\n",
              "      <td>0.0</td>\n",
              "      <td>0.0</td>\n",
              "      <td>0.0</td>\n",
              "      <td>0.0</td>\n",
              "      <td>0.0</td>\n",
              "      <td>0.0</td>\n",
              "      <td>1.0</td>\n",
              "      <td>0.0</td>\n",
              "      <td>1.0</td>\n",
              "      <td>0.0</td>\n",
              "      <td>0.0</td>\n",
              "      <td>9251.775</td>\n",
              "      <td>9251.775</td>\n",
              "      <td>179055.00</td>\n",
              "      <td>179055.0</td>\n",
              "      <td>179055.00</td>\n",
              "      <td>179055.0</td>\n",
              "      <td>0.0</td>\n",
              "      <td>0.0</td>\n",
              "      <td>179055.0</td>\n",
              "      <td>179055.0</td>\n",
              "      <td>0.000000</td>\n",
              "      <td>0.000000</td>\n",
              "      <td>NaN</td>\n",
              "      <td>0.0</td>\n",
              "      <td>NaN</td>\n",
              "      <td>0.0</td>\n",
              "    </tr>\n",
              "    <tr>\n",
              "      <th>100003</th>\n",
              "      <td>1.0</td>\n",
              "      <td>2.0</td>\n",
              "      <td>0.0</td>\n",
              "      <td>0.0</td>\n",
              "      <td>3.0</td>\n",
              "      <td>0.0</td>\n",
              "      <td>0.0</td>\n",
              "      <td>0.0</td>\n",
              "      <td>0.0</td>\n",
              "      <td>0.0</td>\n",
              "      <td>0.0</td>\n",
              "      <td>0.0</td>\n",
              "      <td>0.0</td>\n",
              "      <td>0.0</td>\n",
              "      <td>0.0</td>\n",
              "      <td>3.0</td>\n",
              "      <td>0.0</td>\n",
              "      <td>0.0</td>\n",
              "      <td>2.0</td>\n",
              "      <td>1.0</td>\n",
              "      <td>0.0</td>\n",
              "      <td>0.0</td>\n",
              "      <td>0.0</td>\n",
              "      <td>1.0</td>\n",
              "      <td>2.0</td>\n",
              "      <td>0.0</td>\n",
              "      <td>2.0</td>\n",
              "      <td>0.0</td>\n",
              "      <td>1.0</td>\n",
              "      <td>56553.990</td>\n",
              "      <td>169661.970</td>\n",
              "      <td>435436.50</td>\n",
              "      <td>1306309.5</td>\n",
              "      <td>484191.00</td>\n",
              "      <td>1452573.0</td>\n",
              "      <td>3442.5</td>\n",
              "      <td>6885.0</td>\n",
              "      <td>435436.5</td>\n",
              "      <td>1306309.5</td>\n",
              "      <td>0.050030</td>\n",
              "      <td>0.100061</td>\n",
              "      <td>NaN</td>\n",
              "      <td>0.0</td>\n",
              "      <td>NaN</td>\n",
              "      <td>0.0</td>\n",
              "    </tr>\n",
              "    <tr>\n",
              "      <th>100004</th>\n",
              "      <td>0.0</td>\n",
              "      <td>1.0</td>\n",
              "      <td>0.0</td>\n",
              "      <td>0.0</td>\n",
              "      <td>1.0</td>\n",
              "      <td>0.0</td>\n",
              "      <td>0.0</td>\n",
              "      <td>0.0</td>\n",
              "      <td>0.0</td>\n",
              "      <td>0.0</td>\n",
              "      <td>0.0</td>\n",
              "      <td>0.0</td>\n",
              "      <td>0.0</td>\n",
              "      <td>0.0</td>\n",
              "      <td>0.0</td>\n",
              "      <td>1.0</td>\n",
              "      <td>0.0</td>\n",
              "      <td>1.0</td>\n",
              "      <td>0.0</td>\n",
              "      <td>0.0</td>\n",
              "      <td>0.0</td>\n",
              "      <td>0.0</td>\n",
              "      <td>0.0</td>\n",
              "      <td>0.0</td>\n",
              "      <td>1.0</td>\n",
              "      <td>0.0</td>\n",
              "      <td>1.0</td>\n",
              "      <td>0.0</td>\n",
              "      <td>0.0</td>\n",
              "      <td>5357.250</td>\n",
              "      <td>5357.250</td>\n",
              "      <td>24282.00</td>\n",
              "      <td>24282.0</td>\n",
              "      <td>20106.00</td>\n",
              "      <td>20106.0</td>\n",
              "      <td>4860.0</td>\n",
              "      <td>4860.0</td>\n",
              "      <td>24282.0</td>\n",
              "      <td>24282.0</td>\n",
              "      <td>0.212008</td>\n",
              "      <td>0.212008</td>\n",
              "      <td>NaN</td>\n",
              "      <td>0.0</td>\n",
              "      <td>NaN</td>\n",
              "      <td>0.0</td>\n",
              "    </tr>\n",
              "    <tr>\n",
              "      <th>100005</th>\n",
              "      <td>1.0</td>\n",
              "      <td>1.0</td>\n",
              "      <td>0.0</td>\n",
              "      <td>0.0</td>\n",
              "      <td>1.0</td>\n",
              "      <td>1.0</td>\n",
              "      <td>0.0</td>\n",
              "      <td>0.0</td>\n",
              "      <td>0.0</td>\n",
              "      <td>0.0</td>\n",
              "      <td>0.0</td>\n",
              "      <td>0.0</td>\n",
              "      <td>0.0</td>\n",
              "      <td>0.0</td>\n",
              "      <td>0.0</td>\n",
              "      <td>2.0</td>\n",
              "      <td>0.0</td>\n",
              "      <td>1.0</td>\n",
              "      <td>0.0</td>\n",
              "      <td>1.0</td>\n",
              "      <td>0.0</td>\n",
              "      <td>0.0</td>\n",
              "      <td>0.0</td>\n",
              "      <td>0.0</td>\n",
              "      <td>1.0</td>\n",
              "      <td>1.0</td>\n",
              "      <td>2.0</td>\n",
              "      <td>0.0</td>\n",
              "      <td>0.0</td>\n",
              "      <td>4813.200</td>\n",
              "      <td>4813.200</td>\n",
              "      <td>22308.75</td>\n",
              "      <td>44617.5</td>\n",
              "      <td>20076.75</td>\n",
              "      <td>40153.5</td>\n",
              "      <td>4464.0</td>\n",
              "      <td>4464.0</td>\n",
              "      <td>44617.5</td>\n",
              "      <td>44617.5</td>\n",
              "      <td>0.108964</td>\n",
              "      <td>0.108964</td>\n",
              "      <td>NaN</td>\n",
              "      <td>0.0</td>\n",
              "      <td>NaN</td>\n",
              "      <td>0.0</td>\n",
              "    </tr>\n",
              "  </tbody>\n",
              "</table>\n",
              "</div>"
            ],
            "text/plain": [
              "        NAME_CONTRACT_TYPE_CASH LOANS  NAME_CONTRACT_TYPE_CONSUMER LOANS  \\\n",
              "100001                            0.0                                1.0   \n",
              "100002                            0.0                                1.0   \n",
              "100003                            1.0                                2.0   \n",
              "100004                            0.0                                1.0   \n",
              "100005                            1.0                                1.0   \n",
              "\n",
              "        NAME_CONTRACT_TYPE_REVOLVING LOANS  NAME_CONTRACT_TYPE_XNA  \\\n",
              "100001                                 0.0                     0.0   \n",
              "100002                                 0.0                     0.0   \n",
              "100003                                 0.0                     0.0   \n",
              "100004                                 0.0                     0.0   \n",
              "100005                                 0.0                     0.0   \n",
              "\n",
              "        NAME_CONTRACT_STATUS_APPROVED  NAME_CONTRACT_STATUS_CANCELED  \\\n",
              "100001                            1.0                            0.0   \n",
              "100002                            1.0                            0.0   \n",
              "100003                            3.0                            0.0   \n",
              "100004                            1.0                            0.0   \n",
              "100005                            1.0                            1.0   \n",
              "\n",
              "        NAME_CONTRACT_STATUS_REFUSED  NAME_CONTRACT_STATUS_UNUSED OFFER  \\\n",
              "100001                           0.0                                0.0   \n",
              "100002                           0.0                                0.0   \n",
              "100003                           0.0                                0.0   \n",
              "100004                           0.0                                0.0   \n",
              "100005                           0.0                                0.0   \n",
              "\n",
              "        CODE_REJECT_REASON_CLIENT  CODE_REJECT_REASON_HC  \\\n",
              "100001                        0.0                    0.0   \n",
              "100002                        0.0                    0.0   \n",
              "100003                        0.0                    0.0   \n",
              "100004                        0.0                    0.0   \n",
              "100005                        0.0                    0.0   \n",
              "\n",
              "        CODE_REJECT_REASON_LIMIT  CODE_REJECT_REASON_SCO  \\\n",
              "100001                       0.0                     0.0   \n",
              "100002                       0.0                     0.0   \n",
              "100003                       0.0                     0.0   \n",
              "100004                       0.0                     0.0   \n",
              "100005                       0.0                     0.0   \n",
              "\n",
              "        CODE_REJECT_REASON_SCOFR  CODE_REJECT_REASON_SYSTEM  \\\n",
              "100001                       0.0                        0.0   \n",
              "100002                       0.0                        0.0   \n",
              "100003                       0.0                        0.0   \n",
              "100004                       0.0                        0.0   \n",
              "100005                       0.0                        0.0   \n",
              "\n",
              "        CODE_REJECT_REASON_VERIF  CODE_REJECT_REASON_XAP  \\\n",
              "100001                       0.0                     1.0   \n",
              "100002                       0.0                     1.0   \n",
              "100003                       0.0                     3.0   \n",
              "100004                       0.0                     1.0   \n",
              "100005                       0.0                     2.0   \n",
              "\n",
              "        CODE_REJECT_REASON_XNA  NAME_CLIENT_TYPE_NEW  \\\n",
              "100001                     0.0                   0.0   \n",
              "100002                     0.0                   1.0   \n",
              "100003                     0.0                   0.0   \n",
              "100004                     0.0                   1.0   \n",
              "100005                     0.0                   1.0   \n",
              "\n",
              "        NAME_CLIENT_TYPE_REFRESHED  NAME_CLIENT_TYPE_REPEATER  \\\n",
              "100001                         1.0                        0.0   \n",
              "100002                         0.0                        0.0   \n",
              "100003                         2.0                        1.0   \n",
              "100004                         0.0                        0.0   \n",
              "100005                         0.0                        1.0   \n",
              "\n",
              "        NAME_CLIENT_TYPE_XNA  NAME_PORTFOLIO_CARDS  NAME_PORTFOLIO_CARS  \\\n",
              "100001                   0.0                   0.0                  0.0   \n",
              "100002                   0.0                   0.0                  0.0   \n",
              "100003                   0.0                   0.0                  0.0   \n",
              "100004                   0.0                   0.0                  0.0   \n",
              "100005                   0.0                   0.0                  0.0   \n",
              "\n",
              "        NAME_PORTFOLIO_CASH  NAME_PORTFOLIO_POS  NAME_PORTFOLIO_XNA  \\\n",
              "100001                  0.0                 1.0                 0.0   \n",
              "100002                  0.0                 1.0                 0.0   \n",
              "100003                  1.0                 2.0                 0.0   \n",
              "100004                  0.0                 1.0                 0.0   \n",
              "100005                  0.0                 1.0                 1.0   \n",
              "\n",
              "        NAME_PRODUCT_TYPE_XNA  NAME_PRODUCT_TYPE_WALK-IN  \\\n",
              "100001                    1.0                        0.0   \n",
              "100002                    1.0                        0.0   \n",
              "100003                    2.0                        0.0   \n",
              "100004                    1.0                        0.0   \n",
              "100005                    2.0                        0.0   \n",
              "\n",
              "        NAME_PRODUCT_TYPE_X-SELL  AMT_ANNUITY_MEAN  AMT_ANNUITY_SUM  \\\n",
              "100001                       0.0          3951.000         3951.000   \n",
              "100002                       0.0          9251.775         9251.775   \n",
              "100003                       1.0         56553.990       169661.970   \n",
              "100004                       0.0          5357.250         5357.250   \n",
              "100005                       0.0          4813.200         4813.200   \n",
              "\n",
              "        AMT_APPLICATION_MEAN  AMT_APPLICATION_SUM  AMT_CREDIT_MEAN  \\\n",
              "100001              24835.50              24835.5         23787.00   \n",
              "100002             179055.00             179055.0        179055.00   \n",
              "100003             435436.50            1306309.5        484191.00   \n",
              "100004              24282.00              24282.0         20106.00   \n",
              "100005              22308.75              44617.5         20076.75   \n",
              "\n",
              "        AMT_CREDIT_SUM  AMT_DOWN_PAYMENT_MEAN  AMT_DOWN_PAYMENT_SUM  \\\n",
              "100001         23787.0                 2520.0                2520.0   \n",
              "100002        179055.0                    0.0                   0.0   \n",
              "100003       1452573.0                 3442.5                6885.0   \n",
              "100004         20106.0                 4860.0                4860.0   \n",
              "100005         40153.5                 4464.0                4464.0   \n",
              "\n",
              "        AMT_GOODS_PRICE_MEAN  AMT_GOODS_PRICE_SUM  RATE_DOWN_PAYMENT_MEAN  \\\n",
              "100001               24835.5              24835.5                0.104326   \n",
              "100002              179055.0             179055.0                0.000000   \n",
              "100003              435436.5            1306309.5                0.050030   \n",
              "100004               24282.0              24282.0                0.212008   \n",
              "100005               44617.5              44617.5                0.108964   \n",
              "\n",
              "        RATE_DOWN_PAYMENT_SUM  RATE_INTEREST_PRIMARY_MEAN  \\\n",
              "100001               0.104326                         NaN   \n",
              "100002               0.000000                         NaN   \n",
              "100003               0.100061                         NaN   \n",
              "100004               0.212008                         NaN   \n",
              "100005               0.108964                         NaN   \n",
              "\n",
              "        RATE_INTEREST_PRIMARY_SUM  RATE_INTEREST_PRIVILEGED_MEAN  \\\n",
              "100001                        0.0                            NaN   \n",
              "100002                        0.0                            NaN   \n",
              "100003                        0.0                            NaN   \n",
              "100004                        0.0                            NaN   \n",
              "100005                        0.0                            NaN   \n",
              "\n",
              "        RATE_INTEREST_PRIVILEGED_SUM  \n",
              "100001                           0.0  \n",
              "100002                           0.0  \n",
              "100003                           0.0  \n",
              "100004                           0.0  \n",
              "100005                           0.0  "
            ]
          },
          "metadata": {
            "tags": []
          },
          "execution_count": 27
        }
      ]
    },
    {
      "cell_type": "markdown",
      "metadata": {
        "id": "pesJcs6T5gK7"
      },
      "source": [
        "## Instalment Payment DF"
      ]
    },
    {
      "cell_type": "code",
      "metadata": {
        "id": "bVSPMeo9qwuQ"
      },
      "source": [
        "# installments_payment.sort_values(by=['SK_ID_CURR','SK_ID_PREV'], inplace=True)\n",
        "installments_payment['DAYS_ENTRY_PAYMENT'].fillna(-1, inplace=True)\n",
        "installments_payment['LATE_DAYS']=np.where(installments_payment['DAYS_ENTRY_PAYMENT']-installments_payment['DAYS_INSTALMENT']>0,installments_payment['DAYS_ENTRY_PAYMENT']-installments_payment['DAYS_INSTALMENT'],0)\n",
        "\n",
        "installments_payment['AMT_PAYMENT'].fillna(0, inplace=True)\n",
        "installments_payment['AMT_UNPAID']=(installments_payment['AMT_INSTALMENT']-installments_payment['AMT_PAYMENT'])\n",
        "installments_payment.drop(['DAYS_ENTRY_PAYMENT','DAYS_INSTALMENT','AMT_INSTALMENT','AMT_PAYMENT'], axis=1, inplace=True)"
      ],
      "execution_count": 28,
      "outputs": []
    },
    {
      "cell_type": "code",
      "metadata": {
        "colab": {
          "base_uri": "https://localhost:8080/"
        },
        "id": "9wT5GlC3NaUK",
        "outputId": "82d8825d-de09-44a4-963d-3c7c5db1bb44"
      },
      "source": [
        "installments_payment_summary = installments_payment.groupby(['SK_ID_CURR'])['LATE_DAYS', 'AMT_UNPAID'].agg(['mean', 'sum', 'max'])\n",
        "installments_payment_summary.columns = installments_payment_summary.columns.map('_'.join).str.upper().to_list()"
      ],
      "execution_count": 29,
      "outputs": [
        {
          "output_type": "stream",
          "text": [
            "/usr/local/lib/python3.7/dist-packages/ipykernel_launcher.py:1: FutureWarning: Indexing with multiple keys (implicitly converted to a tuple of keys) will be deprecated, use a list instead.\n",
            "  \"\"\"Entry point for launching an IPython kernel.\n"
          ],
          "name": "stderr"
        }
      ]
    },
    {
      "cell_type": "code",
      "metadata": {
        "colab": {
          "base_uri": "https://localhost:8080/"
        },
        "id": "46sXIYIqUnFM",
        "outputId": "d92f13fb-c706-4656-adac-2935b06ad083"
      },
      "source": [
        "null_columns=installments_payment_summary.columns[installments_payment_summary.isnull().any()]\n",
        "installments_payment_summary[null_columns].isnull().sum()"
      ],
      "execution_count": 30,
      "outputs": [
        {
          "output_type": "execute_result",
          "data": {
            "text/plain": [
              "Series([], dtype: float64)"
            ]
          },
          "metadata": {
            "tags": []
          },
          "execution_count": 30
        }
      ]
    },
    {
      "cell_type": "code",
      "metadata": {
        "colab": {
          "base_uri": "https://localhost:8080/",
          "height": 235
        },
        "id": "2Uh0ypA0OAi7",
        "outputId": "bfce493c-eedd-451f-e2c3-3b526f7e03dc"
      },
      "source": [
        "del installments_payment\n",
        "installments_payment_summary.head()"
      ],
      "execution_count": 31,
      "outputs": [
        {
          "output_type": "execute_result",
          "data": {
            "text/html": [
              "<div>\n",
              "<style scoped>\n",
              "    .dataframe tbody tr th:only-of-type {\n",
              "        vertical-align: middle;\n",
              "    }\n",
              "\n",
              "    .dataframe tbody tr th {\n",
              "        vertical-align: top;\n",
              "    }\n",
              "\n",
              "    .dataframe thead th {\n",
              "        text-align: right;\n",
              "    }\n",
              "</style>\n",
              "<table border=\"1\" class=\"dataframe\">\n",
              "  <thead>\n",
              "    <tr style=\"text-align: right;\">\n",
              "      <th></th>\n",
              "      <th>LATE_DAYS_MEAN</th>\n",
              "      <th>LATE_DAYS_SUM</th>\n",
              "      <th>LATE_DAYS_MAX</th>\n",
              "      <th>AMT_UNPAID_MEAN</th>\n",
              "      <th>AMT_UNPAID_SUM</th>\n",
              "      <th>AMT_UNPAID_MAX</th>\n",
              "    </tr>\n",
              "    <tr>\n",
              "      <th>SK_ID_CURR</th>\n",
              "      <th></th>\n",
              "      <th></th>\n",
              "      <th></th>\n",
              "      <th></th>\n",
              "      <th></th>\n",
              "      <th></th>\n",
              "    </tr>\n",
              "  </thead>\n",
              "  <tbody>\n",
              "    <tr>\n",
              "      <th>100001</th>\n",
              "      <td>1.571429</td>\n",
              "      <td>11.0</td>\n",
              "      <td>11.0</td>\n",
              "      <td>0.0</td>\n",
              "      <td>0.0</td>\n",
              "      <td>0.0</td>\n",
              "    </tr>\n",
              "    <tr>\n",
              "      <th>100002</th>\n",
              "      <td>0.000000</td>\n",
              "      <td>0.0</td>\n",
              "      <td>0.0</td>\n",
              "      <td>0.0</td>\n",
              "      <td>0.0</td>\n",
              "      <td>0.0</td>\n",
              "    </tr>\n",
              "    <tr>\n",
              "      <th>100003</th>\n",
              "      <td>0.000000</td>\n",
              "      <td>0.0</td>\n",
              "      <td>0.0</td>\n",
              "      <td>0.0</td>\n",
              "      <td>0.0</td>\n",
              "      <td>0.0</td>\n",
              "    </tr>\n",
              "    <tr>\n",
              "      <th>100004</th>\n",
              "      <td>0.000000</td>\n",
              "      <td>0.0</td>\n",
              "      <td>0.0</td>\n",
              "      <td>0.0</td>\n",
              "      <td>0.0</td>\n",
              "      <td>0.0</td>\n",
              "    </tr>\n",
              "    <tr>\n",
              "      <th>100005</th>\n",
              "      <td>0.111111</td>\n",
              "      <td>1.0</td>\n",
              "      <td>1.0</td>\n",
              "      <td>0.0</td>\n",
              "      <td>0.0</td>\n",
              "      <td>0.0</td>\n",
              "    </tr>\n",
              "  </tbody>\n",
              "</table>\n",
              "</div>"
            ],
            "text/plain": [
              "            LATE_DAYS_MEAN  LATE_DAYS_SUM  LATE_DAYS_MAX  AMT_UNPAID_MEAN  \\\n",
              "SK_ID_CURR                                                                  \n",
              "100001            1.571429           11.0           11.0              0.0   \n",
              "100002            0.000000            0.0            0.0              0.0   \n",
              "100003            0.000000            0.0            0.0              0.0   \n",
              "100004            0.000000            0.0            0.0              0.0   \n",
              "100005            0.111111            1.0            1.0              0.0   \n",
              "\n",
              "            AMT_UNPAID_SUM  AMT_UNPAID_MAX  \n",
              "SK_ID_CURR                                  \n",
              "100001                 0.0             0.0  \n",
              "100002                 0.0             0.0  \n",
              "100003                 0.0             0.0  \n",
              "100004                 0.0             0.0  \n",
              "100005                 0.0             0.0  "
            ]
          },
          "metadata": {
            "tags": []
          },
          "execution_count": 31
        }
      ]
    },
    {
      "cell_type": "markdown",
      "metadata": {
        "id": "EBMEZ-OZ5wzl"
      },
      "source": [
        "## Bureau Merged DF"
      ]
    },
    {
      "cell_type": "code",
      "metadata": {
        "colab": {
          "base_uri": "https://localhost:8080/"
        },
        "id": "Rg7K7XxVY1QS",
        "outputId": "244eeb7f-128a-498f-c6f9-7e2b2fa8486a"
      },
      "source": [
        "null_columns=bureau_merged.columns[bureau_merged.isnull().any()]\n",
        "bureau_merged[null_columns].isnull().sum()"
      ],
      "execution_count": 32,
      "outputs": [
        {
          "output_type": "execute_result",
          "data": {
            "text/plain": [
              "DAYS_CREDIT_ENDDATE        1177501\n",
              "DAYS_ENDDATE_FACT          5628643\n",
              "AMT_CREDIT_MAX_OVERDUE    17545903\n",
              "AMT_CREDIT_SUM                   5\n",
              "AMT_CREDIT_SUM_DEBT        4089077\n",
              "AMT_CREDIT_SUM_LIMIT      10376144\n",
              "AMT_ANNUITY                9553957\n",
              "dtype: int64"
            ]
          },
          "metadata": {
            "tags": []
          },
          "execution_count": 32
        }
      ]
    },
    {
      "cell_type": "code",
      "metadata": {
        "id": "Z5pXzwI1oTCr"
      },
      "source": [
        "bureau_merged['DAYS_CREDIT_ENDDATE'] = np.where(bureau_merged['DAYS_CREDIT_ENDDATE']<0, 0, bureau_merged['DAYS_CREDIT_ENDDATE'])\n",
        "bureau_merged['AMT_CREDIT_SUM_DEBT'] = np.where(bureau_merged['AMT_CREDIT_SUM_DEBT']<0, 0, bureau_merged['AMT_CREDIT_SUM_DEBT'])\n",
        "bureau_merged['AMT_CREDIT_SUM_LIMIT'] = np.where(bureau_merged['AMT_CREDIT_SUM_LIMIT']<0, 0, bureau_merged['AMT_CREDIT_SUM_LIMIT'])\n",
        "bureau_merged['DAYS_ENDDATE_FACT'].fillna(0, inplace=True)"
      ],
      "execution_count": 33,
      "outputs": []
    },
    {
      "cell_type": "code",
      "metadata": {
        "colab": {
          "base_uri": "https://localhost:8080/"
        },
        "id": "3PoFcvpU4Y1M",
        "outputId": "2e4c03fa-771c-417b-c964-0cea5193b89a"
      },
      "source": [
        "bureau_merged.info()"
      ],
      "execution_count": 34,
      "outputs": [
        {
          "output_type": "stream",
          "text": [
            "<class 'pandas.core.frame.DataFrame'>\n",
            "Int64Index: 24179741 entries, 0 to 24179740\n",
            "Data columns (total 19 columns):\n",
            " #   Column                  Dtype  \n",
            "---  ------                  -----  \n",
            " 0   SK_ID_CURR              int64  \n",
            " 1   SK_ID_BUREAU            int64  \n",
            " 2   CREDIT_ACTIVE           object \n",
            " 3   CREDIT_CURRENCY         object \n",
            " 4   DAYS_CREDIT             int64  \n",
            " 5   CREDIT_DAY_OVERDUE      int64  \n",
            " 6   DAYS_CREDIT_ENDDATE     float64\n",
            " 7   DAYS_ENDDATE_FACT       float64\n",
            " 8   AMT_CREDIT_MAX_OVERDUE  float64\n",
            " 9   CNT_CREDIT_PROLONG      int64  \n",
            " 10  AMT_CREDIT_SUM          float64\n",
            " 11  AMT_CREDIT_SUM_DEBT     float64\n",
            " 12  AMT_CREDIT_SUM_LIMIT    float64\n",
            " 13  AMT_CREDIT_SUM_OVERDUE  float64\n",
            " 14  CREDIT_TYPE             object \n",
            " 15  DAYS_CREDIT_UPDATE      int64  \n",
            " 16  AMT_ANNUITY             float64\n",
            " 17  MONTHS_BALANCE          int64  \n",
            " 18  STATUS                  object \n",
            "dtypes: float64(8), int64(7), object(4)\n",
            "memory usage: 3.6+ GB\n"
          ],
          "name": "stdout"
        }
      ]
    },
    {
      "cell_type": "code",
      "metadata": {
        "id": "Tl6s8RYMw37S"
      },
      "source": [
        "# #temp values for no info\n",
        "# bureau_merged['DAYS_CREDIT_ENDDATE'].fillna(-99, inplace=True)\n",
        "# bureau_merged['AMT_CREDIT_SUM_DEBT'].fillna(-99, inplace=True)\n",
        "# bureau_merged['AMT_CREDIT_SUM_LIMIT'].fillna(-99, inplace=True)\n",
        "# bureau_merged['AMT_CREDIT_MAX_OVERDUE'].fillna(-99, inplace=True)\n",
        "# bureau_merged['AMT_CREDIT_SUM'].fillna(-99, inplace=True)\n",
        "# bureau_merged['AMT_ANNUITY'].fillna(-99, inplace=True)"
      ],
      "execution_count": 35,
      "outputs": []
    },
    {
      "cell_type": "code",
      "metadata": {
        "id": "R6aw5p7OzyI2"
      },
      "source": [
        "bureau_summary = pd.DataFrame(index=(set(bureau_merged['SK_ID_CURR'].values)))\n",
        "\n",
        "for cat in bureau_merged.select_dtypes(['object']).columns.to_list():\n",
        "  grouped = bureau_merged.groupby(['SK_ID_CURR', cat])['SK_ID_BUREAU'].agg(['count']).unstack(level=-1)\n",
        "  grouped.columns = grouped.columns.get_level_values(1).map(lambda x: grouped.columns.names[1]+'_'+x.upper())\n",
        "  bureau_summary = bureau_summary.merge(grouped, how='left', left_index=True, right_index=True)\n",
        "\n",
        "bureau_summary.fillna(0, inplace=True) #NA entries means no count so it will be imputted with 0"
      ],
      "execution_count": 36,
      "outputs": []
    },
    {
      "cell_type": "code",
      "metadata": {
        "id": "sKbjg6R3GzTQ"
      },
      "source": [
        "numerical_cols = np.setdiff1d(bureau_merged.select_dtypes(['int64','float64']).columns, ['SK_ID_BUREAU', 'SK_ID_CURR'])"
      ],
      "execution_count": 37,
      "outputs": []
    },
    {
      "cell_type": "code",
      "metadata": {
        "id": "BurbJBMq5iRq"
      },
      "source": [
        "grouped = bureau_merged.groupby(['SK_ID_CURR'])[numerical_cols].agg(['sum'])\n",
        "grouped.columns = grouped.columns.map('_'.join).str.upper()"
      ],
      "execution_count": 38,
      "outputs": []
    },
    {
      "cell_type": "code",
      "metadata": {
        "id": "v1DTkpsw9efo"
      },
      "source": [
        "bureau_summary = bureau_summary.merge(grouped, how='left', left_index=True, right_index=True)"
      ],
      "execution_count": 39,
      "outputs": []
    },
    {
      "cell_type": "code",
      "metadata": {
        "colab": {
          "base_uri": "https://localhost:8080/"
        },
        "id": "hTG9Rygf9kLW",
        "outputId": "5b8c38c6-befb-4564-f762-48c88cd01741"
      },
      "source": [
        "null_columns=bureau_summary.columns[bureau_summary.isnull().any()]\n",
        "bureau_summary[null_columns].isnull().sum()"
      ],
      "execution_count": 40,
      "outputs": [
        {
          "output_type": "execute_result",
          "data": {
            "text/plain": [
              "Series([], dtype: float64)"
            ]
          },
          "metadata": {
            "tags": []
          },
          "execution_count": 40
        }
      ]
    },
    {
      "cell_type": "markdown",
      "metadata": {
        "id": "P72LfGii54X7"
      },
      "source": [
        "# Exploratory Data Analysis (Dimensionality Reduction)"
      ]
    },
    {
      "cell_type": "code",
      "metadata": {
        "id": "rTUTtP9Mh-Xs"
      },
      "source": [
        "import seaborn as sns\n",
        "import matplotlib.pyplot as plt\n",
        "from sklearn.decomposition import PCA"
      ],
      "execution_count": 41,
      "outputs": []
    },
    {
      "cell_type": "markdown",
      "metadata": {
        "id": "o2HWXo25PIg9"
      },
      "source": [
        "Next, we will do the EDA. One is correlation checking and the other one is data clustering to reduce the dimensionality of the data while preserving valuable informations"
      ]
    },
    {
      "cell_type": "markdown",
      "metadata": {
        "id": "FUiBslabCSS2"
      },
      "source": [
        "For the EDA Order (based on Dataframe):\n",
        "\n",
        "\n",
        "1.   Previous Application DF\n",
        "2.   Bureau Merged DF\n",
        "3.   Application DF (Train and Test)\n",
        "\n",
        "For the Instalment Payment DF, we won't do Feature Engineering because of it already contains small amount of features (or columns)\n",
        "\n"
      ]
    },
    {
      "cell_type": "markdown",
      "metadata": {
        "id": "giYa817Z49W4"
      },
      "source": [
        "## Previous Application DF"
      ]
    },
    {
      "cell_type": "code",
      "metadata": {
        "colab": {
          "base_uri": "https://localhost:8080/"
        },
        "id": "20b29GpIC4yR",
        "outputId": "717801ff-2baa-49e0-f05e-39ed2db47e4b"
      },
      "source": [
        "previous_application_summary.info()"
      ],
      "execution_count": 42,
      "outputs": [
        {
          "output_type": "stream",
          "text": [
            "<class 'pandas.core.frame.DataFrame'>\n",
            "Int64Index: 338857 entries, 100001 to 456255\n",
            "Data columns (total 45 columns):\n",
            " #   Column                              Non-Null Count   Dtype  \n",
            "---  ------                              --------------   -----  \n",
            " 0   NAME_CONTRACT_TYPE_CASH LOANS       338857 non-null  float64\n",
            " 1   NAME_CONTRACT_TYPE_CONSUMER LOANS   338857 non-null  float64\n",
            " 2   NAME_CONTRACT_TYPE_REVOLVING LOANS  338857 non-null  float64\n",
            " 3   NAME_CONTRACT_TYPE_XNA              338857 non-null  float64\n",
            " 4   NAME_CONTRACT_STATUS_APPROVED       338857 non-null  float64\n",
            " 5   NAME_CONTRACT_STATUS_CANCELED       338857 non-null  float64\n",
            " 6   NAME_CONTRACT_STATUS_REFUSED        338857 non-null  float64\n",
            " 7   NAME_CONTRACT_STATUS_UNUSED OFFER   338857 non-null  float64\n",
            " 8   CODE_REJECT_REASON_CLIENT           338857 non-null  float64\n",
            " 9   CODE_REJECT_REASON_HC               338857 non-null  float64\n",
            " 10  CODE_REJECT_REASON_LIMIT            338857 non-null  float64\n",
            " 11  CODE_REJECT_REASON_SCO              338857 non-null  float64\n",
            " 12  CODE_REJECT_REASON_SCOFR            338857 non-null  float64\n",
            " 13  CODE_REJECT_REASON_SYSTEM           338857 non-null  float64\n",
            " 14  CODE_REJECT_REASON_VERIF            338857 non-null  float64\n",
            " 15  CODE_REJECT_REASON_XAP              338857 non-null  float64\n",
            " 16  CODE_REJECT_REASON_XNA              338857 non-null  float64\n",
            " 17  NAME_CLIENT_TYPE_NEW                338857 non-null  float64\n",
            " 18  NAME_CLIENT_TYPE_REFRESHED          338857 non-null  float64\n",
            " 19  NAME_CLIENT_TYPE_REPEATER           338857 non-null  float64\n",
            " 20  NAME_CLIENT_TYPE_XNA                338857 non-null  float64\n",
            " 21  NAME_PORTFOLIO_CARDS                338857 non-null  float64\n",
            " 22  NAME_PORTFOLIO_CARS                 338857 non-null  float64\n",
            " 23  NAME_PORTFOLIO_CASH                 338857 non-null  float64\n",
            " 24  NAME_PORTFOLIO_POS                  338857 non-null  float64\n",
            " 25  NAME_PORTFOLIO_XNA                  338857 non-null  float64\n",
            " 26  NAME_PRODUCT_TYPE_XNA               338857 non-null  float64\n",
            " 27  NAME_PRODUCT_TYPE_WALK-IN           338857 non-null  float64\n",
            " 28  NAME_PRODUCT_TYPE_X-SELL            338857 non-null  float64\n",
            " 29  AMT_ANNUITY_MEAN                    338377 non-null  float64\n",
            " 30  AMT_ANNUITY_SUM                     338857 non-null  float64\n",
            " 31  AMT_APPLICATION_MEAN                338857 non-null  float64\n",
            " 32  AMT_APPLICATION_SUM                 338857 non-null  float64\n",
            " 33  AMT_CREDIT_MEAN                     338857 non-null  float64\n",
            " 34  AMT_CREDIT_SUM                      338857 non-null  float64\n",
            " 35  AMT_DOWN_PAYMENT_MEAN               318753 non-null  float64\n",
            " 36  AMT_DOWN_PAYMENT_SUM                338857 non-null  float64\n",
            " 37  AMT_GOODS_PRICE_MEAN                337793 non-null  float64\n",
            " 38  AMT_GOODS_PRICE_SUM                 338857 non-null  float64\n",
            " 39  RATE_DOWN_PAYMENT_MEAN              318753 non-null  float64\n",
            " 40  RATE_DOWN_PAYMENT_SUM               338857 non-null  float64\n",
            " 41  RATE_INTEREST_PRIMARY_MEAN          5721 non-null    float64\n",
            " 42  RATE_INTEREST_PRIMARY_SUM           338857 non-null  float64\n",
            " 43  RATE_INTEREST_PRIVILEGED_MEAN       5721 non-null    float64\n",
            " 44  RATE_INTEREST_PRIVILEGED_SUM        338857 non-null  float64\n",
            "dtypes: float64(45)\n",
            "memory usage: 128.9 MB\n"
          ],
          "name": "stdout"
        }
      ]
    },
    {
      "cell_type": "code",
      "metadata": {
        "colab": {
          "base_uri": "https://localhost:8080/"
        },
        "id": "uryz1pK6ijDN",
        "outputId": "f29290ec-2020-4500-dc32-7a9f90c22681"
      },
      "source": [
        "previous_application_summary.columns"
      ],
      "execution_count": 43,
      "outputs": [
        {
          "output_type": "execute_result",
          "data": {
            "text/plain": [
              "Index(['NAME_CONTRACT_TYPE_CASH LOANS', 'NAME_CONTRACT_TYPE_CONSUMER LOANS',\n",
              "       'NAME_CONTRACT_TYPE_REVOLVING LOANS', 'NAME_CONTRACT_TYPE_XNA',\n",
              "       'NAME_CONTRACT_STATUS_APPROVED', 'NAME_CONTRACT_STATUS_CANCELED',\n",
              "       'NAME_CONTRACT_STATUS_REFUSED', 'NAME_CONTRACT_STATUS_UNUSED OFFER',\n",
              "       'CODE_REJECT_REASON_CLIENT', 'CODE_REJECT_REASON_HC',\n",
              "       'CODE_REJECT_REASON_LIMIT', 'CODE_REJECT_REASON_SCO',\n",
              "       'CODE_REJECT_REASON_SCOFR', 'CODE_REJECT_REASON_SYSTEM',\n",
              "       'CODE_REJECT_REASON_VERIF', 'CODE_REJECT_REASON_XAP',\n",
              "       'CODE_REJECT_REASON_XNA', 'NAME_CLIENT_TYPE_NEW',\n",
              "       'NAME_CLIENT_TYPE_REFRESHED', 'NAME_CLIENT_TYPE_REPEATER',\n",
              "       'NAME_CLIENT_TYPE_XNA', 'NAME_PORTFOLIO_CARDS', 'NAME_PORTFOLIO_CARS',\n",
              "       'NAME_PORTFOLIO_CASH', 'NAME_PORTFOLIO_POS', 'NAME_PORTFOLIO_XNA',\n",
              "       'NAME_PRODUCT_TYPE_XNA', 'NAME_PRODUCT_TYPE_WALK-IN',\n",
              "       'NAME_PRODUCT_TYPE_X-SELL', 'AMT_ANNUITY_MEAN', 'AMT_ANNUITY_SUM',\n",
              "       'AMT_APPLICATION_MEAN', 'AMT_APPLICATION_SUM', 'AMT_CREDIT_MEAN',\n",
              "       'AMT_CREDIT_SUM', 'AMT_DOWN_PAYMENT_MEAN', 'AMT_DOWN_PAYMENT_SUM',\n",
              "       'AMT_GOODS_PRICE_MEAN', 'AMT_GOODS_PRICE_SUM', 'RATE_DOWN_PAYMENT_MEAN',\n",
              "       'RATE_DOWN_PAYMENT_SUM', 'RATE_INTEREST_PRIMARY_MEAN',\n",
              "       'RATE_INTEREST_PRIMARY_SUM', 'RATE_INTEREST_PRIVILEGED_MEAN',\n",
              "       'RATE_INTEREST_PRIVILEGED_SUM'],\n",
              "      dtype='object')"
            ]
          },
          "metadata": {
            "tags": []
          },
          "execution_count": 43
        }
      ]
    },
    {
      "cell_type": "markdown",
      "metadata": {
        "id": "VESnPrlvisbw"
      },
      "source": [
        "We will test out if the several clusters of categorical counts on the summary could be reduced using PCA. If the explained variance is more than 90%, we will shrink the feature because it's telling similar info (e.g. Name Contract Status History or Count)"
      ]
    },
    {
      "cell_type": "code",
      "metadata": {
        "id": "l2c_Jk3On-g1"
      },
      "source": [
        "pca_2 = PCA(n_components=2)\n",
        "pca_3 = PCA(n_components=3)"
      ],
      "execution_count": 44,
      "outputs": []
    },
    {
      "cell_type": "code",
      "metadata": {
        "colab": {
          "base_uri": "https://localhost:8080/",
          "height": 170
        },
        "id": "SEjCtUm3pNEZ",
        "outputId": "1fd35563-c115-449f-f0a1-dc7752dffd0f"
      },
      "source": [
        "columns_chosen = ['NAME_CONTRACT_TYPE_CASH LOANS', 'NAME_CONTRACT_TYPE_CONSUMER LOANS',\n",
        "                  'NAME_CONTRACT_TYPE_REVOLVING LOANS', 'NAME_CONTRACT_TYPE_XNA',\n",
        "                  'NAME_CONTRACT_STATUS_APPROVED', 'NAME_CONTRACT_STATUS_CANCELED',\n",
        "                  'NAME_CONTRACT_STATUS_REFUSED', 'NAME_CONTRACT_STATUS_UNUSED OFFER']\n",
        "display(columns_chosen)\n",
        "\n",
        "subset = previous_application_summary[columns_chosen]\n",
        "pca_result = pca_3.fit_transform(subset)\n",
        "\n",
        "display(pca_3.explained_variance_ratio_.sum())"
      ],
      "execution_count": 45,
      "outputs": [
        {
          "output_type": "display_data",
          "data": {
            "text/plain": [
              "['NAME_CONTRACT_TYPE_CASH LOANS',\n",
              " 'NAME_CONTRACT_TYPE_CONSUMER LOANS',\n",
              " 'NAME_CONTRACT_TYPE_REVOLVING LOANS',\n",
              " 'NAME_CONTRACT_TYPE_XNA',\n",
              " 'NAME_CONTRACT_STATUS_APPROVED',\n",
              " 'NAME_CONTRACT_STATUS_CANCELED',\n",
              " 'NAME_CONTRACT_STATUS_REFUSED',\n",
              " 'NAME_CONTRACT_STATUS_UNUSED OFFER']"
            ]
          },
          "metadata": {
            "tags": []
          }
        },
        {
          "output_type": "display_data",
          "data": {
            "text/plain": [
              "0.9014561540648476"
            ]
          },
          "metadata": {
            "tags": []
          }
        }
      ]
    },
    {
      "cell_type": "code",
      "metadata": {
        "id": "qxp-fDerp0I1"
      },
      "source": [
        "pca_df = pd.DataFrame(pca_result, columns = ['NAME_CONTRACT_PC_1', 'NAME_CONTRACT_PC_2', 'NAME_CONTRACT_PC_3'],\n",
        "             index=previous_application_summary.index)\n",
        "previous_application_summary.drop(columns=columns_chosen, inplace=True)\n",
        "previous_application_summary = previous_application_summary.merge(pca_df, left_index=True, right_index=True)"
      ],
      "execution_count": 46,
      "outputs": []
    },
    {
      "cell_type": "code",
      "metadata": {
        "colab": {
          "base_uri": "https://localhost:8080/",
          "height": 187
        },
        "id": "bc6A6d0qjBmq",
        "outputId": "ae141997-9a08-4f2d-bf1f-335a3b4fc710"
      },
      "source": [
        "columns_chosen = ['CODE_REJECT_REASON_CLIENT', 'CODE_REJECT_REASON_HC', 'CODE_REJECT_REASON_LIMIT',\n",
        "                  'CODE_REJECT_REASON_SCO', 'CODE_REJECT_REASON_SCOFR', 'CODE_REJECT_REASON_SYSTEM',\n",
        "                  'CODE_REJECT_REASON_VERIF', 'CODE_REJECT_REASON_XAP', 'CODE_REJECT_REASON_XNA']\n",
        "display(columns_chosen)\n",
        "\n",
        "subset = previous_application_summary[columns_chosen]\n",
        "pca_result = pca_2.fit_transform(subset)\n",
        "\n",
        "display(pca_2.explained_variance_ratio_.sum())"
      ],
      "execution_count": 47,
      "outputs": [
        {
          "output_type": "display_data",
          "data": {
            "text/plain": [
              "['CODE_REJECT_REASON_CLIENT',\n",
              " 'CODE_REJECT_REASON_HC',\n",
              " 'CODE_REJECT_REASON_LIMIT',\n",
              " 'CODE_REJECT_REASON_SCO',\n",
              " 'CODE_REJECT_REASON_SCOFR',\n",
              " 'CODE_REJECT_REASON_SYSTEM',\n",
              " 'CODE_REJECT_REASON_VERIF',\n",
              " 'CODE_REJECT_REASON_XAP',\n",
              " 'CODE_REJECT_REASON_XNA']"
            ]
          },
          "metadata": {
            "tags": []
          }
        },
        {
          "output_type": "display_data",
          "data": {
            "text/plain": [
              "0.9282263697723258"
            ]
          },
          "metadata": {
            "tags": []
          }
        }
      ]
    },
    {
      "cell_type": "code",
      "metadata": {
        "id": "iV6ebO55nSub"
      },
      "source": [
        "pca_df = pd.DataFrame(pca_result, columns = ['CODE_REJECT_REASON_PC_1', 'CODE_REJECT_REASON_PC_2'],\n",
        "             index=previous_application_summary.index)\n",
        "previous_application_summary.drop(columns=columns_chosen, inplace=True)\n",
        "previous_application_summary = previous_application_summary.merge(pca_df, left_index=True, right_index=True)"
      ],
      "execution_count": 48,
      "outputs": []
    },
    {
      "cell_type": "code",
      "metadata": {
        "colab": {
          "base_uri": "https://localhost:8080/",
          "height": 102
        },
        "id": "7D_7lol6kNgZ",
        "outputId": "c7757b38-e0c6-4910-a44b-b3f68d2f3a74"
      },
      "source": [
        "columns_chosen = ['NAME_CLIENT_TYPE_NEW', 'NAME_CLIENT_TYPE_REFRESHED', 'NAME_CLIENT_TYPE_REPEATER', \n",
        "                  'NAME_CLIENT_TYPE_XNA']\n",
        "display(columns_chosen)\n",
        "\n",
        "subset = previous_application_summary[columns_chosen]\n",
        "pca_result = pca_2.fit_transform(subset)\n",
        "\n",
        "display(pca_2.explained_variance_ratio_.sum())"
      ],
      "execution_count": 49,
      "outputs": [
        {
          "output_type": "display_data",
          "data": {
            "text/plain": [
              "['NAME_CLIENT_TYPE_NEW',\n",
              " 'NAME_CLIENT_TYPE_REFRESHED',\n",
              " 'NAME_CLIENT_TYPE_REPEATER',\n",
              " 'NAME_CLIENT_TYPE_XNA']"
            ]
          },
          "metadata": {
            "tags": []
          }
        },
        {
          "output_type": "display_data",
          "data": {
            "text/plain": [
              "0.9836858484530172"
            ]
          },
          "metadata": {
            "tags": []
          }
        }
      ]
    },
    {
      "cell_type": "code",
      "metadata": {
        "id": "e6tV_NOOmmIr"
      },
      "source": [
        "pca_df = pd.DataFrame(pca_result, columns = ['NAME_CLIENT_TYPE_PC_1', 'NAME_CLIENT_TYPE_PC_2'],\n",
        "             index=previous_application_summary.index)\n",
        "previous_application_summary.drop(columns=columns_chosen, inplace=True)\n",
        "previous_application_summary = previous_application_summary.merge(pca_df, left_index=True, right_index=True)"
      ],
      "execution_count": 50,
      "outputs": []
    },
    {
      "cell_type": "code",
      "metadata": {
        "colab": {
          "base_uri": "https://localhost:8080/",
          "height": 119
        },
        "id": "yxFV0XTlxnwH",
        "outputId": "104d315c-e729-42be-dcbf-0b2e281b24b3"
      },
      "source": [
        "columns_chosen = ['NAME_PORTFOLIO_CARDS', 'NAME_PORTFOLIO_CARS', 'NAME_PORTFOLIO_CASH', 'NAME_PORTFOLIO_POS',\n",
        "                  'NAME_PORTFOLIO_XNA']\n",
        "display(columns_chosen)\n",
        "\n",
        "subset = previous_application_summary[columns_chosen]\n",
        "pca_result = pca_3.fit_transform(subset)\n",
        "\n",
        "display(pca_3.explained_variance_ratio_.sum())"
      ],
      "execution_count": 51,
      "outputs": [
        {
          "output_type": "display_data",
          "data": {
            "text/plain": [
              "['NAME_PORTFOLIO_CARDS',\n",
              " 'NAME_PORTFOLIO_CARS',\n",
              " 'NAME_PORTFOLIO_CASH',\n",
              " 'NAME_PORTFOLIO_POS',\n",
              " 'NAME_PORTFOLIO_XNA']"
            ]
          },
          "metadata": {
            "tags": []
          }
        },
        {
          "output_type": "display_data",
          "data": {
            "text/plain": [
              "0.9590317910354499"
            ]
          },
          "metadata": {
            "tags": []
          }
        }
      ]
    },
    {
      "cell_type": "code",
      "metadata": {
        "id": "DK0gLfC_yUs3"
      },
      "source": [
        "pca_df = pd.DataFrame(pca_result, columns = ['NAME_PORTFOLIO_PC_1', 'NAME_PORTFOLIO_PC_2', 'NAME_PORTFOLIO_PC_3'],\n",
        "             index=previous_application_summary.index)\n",
        "previous_application_summary.drop(columns=columns_chosen, inplace=True)\n",
        "previous_application_summary = previous_application_summary.merge(pca_df, left_index=True, right_index=True)"
      ],
      "execution_count": 52,
      "outputs": []
    },
    {
      "cell_type": "code",
      "metadata": {
        "colab": {
          "base_uri": "https://localhost:8080/",
          "height": 85
        },
        "id": "Wpx7-7c2yFIN",
        "outputId": "2c11752c-cd76-41da-a66e-6183bafe5d1b"
      },
      "source": [
        "columns_chosen = ['NAME_PRODUCT_TYPE_XNA', 'NAME_PRODUCT_TYPE_WALK-IN', 'NAME_PRODUCT_TYPE_X-SELL']\n",
        "display(columns_chosen)\n",
        "\n",
        "subset = previous_application_summary[columns_chosen]\n",
        "pca_result = pca_2.fit_transform(subset)\n",
        "\n",
        "display(pca_2.explained_variance_ratio_.sum())"
      ],
      "execution_count": 53,
      "outputs": [
        {
          "output_type": "display_data",
          "data": {
            "text/plain": [
              "['NAME_PRODUCT_TYPE_XNA',\n",
              " 'NAME_PRODUCT_TYPE_WALK-IN',\n",
              " 'NAME_PRODUCT_TYPE_X-SELL']"
            ]
          },
          "metadata": {
            "tags": []
          }
        },
        {
          "output_type": "display_data",
          "data": {
            "text/plain": [
              "0.9074885898479306"
            ]
          },
          "metadata": {
            "tags": []
          }
        }
      ]
    },
    {
      "cell_type": "code",
      "metadata": {
        "id": "msGTa2wPygai"
      },
      "source": [
        "pca_df = pd.DataFrame(pca_result, columns = ['NAME_PRODUCT_TYPE_PC_1', 'NAME_PRODUCT_TYPE_PC_2'],\n",
        "             index=previous_application_summary.index)\n",
        "previous_application_summary.drop(columns=columns_chosen, inplace=True)\n",
        "previous_application_summary = previous_application_summary.merge(pca_df, left_index=True, right_index=True)"
      ],
      "execution_count": 54,
      "outputs": []
    },
    {
      "cell_type": "markdown",
      "metadata": {
        "id": "HG1CVU1F1vL1"
      },
      "source": [
        "Then, we will separate the rest of non-used columns for correlation identification based on the statistics used"
      ]
    },
    {
      "cell_type": "code",
      "metadata": {
        "colab": {
          "base_uri": "https://localhost:8080/",
          "height": 408
        },
        "id": "VmfLIMt9PJKG",
        "outputId": "743faaba-15fe-46c8-cffc-d72872b7fbe7"
      },
      "source": [
        "columns_numeric_1 = ['AMT_ANNUITY_MEAN', 'AMT_APPLICATION_MEAN', 'AMT_CREDIT_MEAN', 'AMT_GOODS_PRICE_MEAN']\n",
        "\n",
        "columns_numeric_2 = ['AMT_ANNUITY_SUM', 'AMT_APPLICATION_SUM', 'AMT_CREDIT_SUM', 'AMT_GOODS_PRICE_SUM']\n",
        "\n",
        "columns_numeric_3 = ['RATE_DOWN_PAYMENT_MEAN', 'RATE_INTEREST_PRIMARY_MEAN', 'RATE_INTEREST_PRIVILEGED_MEAN']\n",
        "\n",
        "df_corr_1 = previous_application_summary[columns_numeric_1].corr()\n",
        "sns.heatmap(df_corr_1, annot=True)\n",
        "plt.show()"
      ],
      "execution_count": 55,
      "outputs": [
        {
          "output_type": "execute_result",
          "data": {
            "text/plain": [
              "<matplotlib.axes._subplots.AxesSubplot at 0x7fdbac5fe390>"
            ]
          },
          "metadata": {
            "tags": []
          },
          "execution_count": 55
        },
        {
          "output_type": "display_data",
          "data": {
            "image/png": "[encoded data removed]",
            "text/plain": [
              "<Figure size 432x288 with 2 Axes>"
            ]
          },
          "metadata": {
            "tags": [],
            "needs_background": "light"
          }
        }
      ]
    },
    {
      "cell_type": "code",
      "metadata": {
        "colab": {
          "base_uri": "https://localhost:8080/",
          "height": 401
        },
        "id": "r3hNUrTZ0D61",
        "outputId": "997fbc32-28ea-45b3-c9ba-b53cd84e4160"
      },
      "source": [
        "df_corr_2 = previous_application_summary[columns_numeric_2].corr()\n",
        "sns.heatmap(df_corr_2, annot=True)\n",
        "plt.show()"
      ],
      "execution_count": 56,
      "outputs": [
        {
          "output_type": "execute_result",
          "data": {
            "text/plain": [
              "<matplotlib.axes._subplots.AxesSubplot at 0x7fdb9de78910>"
            ]
          },
          "metadata": {
            "tags": []
          },
          "execution_count": 56
        },
        {
          "output_type": "display_data",
          "data": {
            "image/png": "[encoded data removed]",
            "text/plain": [
              "<Figure size 432x288 with 2 Axes>"
            ]
          },
          "metadata": {
            "tags": [],
            "needs_background": "light"
          }
        }
      ]
    },
    {
      "cell_type": "code",
      "metadata": {
        "colab": {
          "base_uri": "https://localhost:8080/",
          "height": 452
        },
        "id": "g9GsUZ8v028q",
        "outputId": "8a540f1f-4737-4a09-dc6a-56b2911df276"
      },
      "source": [
        "df_corr_3 = previous_application_summary[columns_numeric_3].corr()\n",
        "sns.heatmap(df_corr_3, annot=True)\n",
        "plt.show()"
      ],
      "execution_count": 57,
      "outputs": [
        {
          "output_type": "execute_result",
          "data": {
            "text/plain": [
              "<matplotlib.axes._subplots.AxesSubplot at 0x7fdb9d93fe50>"
            ]
          },
          "metadata": {
            "tags": []
          },
          "execution_count": 57
        },
        {
          "output_type": "display_data",
          "data": {
            "image/png": "[encoded data removed]",
            "text/plain": [
              "<Figure size 432x288 with 2 Axes>"
            ]
          },
          "metadata": {
            "tags": [],
            "needs_background": "light"
          }
        }
      ]
    },
    {
      "cell_type": "markdown",
      "metadata": {
        "id": "XV_Z5mx31shG"
      },
      "source": [
        "Because these numerical variables has high correlation, we could reduce it using PCA (if there's no missing data)"
      ]
    },
    {
      "cell_type": "code",
      "metadata": {
        "colab": {
          "base_uri": "https://localhost:8080/"
        },
        "id": "aYIIdRYz1osn",
        "outputId": "cb50273c-4d97-418e-f723-2f41619d87cb"
      },
      "source": [
        "subset = previous_application_summary[columns_numeric_1]\n",
        "try:\n",
        "  pca_result = pca_2.fit_transform(subset)\n",
        "except ValueError as ve:\n",
        "  print(\"Error due to\", ve)\n",
        "else:\n",
        "  display(pca_2.explained_variance_ratio_.sum())"
      ],
      "execution_count": 58,
      "outputs": [
        {
          "output_type": "stream",
          "text": [
            "Error due to Input contains NaN, infinity or a value too large for dtype('float64').\n"
          ],
          "name": "stdout"
        }
      ]
    },
    {
      "cell_type": "code",
      "metadata": {
        "colab": {
          "base_uri": "https://localhost:8080/",
          "height": 34
        },
        "id": "5FzvAjY63fvf",
        "outputId": "7231452d-14f8-4b11-ca47-ae6ac1536801"
      },
      "source": [
        "subset = previous_application_summary[columns_numeric_2]\n",
        "try:\n",
        "  pca_result = pca_2.fit_transform(subset)\n",
        "except ValueError as ve:\n",
        "  print(\"Error due to\", ve)\n",
        "else:\n",
        "  display(pca_2.explained_variance_ratio_.sum())\n",
        "  pca_df = pd.DataFrame(pca_result, columns = ['AMT_SUM_PC_1', 'AMT_SUM_PC_2'],\n",
        "             index=previous_application_summary.index)\n",
        "  previous_application_summary.drop(columns=columns_numeric_2, inplace=True)\n",
        "  previous_application_summary = previous_application_summary.merge(pca_df, left_index=True, right_index=True)"
      ],
      "execution_count": 59,
      "outputs": [
        {
          "output_type": "display_data",
          "data": {
            "text/plain": [
              "0.9998279248373869"
            ]
          },
          "metadata": {
            "tags": []
          }
        }
      ]
    },
    {
      "cell_type": "code",
      "metadata": {
        "colab": {
          "base_uri": "https://localhost:8080/"
        },
        "id": "F-yBeXDkiC3m",
        "outputId": "91b38323-fef6-4ed1-e339-68b6ec6cc632"
      },
      "source": [
        "subset = previous_application_summary[columns_numeric_3]\n",
        "try:\n",
        "  pca_result = pca_2.fit_transform(subset)\n",
        "except ValueError as ve:\n",
        "  print(\"Error due to\", ve)\n",
        "else:\n",
        "  display(pca_2.explained_variance_ratio_.sum())"
      ],
      "execution_count": 60,
      "outputs": [
        {
          "output_type": "stream",
          "text": [
            "Error due to Input contains NaN, infinity or a value too large for dtype('float64').\n"
          ],
          "name": "stdout"
        }
      ]
    },
    {
      "cell_type": "code",
      "metadata": {
        "colab": {
          "base_uri": "https://localhost:8080/"
        },
        "id": "luBol8Jr41j9",
        "outputId": "db8cbd7c-f4ff-477e-a6d8-c45daf69deae"
      },
      "source": [
        "previous_application_summary.info()"
      ],
      "execution_count": 61,
      "outputs": [
        {
          "output_type": "stream",
          "text": [
            "<class 'pandas.core.frame.DataFrame'>\n",
            "Int64Index: 338857 entries, 100001 to 456255\n",
            "Data columns (total 26 columns):\n",
            " #   Column                         Non-Null Count   Dtype  \n",
            "---  ------                         --------------   -----  \n",
            " 0   AMT_ANNUITY_MEAN               338377 non-null  float64\n",
            " 1   AMT_APPLICATION_MEAN           338857 non-null  float64\n",
            " 2   AMT_CREDIT_MEAN                338857 non-null  float64\n",
            " 3   AMT_DOWN_PAYMENT_MEAN          318753 non-null  float64\n",
            " 4   AMT_DOWN_PAYMENT_SUM           338857 non-null  float64\n",
            " 5   AMT_GOODS_PRICE_MEAN           337793 non-null  float64\n",
            " 6   RATE_DOWN_PAYMENT_MEAN         318753 non-null  float64\n",
            " 7   RATE_DOWN_PAYMENT_SUM          338857 non-null  float64\n",
            " 8   RATE_INTEREST_PRIMARY_MEAN     5721 non-null    float64\n",
            " 9   RATE_INTEREST_PRIMARY_SUM      338857 non-null  float64\n",
            " 10  RATE_INTEREST_PRIVILEGED_MEAN  5721 non-null    float64\n",
            " 11  RATE_INTEREST_PRIVILEGED_SUM   338857 non-null  float64\n",
            " 12  NAME_CONTRACT_PC_1             338857 non-null  float64\n",
            " 13  NAME_CONTRACT_PC_2             338857 non-null  float64\n",
            " 14  NAME_CONTRACT_PC_3             338857 non-null  float64\n",
            " 15  CODE_REJECT_REASON_PC_1        338857 non-null  float64\n",
            " 16  CODE_REJECT_REASON_PC_2        338857 non-null  float64\n",
            " 17  NAME_CLIENT_TYPE_PC_1          338857 non-null  float64\n",
            " 18  NAME_CLIENT_TYPE_PC_2          338857 non-null  float64\n",
            " 19  NAME_PORTFOLIO_PC_1            338857 non-null  float64\n",
            " 20  NAME_PORTFOLIO_PC_2            338857 non-null  float64\n",
            " 21  NAME_PORTFOLIO_PC_3            338857 non-null  float64\n",
            " 22  NAME_PRODUCT_TYPE_PC_1         338857 non-null  float64\n",
            " 23  NAME_PRODUCT_TYPE_PC_2         338857 non-null  float64\n",
            " 24  AMT_SUM_PC_1                   338857 non-null  float64\n",
            " 25  AMT_SUM_PC_2                   338857 non-null  float64\n",
            "dtypes: float64(26)\n",
            "memory usage: 79.8 MB\n"
          ],
          "name": "stdout"
        }
      ]
    },
    {
      "cell_type": "markdown",
      "metadata": {
        "id": "rzzPFLB4CKNN"
      },
      "source": [
        "## Bureau Merged DF"
      ]
    },
    {
      "cell_type": "code",
      "metadata": {
        "colab": {
          "base_uri": "https://localhost:8080/"
        },
        "id": "WnLXj1K1C1T6",
        "outputId": "d7c9f37a-8678-4527-c97f-a87a016280f8"
      },
      "source": [
        "bureau_summary.info()"
      ],
      "execution_count": 62,
      "outputs": [
        {
          "output_type": "stream",
          "text": [
            "<class 'pandas.core.frame.DataFrame'>\n",
            "Int64Index: 134542 entries, 262151 to 262140\n",
            "Data columns (total 43 columns):\n",
            " #   Column                                                    Non-Null Count   Dtype  \n",
            "---  ------                                                    --------------   -----  \n",
            " 0   CREDIT_ACTIVE_ACTIVE                                      134542 non-null  float64\n",
            " 1   CREDIT_ACTIVE_BAD DEBT                                    134542 non-null  float64\n",
            " 2   CREDIT_ACTIVE_CLOSED                                      134542 non-null  float64\n",
            " 3   CREDIT_ACTIVE_SOLD                                        134542 non-null  float64\n",
            " 4   CREDIT_CURRENCY_CURRENCY 1                                134542 non-null  float64\n",
            " 5   CREDIT_CURRENCY_CURRENCY 2                                134542 non-null  float64\n",
            " 6   CREDIT_CURRENCY_CURRENCY 3                                134542 non-null  float64\n",
            " 7   CREDIT_CURRENCY_CURRENCY 4                                134542 non-null  float64\n",
            " 8   CREDIT_TYPE_ANOTHER TYPE OF LOAN                          134542 non-null  float64\n",
            " 9   CREDIT_TYPE_CAR LOAN                                      134542 non-null  float64\n",
            " 10  CREDIT_TYPE_CASH LOAN (NON-EARMARKED)                     134542 non-null  float64\n",
            " 11  CREDIT_TYPE_CONSUMER CREDIT                               134542 non-null  float64\n",
            " 12  CREDIT_TYPE_CREDIT CARD                                   134542 non-null  float64\n",
            " 13  CREDIT_TYPE_LOAN FOR BUSINESS DEVELOPMENT                 134542 non-null  float64\n",
            " 14  CREDIT_TYPE_LOAN FOR PURCHASE OF SHARES (MARGIN LENDING)  134542 non-null  float64\n",
            " 15  CREDIT_TYPE_LOAN FOR THE PURCHASE OF EQUIPMENT            134542 non-null  float64\n",
            " 16  CREDIT_TYPE_LOAN FOR WORKING CAPITAL REPLENISHMENT        134542 non-null  float64\n",
            " 17  CREDIT_TYPE_MICROLOAN                                     134542 non-null  float64\n",
            " 18  CREDIT_TYPE_MOBILE OPERATOR LOAN                          134542 non-null  float64\n",
            " 19  CREDIT_TYPE_MORTGAGE                                      134542 non-null  float64\n",
            " 20  CREDIT_TYPE_REAL ESTATE LOAN                              134542 non-null  float64\n",
            " 21  CREDIT_TYPE_UNKNOWN TYPE OF LOAN                          134542 non-null  float64\n",
            " 22  STATUS_0                                                  134542 non-null  float64\n",
            " 23  STATUS_1                                                  134542 non-null  float64\n",
            " 24  STATUS_2                                                  134542 non-null  float64\n",
            " 25  STATUS_3                                                  134542 non-null  float64\n",
            " 26  STATUS_4                                                  134542 non-null  float64\n",
            " 27  STATUS_5                                                  134542 non-null  float64\n",
            " 28  STATUS_C                                                  134542 non-null  float64\n",
            " 29  STATUS_X                                                  134542 non-null  float64\n",
            " 30  AMT_ANNUITY_SUM                                           134542 non-null  float64\n",
            " 31  AMT_CREDIT_MAX_OVERDUE_SUM                                134542 non-null  float64\n",
            " 32  AMT_CREDIT_SUM_SUM                                        134542 non-null  float64\n",
            " 33  AMT_CREDIT_SUM_DEBT_SUM                                   134542 non-null  float64\n",
            " 34  AMT_CREDIT_SUM_LIMIT_SUM                                  134542 non-null  float64\n",
            " 35  AMT_CREDIT_SUM_OVERDUE_SUM                                134542 non-null  float64\n",
            " 36  CNT_CREDIT_PROLONG_SUM                                    134542 non-null  int64  \n",
            " 37  CREDIT_DAY_OVERDUE_SUM                                    134542 non-null  int64  \n",
            " 38  DAYS_CREDIT_SUM                                           134542 non-null  int64  \n",
            " 39  DAYS_CREDIT_ENDDATE_SUM                                   134542 non-null  float64\n",
            " 40  DAYS_CREDIT_UPDATE_SUM                                    134542 non-null  int64  \n",
            " 41  DAYS_ENDDATE_FACT_SUM                                     134542 non-null  float64\n",
            " 42  MONTHS_BALANCE_SUM                                        134542 non-null  int64  \n",
            "dtypes: float64(38), int64(5)\n",
            "memory usage: 50.2 MB\n"
          ],
          "name": "stdout"
        }
      ]
    },
    {
      "cell_type": "code",
      "metadata": {
        "colab": {
          "base_uri": "https://localhost:8080/"
        },
        "id": "ux3ENIP1E6N8",
        "outputId": "51bc244a-2a3d-4d17-c6d1-37e90ea6c90e"
      },
      "source": [
        "bureau_summary.columns"
      ],
      "execution_count": 63,
      "outputs": [
        {
          "output_type": "execute_result",
          "data": {
            "text/plain": [
              "Index(['CREDIT_ACTIVE_ACTIVE', 'CREDIT_ACTIVE_BAD DEBT',\n",
              "       'CREDIT_ACTIVE_CLOSED', 'CREDIT_ACTIVE_SOLD',\n",
              "       'CREDIT_CURRENCY_CURRENCY 1', 'CREDIT_CURRENCY_CURRENCY 2',\n",
              "       'CREDIT_CURRENCY_CURRENCY 3', 'CREDIT_CURRENCY_CURRENCY 4',\n",
              "       'CREDIT_TYPE_ANOTHER TYPE OF LOAN', 'CREDIT_TYPE_CAR LOAN',\n",
              "       'CREDIT_TYPE_CASH LOAN (NON-EARMARKED)', 'CREDIT_TYPE_CONSUMER CREDIT',\n",
              "       'CREDIT_TYPE_CREDIT CARD', 'CREDIT_TYPE_LOAN FOR BUSINESS DEVELOPMENT',\n",
              "       'CREDIT_TYPE_LOAN FOR PURCHASE OF SHARES (MARGIN LENDING)',\n",
              "       'CREDIT_TYPE_LOAN FOR THE PURCHASE OF EQUIPMENT',\n",
              "       'CREDIT_TYPE_LOAN FOR WORKING CAPITAL REPLENISHMENT',\n",
              "       'CREDIT_TYPE_MICROLOAN', 'CREDIT_TYPE_MOBILE OPERATOR LOAN',\n",
              "       'CREDIT_TYPE_MORTGAGE', 'CREDIT_TYPE_REAL ESTATE LOAN',\n",
              "       'CREDIT_TYPE_UNKNOWN TYPE OF LOAN', 'STATUS_0', 'STATUS_1', 'STATUS_2',\n",
              "       'STATUS_3', 'STATUS_4', 'STATUS_5', 'STATUS_C', 'STATUS_X',\n",
              "       'AMT_ANNUITY_SUM', 'AMT_CREDIT_MAX_OVERDUE_SUM', 'AMT_CREDIT_SUM_SUM',\n",
              "       'AMT_CREDIT_SUM_DEBT_SUM', 'AMT_CREDIT_SUM_LIMIT_SUM',\n",
              "       'AMT_CREDIT_SUM_OVERDUE_SUM', 'CNT_CREDIT_PROLONG_SUM',\n",
              "       'CREDIT_DAY_OVERDUE_SUM', 'DAYS_CREDIT_SUM', 'DAYS_CREDIT_ENDDATE_SUM',\n",
              "       'DAYS_CREDIT_UPDATE_SUM', 'DAYS_ENDDATE_FACT_SUM',\n",
              "       'MONTHS_BALANCE_SUM'],\n",
              "      dtype='object')"
            ]
          },
          "metadata": {
            "tags": []
          },
          "execution_count": 63
        }
      ]
    },
    {
      "cell_type": "code",
      "metadata": {
        "colab": {
          "base_uri": "https://localhost:8080/",
          "height": 102
        },
        "id": "Y1A1MmjvEYdX",
        "outputId": "1d51e6b8-2808-4e1a-9323-f939557f334c"
      },
      "source": [
        "columns_chosen = ['CREDIT_ACTIVE_ACTIVE', 'CREDIT_ACTIVE_BAD DEBT', 'CREDIT_ACTIVE_CLOSED', 'CREDIT_ACTIVE_SOLD']\n",
        "display(columns_chosen)\n",
        "\n",
        "subset = bureau_summary[columns_chosen]\n",
        "pca_result = pca_2.fit_transform(subset)\n",
        "\n",
        "display(pca_2.explained_variance_ratio_.sum())"
      ],
      "execution_count": 64,
      "outputs": [
        {
          "output_type": "display_data",
          "data": {
            "text/plain": [
              "['CREDIT_ACTIVE_ACTIVE',\n",
              " 'CREDIT_ACTIVE_BAD DEBT',\n",
              " 'CREDIT_ACTIVE_CLOSED',\n",
              " 'CREDIT_ACTIVE_SOLD']"
            ]
          },
          "metadata": {
            "tags": []
          }
        },
        {
          "output_type": "display_data",
          "data": {
            "text/plain": [
              "0.9976825607367863"
            ]
          },
          "metadata": {
            "tags": []
          }
        }
      ]
    },
    {
      "cell_type": "code",
      "metadata": {
        "id": "KUhGkWpsFJRL"
      },
      "source": [
        "pca_df = pd.DataFrame(pca_result, columns = ['CREDIT_ACTIVE_PC_1', 'CREDIT_ACTIVE_PC_2'],\n",
        "             index=bureau_summary.index)\n",
        "bureau_summary.drop(columns=columns_chosen, inplace=True)\n",
        "bureau_summary = bureau_summary.merge(pca_df, left_index=True, right_index=True)"
      ],
      "execution_count": 65,
      "outputs": []
    },
    {
      "cell_type": "code",
      "metadata": {
        "colab": {
          "base_uri": "https://localhost:8080/",
          "height": 102
        },
        "id": "dPx3iNm0FVNi",
        "outputId": "5778978b-ecea-4539-a5bc-b7f9210536fb"
      },
      "source": [
        "columns_chosen = ['CREDIT_CURRENCY_CURRENCY 1', 'CREDIT_CURRENCY_CURRENCY 2', 'CREDIT_CURRENCY_CURRENCY 3',\n",
        "                  'CREDIT_CURRENCY_CURRENCY 4']\n",
        "display(columns_chosen)\n",
        "\n",
        "subset = bureau_summary[columns_chosen]\n",
        "pca_result = pca_2.fit_transform(subset)\n",
        "\n",
        "display(pca_2.explained_variance_ratio_.sum())"
      ],
      "execution_count": 66,
      "outputs": [
        {
          "output_type": "display_data",
          "data": {
            "text/plain": [
              "['CREDIT_CURRENCY_CURRENCY 1',\n",
              " 'CREDIT_CURRENCY_CURRENCY 2',\n",
              " 'CREDIT_CURRENCY_CURRENCY 3',\n",
              " 'CREDIT_CURRENCY_CURRENCY 4']"
            ]
          },
          "metadata": {
            "tags": []
          }
        },
        {
          "output_type": "display_data",
          "data": {
            "text/plain": [
              "0.9999404001654106"
            ]
          },
          "metadata": {
            "tags": []
          }
        }
      ]
    },
    {
      "cell_type": "code",
      "metadata": {
        "id": "Qn11NqiOFduu"
      },
      "source": [
        "pca_df = pd.DataFrame(pca_result, columns = ['CREDIT_CURRENCY_PC_1', 'CREDIT_CURRENCY_PC_2'],\n",
        "             index=bureau_summary.index)\n",
        "bureau_summary.drop(columns=columns_chosen, inplace=True)\n",
        "bureau_summary = bureau_summary.merge(pca_df, left_index=True, right_index=True)"
      ],
      "execution_count": 67,
      "outputs": []
    },
    {
      "cell_type": "code",
      "metadata": {
        "colab": {
          "base_uri": "https://localhost:8080/",
          "height": 272
        },
        "id": "HaaRqFXPFlnJ",
        "outputId": "11f53973-a812-46fd-b28e-45f65e01ddc4"
      },
      "source": [
        "columns_chosen = ['CREDIT_TYPE_ANOTHER TYPE OF LOAN', 'CREDIT_TYPE_CAR LOAN', 'CREDIT_TYPE_CASH LOAN (NON-EARMARKED)',\n",
        "                  'CREDIT_TYPE_CONSUMER CREDIT', 'CREDIT_TYPE_CREDIT CARD', 'CREDIT_TYPE_LOAN FOR BUSINESS DEVELOPMENT',\n",
        "                  'CREDIT_TYPE_LOAN FOR PURCHASE OF SHARES (MARGIN LENDING)', \n",
        "                  'CREDIT_TYPE_LOAN FOR THE PURCHASE OF EQUIPMENT', 'CREDIT_TYPE_LOAN FOR WORKING CAPITAL REPLENISHMENT',\n",
        "                  'CREDIT_TYPE_MICROLOAN', 'CREDIT_TYPE_MOBILE OPERATOR LOAN', 'CREDIT_TYPE_MORTGAGE',\n",
        "                  'CREDIT_TYPE_REAL ESTATE LOAN', 'CREDIT_TYPE_UNKNOWN TYPE OF LOAN']\n",
        "display(columns_chosen)\n",
        "\n",
        "subset = bureau_summary[columns_chosen]\n",
        "pca_result = pca_2.fit_transform(subset)\n",
        "\n",
        "display(pca_2.explained_variance_ratio_.sum())"
      ],
      "execution_count": 68,
      "outputs": [
        {
          "output_type": "display_data",
          "data": {
            "text/plain": [
              "['CREDIT_TYPE_ANOTHER TYPE OF LOAN',\n",
              " 'CREDIT_TYPE_CAR LOAN',\n",
              " 'CREDIT_TYPE_CASH LOAN (NON-EARMARKED)',\n",
              " 'CREDIT_TYPE_CONSUMER CREDIT',\n",
              " 'CREDIT_TYPE_CREDIT CARD',\n",
              " 'CREDIT_TYPE_LOAN FOR BUSINESS DEVELOPMENT',\n",
              " 'CREDIT_TYPE_LOAN FOR PURCHASE OF SHARES (MARGIN LENDING)',\n",
              " 'CREDIT_TYPE_LOAN FOR THE PURCHASE OF EQUIPMENT',\n",
              " 'CREDIT_TYPE_LOAN FOR WORKING CAPITAL REPLENISHMENT',\n",
              " 'CREDIT_TYPE_MICROLOAN',\n",
              " 'CREDIT_TYPE_MOBILE OPERATOR LOAN',\n",
              " 'CREDIT_TYPE_MORTGAGE',\n",
              " 'CREDIT_TYPE_REAL ESTATE LOAN',\n",
              " 'CREDIT_TYPE_UNKNOWN TYPE OF LOAN']"
            ]
          },
          "metadata": {
            "tags": []
          }
        },
        {
          "output_type": "display_data",
          "data": {
            "text/plain": [
              "0.9823374994991699"
            ]
          },
          "metadata": {
            "tags": []
          }
        }
      ]
    },
    {
      "cell_type": "code",
      "metadata": {
        "id": "zThGFATVF3gw"
      },
      "source": [
        "pca_df = pd.DataFrame(pca_result, columns = ['CREDIT_TYPE_PC_1', 'CREDIT_TYPE_PC_2'],\n",
        "             index=bureau_summary.index)\n",
        "bureau_summary.drop(columns=columns_chosen, inplace=True)\n",
        "bureau_summary = bureau_summary.merge(pca_df, left_index=True, right_index=True)"
      ],
      "execution_count": 69,
      "outputs": []
    },
    {
      "cell_type": "code",
      "metadata": {
        "colab": {
          "base_uri": "https://localhost:8080/",
          "height": 170
        },
        "id": "sKrHIICnF7dq",
        "outputId": "81489b76-c478-4fc7-abc2-201ad6c1003d"
      },
      "source": [
        "columns_chosen = ['STATUS_0', 'STATUS_1', 'STATUS_2', 'STATUS_3', 'STATUS_4', 'STATUS_5', 'STATUS_C', 'STATUS_X']\n",
        "display(columns_chosen)\n",
        "\n",
        "subset = bureau_summary[columns_chosen]\n",
        "pca_result = pca_3.fit_transform(subset)\n",
        "\n",
        "display(pca_3.explained_variance_ratio_.sum())"
      ],
      "execution_count": 70,
      "outputs": [
        {
          "output_type": "display_data",
          "data": {
            "text/plain": [
              "['STATUS_0',\n",
              " 'STATUS_1',\n",
              " 'STATUS_2',\n",
              " 'STATUS_3',\n",
              " 'STATUS_4',\n",
              " 'STATUS_5',\n",
              " 'STATUS_C',\n",
              " 'STATUS_X']"
            ]
          },
          "metadata": {
            "tags": []
          }
        },
        {
          "output_type": "display_data",
          "data": {
            "text/plain": [
              "0.9977283460760066"
            ]
          },
          "metadata": {
            "tags": []
          }
        }
      ]
    },
    {
      "cell_type": "code",
      "metadata": {
        "id": "QHlNboQ3GSgS"
      },
      "source": [
        "pca_df = pd.DataFrame(pca_result, columns = ['CREDIT_STATUS_PC_1', 'CREDIT_STATUS_PC_2', 'CREDIT_STATUS_PC_3'],\n",
        "             index=bureau_summary.index)\n",
        "bureau_summary.drop(columns=columns_chosen, inplace=True)\n",
        "bureau_summary = bureau_summary.merge(pca_df, left_index=True, right_index=True)"
      ],
      "execution_count": 71,
      "outputs": []
    },
    {
      "cell_type": "code",
      "metadata": {
        "colab": {
          "base_uri": "https://localhost:8080/"
        },
        "id": "pzcWugrUGhlq",
        "outputId": "f43c2987-e8fb-4b7b-e3d1-e76ed716289f"
      },
      "source": [
        "bureau_summary.info()"
      ],
      "execution_count": 72,
      "outputs": [
        {
          "output_type": "stream",
          "text": [
            "<class 'pandas.core.frame.DataFrame'>\n",
            "Int64Index: 134542 entries, 262151 to 262140\n",
            "Data columns (total 22 columns):\n",
            " #   Column                      Non-Null Count   Dtype  \n",
            "---  ------                      --------------   -----  \n",
            " 0   AMT_ANNUITY_SUM             134542 non-null  float64\n",
            " 1   AMT_CREDIT_MAX_OVERDUE_SUM  134542 non-null  float64\n",
            " 2   AMT_CREDIT_SUM_SUM          134542 non-null  float64\n",
            " 3   AMT_CREDIT_SUM_DEBT_SUM     134542 non-null  float64\n",
            " 4   AMT_CREDIT_SUM_LIMIT_SUM    134542 non-null  float64\n",
            " 5   AMT_CREDIT_SUM_OVERDUE_SUM  134542 non-null  float64\n",
            " 6   CNT_CREDIT_PROLONG_SUM      134542 non-null  int64  \n",
            " 7   CREDIT_DAY_OVERDUE_SUM      134542 non-null  int64  \n",
            " 8   DAYS_CREDIT_SUM             134542 non-null  int64  \n",
            " 9   DAYS_CREDIT_ENDDATE_SUM     134542 non-null  float64\n",
            " 10  DAYS_CREDIT_UPDATE_SUM      134542 non-null  int64  \n",
            " 11  DAYS_ENDDATE_FACT_SUM       134542 non-null  float64\n",
            " 12  MONTHS_BALANCE_SUM          134542 non-null  int64  \n",
            " 13  CREDIT_ACTIVE_PC_1          134542 non-null  float64\n",
            " 14  CREDIT_ACTIVE_PC_2          134542 non-null  float64\n",
            " 15  CREDIT_CURRENCY_PC_1        134542 non-null  float64\n",
            " 16  CREDIT_CURRENCY_PC_2        134542 non-null  float64\n",
            " 17  CREDIT_TYPE_PC_1            134542 non-null  float64\n",
            " 18  CREDIT_TYPE_PC_2            134542 non-null  float64\n",
            " 19  CREDIT_STATUS_PC_1          134542 non-null  float64\n",
            " 20  CREDIT_STATUS_PC_2          134542 non-null  float64\n",
            " 21  CREDIT_STATUS_PC_3          134542 non-null  float64\n",
            "dtypes: float64(17), int64(5)\n",
            "memory usage: 28.6 MB\n"
          ],
          "name": "stdout"
        }
      ]
    },
    {
      "cell_type": "markdown",
      "metadata": {
        "id": "TcHUX1uBGwu6"
      },
      "source": [
        "## Application DF"
      ]
    },
    {
      "cell_type": "code",
      "metadata": {
        "colab": {
          "base_uri": "https://localhost:8080/"
        },
        "id": "gJSjU2WsGvKY",
        "outputId": "5c4ddff3-16f2-4248-817a-eaf1e3959f81"
      },
      "source": [
        "application_train.info()"
      ],
      "execution_count": 73,
      "outputs": [
        {
          "output_type": "stream",
          "text": [
            "<class 'pandas.core.frame.DataFrame'>\n",
            "RangeIndex: 307511 entries, 0 to 307510\n",
            "Data columns (total 65 columns):\n",
            " #   Column                       Non-Null Count   Dtype   \n",
            "---  ------                       --------------   -----   \n",
            " 0   SK_ID_CURR                   307511 non-null  int64   \n",
            " 1   TARGET                       307511 non-null  int64   \n",
            " 2   NAME_CONTRACT_TYPE           307511 non-null  category\n",
            " 3   CODE_GENDER                  307511 non-null  category\n",
            " 4   FLAG_OWN_CAR                 307511 non-null  category\n",
            " 5   FLAG_OWN_REALTY              307511 non-null  category\n",
            " 6   CNT_CHILDREN                 307511 non-null  int64   \n",
            " 7   AMT_INCOME_TOTAL             307511 non-null  float64 \n",
            " 8   AMT_CREDIT                   307511 non-null  float64 \n",
            " 9   AMT_ANNUITY                  307511 non-null  float64 \n",
            " 10  AMT_GOODS_PRICE              307511 non-null  float64 \n",
            " 11  NAME_INCOME_TYPE             307511 non-null  category\n",
            " 12  NAME_EDUCATION_TYPE          307511 non-null  category\n",
            " 13  NAME_FAMILY_STATUS           307511 non-null  category\n",
            " 14  NAME_HOUSING_TYPE            307511 non-null  category\n",
            " 15  DAYS_BIRTH                   307511 non-null  int64   \n",
            " 16  DAYS_EMPLOYED                307511 non-null  int64   \n",
            " 17  OWN_CAR_AGE                  307511 non-null  float64 \n",
            " 18  FLAG_MOBIL                   307511 non-null  int64   \n",
            " 19  FLAG_EMP_PHONE               307511 non-null  int64   \n",
            " 20  FLAG_WORK_PHONE              307511 non-null  int64   \n",
            " 21  FLAG_CONT_MOBILE             307511 non-null  int64   \n",
            " 22  FLAG_PHONE                   307511 non-null  int64   \n",
            " 23  FLAG_EMAIL                   307511 non-null  int64   \n",
            " 24  OCCUPATION_TYPE              307511 non-null  category\n",
            " 25  CNT_FAM_MEMBERS              307511 non-null  float64 \n",
            " 26  REGION_RATING_CLIENT         307511 non-null  int64   \n",
            " 27  REG_REGION_NOT_LIVE_REGION   307511 non-null  int64   \n",
            " 28  REG_REGION_NOT_WORK_REGION   307511 non-null  int64   \n",
            " 29  LIVE_REGION_NOT_WORK_REGION  307511 non-null  int64   \n",
            " 30  REG_CITY_NOT_LIVE_CITY       307511 non-null  int64   \n",
            " 31  REG_CITY_NOT_WORK_CITY       307511 non-null  int64   \n",
            " 32  LIVE_CITY_NOT_WORK_CITY      307511 non-null  int64   \n",
            " 33  ORGANIZATION_TYPE            307511 non-null  category\n",
            " 34  OBS_30_CNT_SOCIAL_CIRCLE     307511 non-null  float64 \n",
            " 35  DEF_30_CNT_SOCIAL_CIRCLE     307511 non-null  float64 \n",
            " 36  OBS_60_CNT_SOCIAL_CIRCLE     307511 non-null  float64 \n",
            " 37  DEF_60_CNT_SOCIAL_CIRCLE     307511 non-null  float64 \n",
            " 38  DAYS_LAST_PHONE_CHANGE       307511 non-null  float64 \n",
            " 39  FLAG_DOCUMENT_2              307511 non-null  int64   \n",
            " 40  FLAG_DOCUMENT_3              307511 non-null  int64   \n",
            " 41  FLAG_DOCUMENT_4              307511 non-null  int64   \n",
            " 42  FLAG_DOCUMENT_5              307511 non-null  int64   \n",
            " 43  FLAG_DOCUMENT_6              307511 non-null  int64   \n",
            " 44  FLAG_DOCUMENT_7              307511 non-null  int64   \n",
            " 45  FLAG_DOCUMENT_8              307511 non-null  int64   \n",
            " 46  FLAG_DOCUMENT_9              307511 non-null  int64   \n",
            " 47  FLAG_DOCUMENT_10             307511 non-null  int64   \n",
            " 48  FLAG_DOCUMENT_11             307511 non-null  int64   \n",
            " 49  FLAG_DOCUMENT_12             307511 non-null  int64   \n",
            " 50  FLAG_DOCUMENT_13             307511 non-null  int64   \n",
            " 51  FLAG_DOCUMENT_14             307511 non-null  int64   \n",
            " 52  FLAG_DOCUMENT_15             307511 non-null  int64   \n",
            " 53  FLAG_DOCUMENT_16             307511 non-null  int64   \n",
            " 54  FLAG_DOCUMENT_17             307511 non-null  int64   \n",
            " 55  FLAG_DOCUMENT_18             307511 non-null  int64   \n",
            " 56  FLAG_DOCUMENT_19             307511 non-null  int64   \n",
            " 57  FLAG_DOCUMENT_20             307511 non-null  int64   \n",
            " 58  FLAG_DOCUMENT_21             307511 non-null  int64   \n",
            " 59  AMT_REQ_CREDIT_BUREAU_HOUR   307511 non-null  float64 \n",
            " 60  AMT_REQ_CREDIT_BUREAU_DAY    307511 non-null  float64 \n",
            " 61  AMT_REQ_CREDIT_BUREAU_WEEK   307511 non-null  float64 \n",
            " 62  AMT_REQ_CREDIT_BUREAU_MON    307511 non-null  float64 \n",
            " 63  AMT_REQ_CREDIT_BUREAU_QRT    307511 non-null  float64 \n",
            " 64  AMT_REQ_CREDIT_BUREAU_YEAR   307511 non-null  float64 \n",
            "dtypes: category(10), float64(17), int64(38)\n",
            "memory usage: 132.0 MB\n"
          ],
          "name": "stdout"
        }
      ]
    },
    {
      "cell_type": "code",
      "metadata": {
        "colab": {
          "base_uri": "https://localhost:8080/"
        },
        "id": "Y_G9eWCHIAdv",
        "outputId": "498ee355-922c-4d4d-dee2-5bdfad0ccaac"
      },
      "source": [
        "application_test.info()"
      ],
      "execution_count": 74,
      "outputs": [
        {
          "output_type": "stream",
          "text": [
            "<class 'pandas.core.frame.DataFrame'>\n",
            "RangeIndex: 48744 entries, 0 to 48743\n",
            "Data columns (total 64 columns):\n",
            " #   Column                       Non-Null Count  Dtype   \n",
            "---  ------                       --------------  -----   \n",
            " 0   SK_ID_CURR                   48744 non-null  int64   \n",
            " 1   NAME_CONTRACT_TYPE           48744 non-null  category\n",
            " 2   CODE_GENDER                  48744 non-null  category\n",
            " 3   FLAG_OWN_CAR                 48744 non-null  category\n",
            " 4   FLAG_OWN_REALTY              48744 non-null  category\n",
            " 5   CNT_CHILDREN                 48744 non-null  int64   \n",
            " 6   AMT_INCOME_TOTAL             48744 non-null  float64 \n",
            " 7   AMT_CREDIT                   48744 non-null  float64 \n",
            " 8   AMT_ANNUITY                  48744 non-null  float64 \n",
            " 9   AMT_GOODS_PRICE              48744 non-null  float64 \n",
            " 10  NAME_INCOME_TYPE             48744 non-null  category\n",
            " 11  NAME_EDUCATION_TYPE          48744 non-null  category\n",
            " 12  NAME_FAMILY_STATUS           48744 non-null  category\n",
            " 13  NAME_HOUSING_TYPE            48744 non-null  category\n",
            " 14  DAYS_BIRTH                   48744 non-null  int64   \n",
            " 15  DAYS_EMPLOYED                48744 non-null  int64   \n",
            " 16  OWN_CAR_AGE                  48744 non-null  float64 \n",
            " 17  FLAG_MOBIL                   48744 non-null  int64   \n",
            " 18  FLAG_EMP_PHONE               48744 non-null  int64   \n",
            " 19  FLAG_WORK_PHONE              48744 non-null  int64   \n",
            " 20  FLAG_CONT_MOBILE             48744 non-null  int64   \n",
            " 21  FLAG_PHONE                   48744 non-null  int64   \n",
            " 22  FLAG_EMAIL                   48744 non-null  int64   \n",
            " 23  OCCUPATION_TYPE              48744 non-null  category\n",
            " 24  CNT_FAM_MEMBERS              48744 non-null  float64 \n",
            " 25  REGION_RATING_CLIENT         48744 non-null  int64   \n",
            " 26  REG_REGION_NOT_LIVE_REGION   48744 non-null  int64   \n",
            " 27  REG_REGION_NOT_WORK_REGION   48744 non-null  int64   \n",
            " 28  LIVE_REGION_NOT_WORK_REGION  48744 non-null  int64   \n",
            " 29  REG_CITY_NOT_LIVE_CITY       48744 non-null  int64   \n",
            " 30  REG_CITY_NOT_WORK_CITY       48744 non-null  int64   \n",
            " 31  LIVE_CITY_NOT_WORK_CITY      48744 non-null  int64   \n",
            " 32  ORGANIZATION_TYPE            48744 non-null  category\n",
            " 33  OBS_30_CNT_SOCIAL_CIRCLE     48744 non-null  float64 \n",
            " 34  DEF_30_CNT_SOCIAL_CIRCLE     48744 non-null  float64 \n",
            " 35  OBS_60_CNT_SOCIAL_CIRCLE     48744 non-null  float64 \n",
            " 36  DEF_60_CNT_SOCIAL_CIRCLE     48744 non-null  float64 \n",
            " 37  DAYS_LAST_PHONE_CHANGE       48744 non-null  float64 \n",
            " 38  FLAG_DOCUMENT_2              48744 non-null  int64   \n",
            " 39  FLAG_DOCUMENT_3              48744 non-null  int64   \n",
            " 40  FLAG_DOCUMENT_4              48744 non-null  int64   \n",
            " 41  FLAG_DOCUMENT_5              48744 non-null  int64   \n",
            " 42  FLAG_DOCUMENT_6              48744 non-null  int64   \n",
            " 43  FLAG_DOCUMENT_7              48744 non-null  int64   \n",
            " 44  FLAG_DOCUMENT_8              48744 non-null  int64   \n",
            " 45  FLAG_DOCUMENT_9              48744 non-null  int64   \n",
            " 46  FLAG_DOCUMENT_10             48744 non-null  int64   \n",
            " 47  FLAG_DOCUMENT_11             48744 non-null  int64   \n",
            " 48  FLAG_DOCUMENT_12             48744 non-null  int64   \n",
            " 49  FLAG_DOCUMENT_13             48744 non-null  int64   \n",
            " 50  FLAG_DOCUMENT_14             48744 non-null  int64   \n",
            " 51  FLAG_DOCUMENT_15             48744 non-null  int64   \n",
            " 52  FLAG_DOCUMENT_16             48744 non-null  int64   \n",
            " 53  FLAG_DOCUMENT_17             48744 non-null  int64   \n",
            " 54  FLAG_DOCUMENT_18             48744 non-null  int64   \n",
            " 55  FLAG_DOCUMENT_19             48744 non-null  int64   \n",
            " 56  FLAG_DOCUMENT_20             48744 non-null  int64   \n",
            " 57  FLAG_DOCUMENT_21             48744 non-null  int64   \n",
            " 58  AMT_REQ_CREDIT_BUREAU_HOUR   48744 non-null  float64 \n",
            " 59  AMT_REQ_CREDIT_BUREAU_DAY    48744 non-null  float64 \n",
            " 60  AMT_REQ_CREDIT_BUREAU_WEEK   48744 non-null  float64 \n",
            " 61  AMT_REQ_CREDIT_BUREAU_MON    48744 non-null  float64 \n",
            " 62  AMT_REQ_CREDIT_BUREAU_QRT    48744 non-null  float64 \n",
            " 63  AMT_REQ_CREDIT_BUREAU_YEAR   48744 non-null  float64 \n",
            "dtypes: category(10), float64(17), int64(37)\n",
            "memory usage: 20.6 MB\n"
          ],
          "name": "stdout"
        }
      ]
    },
    {
      "cell_type": "markdown",
      "metadata": {
        "id": "0418VJOqJDkl"
      },
      "source": [
        "We will reduce the flag document and amount of requested credit features using PCA"
      ]
    },
    {
      "cell_type": "code",
      "metadata": {
        "colab": {
          "base_uri": "https://localhost:8080/"
        },
        "id": "wmNKTQH-JCse",
        "outputId": "41b43664-e8b7-41c7-8c29-9bb656593249"
      },
      "source": [
        "application_train.columns"
      ],
      "execution_count": 75,
      "outputs": [
        {
          "output_type": "execute_result",
          "data": {
            "text/plain": [
              "Index(['SK_ID_CURR', 'TARGET', 'NAME_CONTRACT_TYPE', 'CODE_GENDER',\n",
              "       'FLAG_OWN_CAR', 'FLAG_OWN_REALTY', 'CNT_CHILDREN', 'AMT_INCOME_TOTAL',\n",
              "       'AMT_CREDIT', 'AMT_ANNUITY', 'AMT_GOODS_PRICE', 'NAME_INCOME_TYPE',\n",
              "       'NAME_EDUCATION_TYPE', 'NAME_FAMILY_STATUS', 'NAME_HOUSING_TYPE',\n",
              "       'DAYS_BIRTH', 'DAYS_EMPLOYED', 'OWN_CAR_AGE', 'FLAG_MOBIL',\n",
              "       'FLAG_EMP_PHONE', 'FLAG_WORK_PHONE', 'FLAG_CONT_MOBILE', 'FLAG_PHONE',\n",
              "       'FLAG_EMAIL', 'OCCUPATION_TYPE', 'CNT_FAM_MEMBERS',\n",
              "       'REGION_RATING_CLIENT', 'REG_REGION_NOT_LIVE_REGION',\n",
              "       'REG_REGION_NOT_WORK_REGION', 'LIVE_REGION_NOT_WORK_REGION',\n",
              "       'REG_CITY_NOT_LIVE_CITY', 'REG_CITY_NOT_WORK_CITY',\n",
              "       'LIVE_CITY_NOT_WORK_CITY', 'ORGANIZATION_TYPE',\n",
              "       'OBS_30_CNT_SOCIAL_CIRCLE', 'DEF_30_CNT_SOCIAL_CIRCLE',\n",
              "       'OBS_60_CNT_SOCIAL_CIRCLE', 'DEF_60_CNT_SOCIAL_CIRCLE',\n",
              "       'DAYS_LAST_PHONE_CHANGE', 'FLAG_DOCUMENT_2', 'FLAG_DOCUMENT_3',\n",
              "       'FLAG_DOCUMENT_4', 'FLAG_DOCUMENT_5', 'FLAG_DOCUMENT_6',\n",
              "       'FLAG_DOCUMENT_7', 'FLAG_DOCUMENT_8', 'FLAG_DOCUMENT_9',\n",
              "       'FLAG_DOCUMENT_10', 'FLAG_DOCUMENT_11', 'FLAG_DOCUMENT_12',\n",
              "       'FLAG_DOCUMENT_13', 'FLAG_DOCUMENT_14', 'FLAG_DOCUMENT_15',\n",
              "       'FLAG_DOCUMENT_16', 'FLAG_DOCUMENT_17', 'FLAG_DOCUMENT_18',\n",
              "       'FLAG_DOCUMENT_19', 'FLAG_DOCUMENT_20', 'FLAG_DOCUMENT_21',\n",
              "       'AMT_REQ_CREDIT_BUREAU_HOUR', 'AMT_REQ_CREDIT_BUREAU_DAY',\n",
              "       'AMT_REQ_CREDIT_BUREAU_WEEK', 'AMT_REQ_CREDIT_BUREAU_MON',\n",
              "       'AMT_REQ_CREDIT_BUREAU_QRT', 'AMT_REQ_CREDIT_BUREAU_YEAR'],\n",
              "      dtype='object')"
            ]
          },
          "metadata": {
            "tags": []
          },
          "execution_count": 75
        }
      ]
    },
    {
      "cell_type": "code",
      "metadata": {
        "id": "OQ18aYn0KXCu"
      },
      "source": [
        "pca_5=PCA(n_components=5)"
      ],
      "execution_count": 76,
      "outputs": []
    },
    {
      "cell_type": "code",
      "metadata": {
        "colab": {
          "base_uri": "https://localhost:8080/",
          "height": 34
        },
        "id": "QxrBhEHEICz0",
        "outputId": "b1c51a8f-c47a-4065-d272-60ac70a22106"
      },
      "source": [
        "columns_1 = ['FLAG_DOCUMENT_2', 'FLAG_DOCUMENT_3', 'FLAG_DOCUMENT_4', 'FLAG_DOCUMENT_5', 'FLAG_DOCUMENT_6',\n",
        "             'FLAG_DOCUMENT_7', 'FLAG_DOCUMENT_8', 'FLAG_DOCUMENT_9', 'FLAG_DOCUMENT_10', 'FLAG_DOCUMENT_11',\n",
        "             'FLAG_DOCUMENT_12', 'FLAG_DOCUMENT_13', 'FLAG_DOCUMENT_14', 'FLAG_DOCUMENT_15', 'FLAG_DOCUMENT_16',\n",
        "             'FLAG_DOCUMENT_17', 'FLAG_DOCUMENT_18', 'FLAG_DOCUMENT_19', 'FLAG_DOCUMENT_20', 'FLAG_DOCUMENT_21']\n",
        "\n",
        "subset_train = application_train[columns_1]\n",
        "subset_test = application_test[columns_1]\n",
        "\n",
        "pca_result_train = pca_5.fit_transform(subset_train)\n",
        "pca_result_test = pca_5.transform(subset_test)\n",
        "\n",
        "display(pca_5.explained_variance_ratio_.sum())"
      ],
      "execution_count": 77,
      "outputs": [
        {
          "output_type": "display_data",
          "data": {
            "text/plain": [
              "0.9387277454776588"
            ]
          },
          "metadata": {
            "tags": []
          }
        }
      ]
    },
    {
      "cell_type": "code",
      "metadata": {
        "id": "FGvOfvszKI23"
      },
      "source": [
        "pca_train_df = pd.DataFrame(pca_result_train, columns = ['FLAG_DOCUMENT_PC_1', 'FLAG_DOCUMENT_PC_2', 'FLAG_DOCUMENT_PC_3',\n",
        "                            'FLAG_DOCUMENT_PC_4', 'FLAG_DOCUMENT_PC_5'], index=application_train.index)\n",
        "\n",
        "pca_test_df = pd.DataFrame(pca_result_test, columns = ['FLAG_DOCUMENT_PC_1', 'FLAG_DOCUMENT_PC_2', 'FLAG_DOCUMENT_PC_3',\n",
        "                           'FLAG_DOCUMENT_PC_4', 'FLAG_DOCUMENT_PC_5'], index=application_test.index)\n",
        "\n",
        "application_train.drop(columns=columns_1, inplace=True)\n",
        "application_train = application_train.merge(pca_train_df, left_index=True, right_index=True)\n",
        "\n",
        "application_test.drop(columns=columns_1, inplace=True)\n",
        "application_test = application_test.merge(pca_test_df, left_index=True, right_index=True)"
      ],
      "execution_count": 78,
      "outputs": []
    },
    {
      "cell_type": "code",
      "metadata": {
        "colab": {
          "base_uri": "https://localhost:8080/",
          "height": 34
        },
        "id": "eE-W08U6LNw5",
        "outputId": "12b21d5a-6d5f-448e-9a4a-89f568e4f7d3"
      },
      "source": [
        "columns_2 = ['AMT_REQ_CREDIT_BUREAU_HOUR', 'AMT_REQ_CREDIT_BUREAU_DAY', 'AMT_REQ_CREDIT_BUREAU_WEEK',\n",
        "             'AMT_REQ_CREDIT_BUREAU_MON', 'AMT_REQ_CREDIT_BUREAU_QRT', 'AMT_REQ_CREDIT_BUREAU_YEAR']\n",
        "\n",
        "subset_train = application_train[columns_2]\n",
        "subset_test = application_test[columns_2]\n",
        "\n",
        "pca_result_train = pca_2.fit_transform(subset_train)\n",
        "pca_result_test = pca_2.transform(subset_test)\n",
        "\n",
        "display(pca_2.explained_variance_ratio_.sum())"
      ],
      "execution_count": 79,
      "outputs": [
        {
          "output_type": "display_data",
          "data": {
            "text/plain": [
              "0.9998481294534928"
            ]
          },
          "metadata": {
            "tags": []
          }
        }
      ]
    },
    {
      "cell_type": "code",
      "metadata": {
        "id": "5udh9tcfLxSC"
      },
      "source": [
        "pca_train_df = pd.DataFrame(pca_result_train, columns = ['AMT_REQ_CREDIT_PC_1', 'AMT_REQ_CREDIT_PC_2'],\n",
        "                            index=application_train.index)\n",
        "\n",
        "pca_test_df = pd.DataFrame(pca_result_test, columns = ['AMT_REQ_CREDIT_PC_1', 'AMT_REQ_CREDIT_PC_2'],\n",
        "                            index=application_test.index)\n",
        "\n",
        "application_train.drop(columns=columns_2, inplace=True)\n",
        "application_train = application_train.merge(pca_train_df, left_index=True, right_index=True)\n",
        "\n",
        "application_test.drop(columns=columns_2, inplace=True)\n",
        "application_test = application_test.merge(pca_test_df, left_index=True, right_index=True)"
      ],
      "execution_count": 80,
      "outputs": []
    },
    {
      "cell_type": "code",
      "metadata": {
        "colab": {
          "base_uri": "https://localhost:8080/"
        },
        "id": "ubRnbVTOMgep",
        "outputId": "5a3f625b-ba82-47bc-d6c0-1252fc00b801"
      },
      "source": [
        "application_train.set_index(application_train['SK_ID_CURR'], drop=False, inplace=True)\n",
        "application_train.info()"
      ],
      "execution_count": 81,
      "outputs": [
        {
          "output_type": "stream",
          "text": [
            "<class 'pandas.core.frame.DataFrame'>\n",
            "Int64Index: 307511 entries, 100002 to 456255\n",
            "Data columns (total 46 columns):\n",
            " #   Column                       Non-Null Count   Dtype   \n",
            "---  ------                       --------------   -----   \n",
            " 0   SK_ID_CURR                   307511 non-null  int64   \n",
            " 1   TARGET                       307511 non-null  int64   \n",
            " 2   NAME_CONTRACT_TYPE           307511 non-null  category\n",
            " 3   CODE_GENDER                  307511 non-null  category\n",
            " 4   FLAG_OWN_CAR                 307511 non-null  category\n",
            " 5   FLAG_OWN_REALTY              307511 non-null  category\n",
            " 6   CNT_CHILDREN                 307511 non-null  int64   \n",
            " 7   AMT_INCOME_TOTAL             307511 non-null  float64 \n",
            " 8   AMT_CREDIT                   307511 non-null  float64 \n",
            " 9   AMT_ANNUITY                  307511 non-null  float64 \n",
            " 10  AMT_GOODS_PRICE              307511 non-null  float64 \n",
            " 11  NAME_INCOME_TYPE             307511 non-null  category\n",
            " 12  NAME_EDUCATION_TYPE          307511 non-null  category\n",
            " 13  NAME_FAMILY_STATUS           307511 non-null  category\n",
            " 14  NAME_HOUSING_TYPE            307511 non-null  category\n",
            " 15  DAYS_BIRTH                   307511 non-null  int64   \n",
            " 16  DAYS_EMPLOYED                307511 non-null  int64   \n",
            " 17  OWN_CAR_AGE                  307511 non-null  float64 \n",
            " 18  FLAG_MOBIL                   307511 non-null  int64   \n",
            " 19  FLAG_EMP_PHONE               307511 non-null  int64   \n",
            " 20  FLAG_WORK_PHONE              307511 non-null  int64   \n",
            " 21  FLAG_CONT_MOBILE             307511 non-null  int64   \n",
            " 22  FLAG_PHONE                   307511 non-null  int64   \n",
            " 23  FLAG_EMAIL                   307511 non-null  int64   \n",
            " 24  OCCUPATION_TYPE              307511 non-null  category\n",
            " 25  CNT_FAM_MEMBERS              307511 non-null  float64 \n",
            " 26  REGION_RATING_CLIENT         307511 non-null  int64   \n",
            " 27  REG_REGION_NOT_LIVE_REGION   307511 non-null  int64   \n",
            " 28  REG_REGION_NOT_WORK_REGION   307511 non-null  int64   \n",
            " 29  LIVE_REGION_NOT_WORK_REGION  307511 non-null  int64   \n",
            " 30  REG_CITY_NOT_LIVE_CITY       307511 non-null  int64   \n",
            " 31  REG_CITY_NOT_WORK_CITY       307511 non-null  int64   \n",
            " 32  LIVE_CITY_NOT_WORK_CITY      307511 non-null  int64   \n",
            " 33  ORGANIZATION_TYPE            307511 non-null  category\n",
            " 34  OBS_30_CNT_SOCIAL_CIRCLE     307511 non-null  float64 \n",
            " 35  DEF_30_CNT_SOCIAL_CIRCLE     307511 non-null  float64 \n",
            " 36  OBS_60_CNT_SOCIAL_CIRCLE     307511 non-null  float64 \n",
            " 37  DEF_60_CNT_SOCIAL_CIRCLE     307511 non-null  float64 \n",
            " 38  DAYS_LAST_PHONE_CHANGE       307511 non-null  float64 \n",
            " 39  FLAG_DOCUMENT_PC_1           307511 non-null  float64 \n",
            " 40  FLAG_DOCUMENT_PC_2           307511 non-null  float64 \n",
            " 41  FLAG_DOCUMENT_PC_3           307511 non-null  float64 \n",
            " 42  FLAG_DOCUMENT_PC_4           307511 non-null  float64 \n",
            " 43  FLAG_DOCUMENT_PC_5           307511 non-null  float64 \n",
            " 44  AMT_REQ_CREDIT_PC_1          307511 non-null  float64 \n",
            " 45  AMT_REQ_CREDIT_PC_2          307511 non-null  float64 \n",
            "dtypes: category(10), float64(18), int64(18)\n",
            "memory usage: 89.7 MB\n"
          ],
          "name": "stdout"
        }
      ]
    },
    {
      "cell_type": "code",
      "metadata": {
        "colab": {
          "base_uri": "https://localhost:8080/"
        },
        "id": "0-MgRl3zMid0",
        "outputId": "e0bb4dd6-7455-4911-c430-598f2caf8778"
      },
      "source": [
        "application_test.set_index(application_test['SK_ID_CURR'], drop=False, inplace=True)\n",
        "application_test.info()"
      ],
      "execution_count": 82,
      "outputs": [
        {
          "output_type": "stream",
          "text": [
            "<class 'pandas.core.frame.DataFrame'>\n",
            "Int64Index: 48744 entries, 100001 to 456250\n",
            "Data columns (total 45 columns):\n",
            " #   Column                       Non-Null Count  Dtype   \n",
            "---  ------                       --------------  -----   \n",
            " 0   SK_ID_CURR                   48744 non-null  int64   \n",
            " 1   NAME_CONTRACT_TYPE           48744 non-null  category\n",
            " 2   CODE_GENDER                  48744 non-null  category\n",
            " 3   FLAG_OWN_CAR                 48744 non-null  category\n",
            " 4   FLAG_OWN_REALTY              48744 non-null  category\n",
            " 5   CNT_CHILDREN                 48744 non-null  int64   \n",
            " 6   AMT_INCOME_TOTAL             48744 non-null  float64 \n",
            " 7   AMT_CREDIT                   48744 non-null  float64 \n",
            " 8   AMT_ANNUITY                  48744 non-null  float64 \n",
            " 9   AMT_GOODS_PRICE              48744 non-null  float64 \n",
            " 10  NAME_INCOME_TYPE             48744 non-null  category\n",
            " 11  NAME_EDUCATION_TYPE          48744 non-null  category\n",
            " 12  NAME_FAMILY_STATUS           48744 non-null  category\n",
            " 13  NAME_HOUSING_TYPE            48744 non-null  category\n",
            " 14  DAYS_BIRTH                   48744 non-null  int64   \n",
            " 15  DAYS_EMPLOYED                48744 non-null  int64   \n",
            " 16  OWN_CAR_AGE                  48744 non-null  float64 \n",
            " 17  FLAG_MOBIL                   48744 non-null  int64   \n",
            " 18  FLAG_EMP_PHONE               48744 non-null  int64   \n",
            " 19  FLAG_WORK_PHONE              48744 non-null  int64   \n",
            " 20  FLAG_CONT_MOBILE             48744 non-null  int64   \n",
            " 21  FLAG_PHONE                   48744 non-null  int64   \n",
            " 22  FLAG_EMAIL                   48744 non-null  int64   \n",
            " 23  OCCUPATION_TYPE              48744 non-null  category\n",
            " 24  CNT_FAM_MEMBERS              48744 non-null  float64 \n",
            " 25  REGION_RATING_CLIENT         48744 non-null  int64   \n",
            " 26  REG_REGION_NOT_LIVE_REGION   48744 non-null  int64   \n",
            " 27  REG_REGION_NOT_WORK_REGION   48744 non-null  int64   \n",
            " 28  LIVE_REGION_NOT_WORK_REGION  48744 non-null  int64   \n",
            " 29  REG_CITY_NOT_LIVE_CITY       48744 non-null  int64   \n",
            " 30  REG_CITY_NOT_WORK_CITY       48744 non-null  int64   \n",
            " 31  LIVE_CITY_NOT_WORK_CITY      48744 non-null  int64   \n",
            " 32  ORGANIZATION_TYPE            48744 non-null  category\n",
            " 33  OBS_30_CNT_SOCIAL_CIRCLE     48744 non-null  float64 \n",
            " 34  DEF_30_CNT_SOCIAL_CIRCLE     48744 non-null  float64 \n",
            " 35  OBS_60_CNT_SOCIAL_CIRCLE     48744 non-null  float64 \n",
            " 36  DEF_60_CNT_SOCIAL_CIRCLE     48744 non-null  float64 \n",
            " 37  DAYS_LAST_PHONE_CHANGE       48744 non-null  float64 \n",
            " 38  FLAG_DOCUMENT_PC_1           48744 non-null  float64 \n",
            " 39  FLAG_DOCUMENT_PC_2           48744 non-null  float64 \n",
            " 40  FLAG_DOCUMENT_PC_3           48744 non-null  float64 \n",
            " 41  FLAG_DOCUMENT_PC_4           48744 non-null  float64 \n",
            " 42  FLAG_DOCUMENT_PC_5           48744 non-null  float64 \n",
            " 43  AMT_REQ_CREDIT_PC_1          48744 non-null  float64 \n",
            " 44  AMT_REQ_CREDIT_PC_2          48744 non-null  float64 \n",
            "dtypes: category(10), float64(18), int64(17)\n",
            "memory usage: 13.9 MB\n"
          ],
          "name": "stdout"
        }
      ]
    },
    {
      "cell_type": "code",
      "metadata": {
        "colab": {
          "base_uri": "https://localhost:8080/",
          "height": 969
        },
        "id": "_9K2xvgYNikC",
        "outputId": "1d7f15fe-36f8-4e91-b508-5ed4a7de76c7"
      },
      "source": [
        "application_train = application_train.merge(previous_application_summary, how = 'left', left_index=True, right_index=True)\n",
        "\n",
        "null_columns_train=application_train.columns[application_train.isnull().any()]\n",
        "print(\"Count of Null Entries in Train Columns: \")\n",
        "display(application_train[null_columns_train].isnull().sum())\n",
        "\n",
        "application_test = application_test.merge(previous_application_summary, how = 'left', left_index=True, right_index=True)\n",
        "\n",
        "null_columns_test=application_test.columns[application_test.isnull().any()]\n",
        "print(\"Count of Null Entries in Test Columns: \")\n",
        "display(application_test[null_columns_test].isnull().sum())"
      ],
      "execution_count": 83,
      "outputs": [
        {
          "output_type": "stream",
          "text": [
            "Count of Null Entries in Train Columns: \n"
          ],
          "name": "stdout"
        },
        {
          "output_type": "display_data",
          "data": {
            "text/plain": [
              "AMT_ANNUITY_MEAN                  16871\n",
              "AMT_APPLICATION_MEAN              16454\n",
              "AMT_CREDIT_MEAN                   16454\n",
              "AMT_DOWN_PAYMENT_MEAN             33906\n",
              "AMT_DOWN_PAYMENT_SUM              16454\n",
              "AMT_GOODS_PRICE_MEAN              17429\n",
              "RATE_DOWN_PAYMENT_MEAN            33906\n",
              "RATE_DOWN_PAYMENT_SUM             16454\n",
              "RATE_INTEREST_PRIMARY_MEAN       302902\n",
              "RATE_INTEREST_PRIMARY_SUM         16454\n",
              "RATE_INTEREST_PRIVILEGED_MEAN    302902\n",
              "RATE_INTEREST_PRIVILEGED_SUM      16454\n",
              "NAME_CONTRACT_PC_1                16454\n",
              "NAME_CONTRACT_PC_2                16454\n",
              "NAME_CONTRACT_PC_3                16454\n",
              "CODE_REJECT_REASON_PC_1           16454\n",
              "CODE_REJECT_REASON_PC_2           16454\n",
              "NAME_CLIENT_TYPE_PC_1             16454\n",
              "NAME_CLIENT_TYPE_PC_2             16454\n",
              "NAME_PORTFOLIO_PC_1               16454\n",
              "NAME_PORTFOLIO_PC_2               16454\n",
              "NAME_PORTFOLIO_PC_3               16454\n",
              "NAME_PRODUCT_TYPE_PC_1            16454\n",
              "NAME_PRODUCT_TYPE_PC_2            16454\n",
              "AMT_SUM_PC_1                      16454\n",
              "AMT_SUM_PC_2                      16454\n",
              "dtype: int64"
            ]
          },
          "metadata": {
            "tags": []
          }
        },
        {
          "output_type": "stream",
          "text": [
            "Count of Null Entries in Test Columns: \n"
          ],
          "name": "stdout"
        },
        {
          "output_type": "display_data",
          "data": {
            "text/plain": [
              "AMT_ANNUITY_MEAN                  1007\n",
              "AMT_APPLICATION_MEAN               944\n",
              "AMT_CREDIT_MEAN                    944\n",
              "AMT_DOWN_PAYMENT_MEAN             3596\n",
              "AMT_DOWN_PAYMENT_SUM               944\n",
              "AMT_GOODS_PRICE_MEAN              1033\n",
              "RATE_DOWN_PAYMENT_MEAN            3596\n",
              "RATE_DOWN_PAYMENT_SUM              944\n",
              "RATE_INTEREST_PRIMARY_MEAN       47632\n",
              "RATE_INTEREST_PRIMARY_SUM          944\n",
              "RATE_INTEREST_PRIVILEGED_MEAN    47632\n",
              "RATE_INTEREST_PRIVILEGED_SUM       944\n",
              "NAME_CONTRACT_PC_1                 944\n",
              "NAME_CONTRACT_PC_2                 944\n",
              "NAME_CONTRACT_PC_3                 944\n",
              "CODE_REJECT_REASON_PC_1            944\n",
              "CODE_REJECT_REASON_PC_2            944\n",
              "NAME_CLIENT_TYPE_PC_1              944\n",
              "NAME_CLIENT_TYPE_PC_2              944\n",
              "NAME_PORTFOLIO_PC_1                944\n",
              "NAME_PORTFOLIO_PC_2                944\n",
              "NAME_PORTFOLIO_PC_3                944\n",
              "NAME_PRODUCT_TYPE_PC_1             944\n",
              "NAME_PRODUCT_TYPE_PC_2             944\n",
              "AMT_SUM_PC_1                       944\n",
              "AMT_SUM_PC_2                       944\n",
              "dtype: int64"
            ]
          },
          "metadata": {
            "tags": []
          }
        }
      ]
    },
    {
      "cell_type": "code",
      "metadata": {
        "colab": {
          "base_uri": "https://localhost:8080/"
        },
        "id": "MEtYGu68PaWw",
        "outputId": "29bfc8b7-83db-494b-cb66-b7d241e346b8"
      },
      "source": [
        "for col in null_columns_train:\n",
        "  print(\"Column Name: \", col, \" Minimum Number: \", application_train[col].min())\n",
        "  application_train[col].fillna(-999, inplace=True)\n",
        "\n",
        "print(\" \")\n",
        "for col in null_columns_test:\n",
        "  print(\"Column Name: \", col, \" Minimum Number: \", application_test[col].min())\n",
        "  application_test[col].fillna(-999, inplace=True)"
      ],
      "execution_count": 84,
      "outputs": [
        {
          "output_type": "stream",
          "text": [
            "Column Name:  AMT_ANNUITY_MEAN  Minimum Number:  0.0\n",
            "Column Name:  AMT_APPLICATION_MEAN  Minimum Number:  0.0\n",
            "Column Name:  AMT_CREDIT_MEAN  Minimum Number:  0.0\n",
            "Column Name:  AMT_DOWN_PAYMENT_MEAN  Minimum Number:  -0.225\n",
            "Column Name:  AMT_DOWN_PAYMENT_SUM  Minimum Number:  -0.45\n",
            "Column Name:  AMT_GOODS_PRICE_MEAN  Minimum Number:  0.0\n",
            "Column Name:  RATE_DOWN_PAYMENT_MEAN  Minimum Number:  -7.489381707153923e-06\n",
            "Column Name:  RATE_DOWN_PAYMENT_SUM  Minimum Number:  -1.4978763414307847e-05\n",
            "Column Name:  RATE_INTEREST_PRIMARY_MEAN  Minimum Number:  0.03478125354187918\n",
            "Column Name:  RATE_INTEREST_PRIMARY_SUM  Minimum Number:  0.0\n",
            "Column Name:  RATE_INTEREST_PRIVILEGED_MEAN  Minimum Number:  0.3731501057082452\n",
            "Column Name:  RATE_INTEREST_PRIVILEGED_SUM  Minimum Number:  0.0\n",
            "Column Name:  NAME_CONTRACT_PC_1  Minimum Number:  -3.617067132205319\n",
            "Column Name:  NAME_CONTRACT_PC_2  Minimum Number:  -28.92494426114426\n",
            "Column Name:  NAME_CONTRACT_PC_3  Minimum Number:  -16.69308578691104\n",
            "Column Name:  CODE_REJECT_REASON_PC_1  Minimum Number:  -4.018851142490406\n",
            "Column Name:  CODE_REJECT_REASON_PC_2  Minimum Number:  -11.685274879958419\n",
            "Column Name:  NAME_CLIENT_TYPE_PC_1  Minimum Number:  -4.153976550805697\n",
            "Column Name:  NAME_CLIENT_TYPE_PC_2  Minimum Number:  -5.651885841766483\n",
            "Column Name:  NAME_PORTFOLIO_PC_1  Minimum Number:  -1.9377173753848989\n",
            "Column Name:  NAME_PORTFOLIO_PC_2  Minimum Number:  -7.569567873469806\n",
            "Column Name:  NAME_PORTFOLIO_PC_3  Minimum Number:  -30.26725273203527\n",
            "Column Name:  NAME_PRODUCT_TYPE_PC_1  Minimum Number:  -3.3450976237183703\n",
            "Column Name:  NAME_PRODUCT_TYPE_PC_2  Minimum Number:  -26.433546662563117\n",
            "Column Name:  AMT_SUM_PC_1  Minimum Number:  -1558812.000502411\n",
            "Column Name:  AMT_SUM_PC_2  Minimum Number:  -3695456.360015736\n",
            " \n",
            "Column Name:  AMT_ANNUITY_MEAN  Minimum Number:  885.78\n",
            "Column Name:  AMT_APPLICATION_MEAN  Minimum Number:  0.0\n",
            "Column Name:  AMT_CREDIT_MEAN  Minimum Number:  0.0\n",
            "Column Name:  AMT_DOWN_PAYMENT_MEAN  Minimum Number:  0.0\n",
            "Column Name:  AMT_DOWN_PAYMENT_SUM  Minimum Number:  0.0\n",
            "Column Name:  AMT_GOODS_PRICE_MEAN  Minimum Number:  0.0\n",
            "Column Name:  RATE_DOWN_PAYMENT_MEAN  Minimum Number:  0.0\n",
            "Column Name:  RATE_DOWN_PAYMENT_SUM  Minimum Number:  0.0\n",
            "Column Name:  RATE_INTEREST_PRIMARY_MEAN  Minimum Number:  0.05913521477955345\n",
            "Column Name:  RATE_INTEREST_PRIMARY_SUM  Minimum Number:  0.0\n",
            "Column Name:  RATE_INTEREST_PRIVILEGED_MEAN  Minimum Number:  0.3731501057082452\n",
            "Column Name:  RATE_INTEREST_PRIVILEGED_SUM  Minimum Number:  0.0\n",
            "Column Name:  NAME_CONTRACT_PC_1  Minimum Number:  -3.617067132205319\n",
            "Column Name:  NAME_CONTRACT_PC_2  Minimum Number:  -19.508463347167687\n",
            "Column Name:  NAME_CONTRACT_PC_3  Minimum Number:  -10.738614469491461\n",
            "Column Name:  CODE_REJECT_REASON_PC_1  Minimum Number:  -4.016389896110197\n",
            "Column Name:  CODE_REJECT_REASON_PC_2  Minimum Number:  -7.40022212242213\n",
            "Column Name:  NAME_CLIENT_TYPE_PC_1  Minimum Number:  -3.9124315750666065\n",
            "Column Name:  NAME_CLIENT_TYPE_PC_2  Minimum Number:  -4.6821368100104515\n",
            "Column Name:  NAME_PORTFOLIO_PC_1  Minimum Number:  -1.9377173753848989\n",
            "Column Name:  NAME_PORTFOLIO_PC_2  Minimum Number:  -7.94017898865542\n",
            "Column Name:  NAME_PORTFOLIO_PC_3  Minimum Number:  -19.734568840649\n",
            "Column Name:  NAME_PRODUCT_TYPE_PC_1  Minimum Number:  -3.3450976237183703\n",
            "Column Name:  NAME_PRODUCT_TYPE_PC_2  Minimum Number:  -27.11724162488074\n",
            "Column Name:  AMT_SUM_PC_1  Minimum Number:  -1558812.000502411\n",
            "Column Name:  AMT_SUM_PC_2  Minimum Number:  -5794741.675267562\n"
          ],
          "name": "stdout"
        }
      ]
    },
    {
      "cell_type": "code",
      "metadata": {
        "colab": {
          "base_uri": "https://localhost:8080/",
          "height": 289
        },
        "id": "Zh8B9PkVM8-n",
        "outputId": "b2fc46f6-af6e-4d44-c0a3-9f01e293842e"
      },
      "source": [
        "application_train = application_train.merge(installments_payment_summary, how = 'left', left_index=True, right_index=True)\n",
        "\n",
        "null_columns_train=application_train.columns[application_train.isnull().any()]\n",
        "print(\"Count of Null Entries in Train Columns: \")\n",
        "display(application_train[null_columns_train].isnull().sum())\n",
        "\n",
        "application_test = application_test.merge(installments_payment_summary, how = 'left', left_index=True, right_index=True)\n",
        "\n",
        "null_columns_test=application_test.columns[application_test.isnull().any()]\n",
        "print(\"Count of Null Entries in Test Columns: \")\n",
        "display(application_test[null_columns_test].isnull().sum())"
      ],
      "execution_count": 85,
      "outputs": [
        {
          "output_type": "stream",
          "text": [
            "Count of Null Entries in Train Columns: \n"
          ],
          "name": "stdout"
        },
        {
          "output_type": "display_data",
          "data": {
            "text/plain": [
              "LATE_DAYS_MEAN     15868\n",
              "LATE_DAYS_SUM      15868\n",
              "LATE_DAYS_MAX      15868\n",
              "AMT_UNPAID_MEAN    15868\n",
              "AMT_UNPAID_SUM     15868\n",
              "AMT_UNPAID_MAX     15868\n",
              "dtype: int64"
            ]
          },
          "metadata": {
            "tags": []
          }
        },
        {
          "output_type": "stream",
          "text": [
            "Count of Null Entries in Test Columns: \n"
          ],
          "name": "stdout"
        },
        {
          "output_type": "display_data",
          "data": {
            "text/plain": [
              "LATE_DAYS_MEAN     800\n",
              "LATE_DAYS_SUM      800\n",
              "LATE_DAYS_MAX      800\n",
              "AMT_UNPAID_MEAN    800\n",
              "AMT_UNPAID_SUM     800\n",
              "AMT_UNPAID_MAX     800\n",
              "dtype: int64"
            ]
          },
          "metadata": {
            "tags": []
          }
        }
      ]
    },
    {
      "cell_type": "code",
      "metadata": {
        "colab": {
          "base_uri": "https://localhost:8080/",
          "height": 1000
        },
        "id": "bHPNm-QAQxeF",
        "outputId": "3d6ea93a-08d8-4c2d-eae8-34f3c8e82ece"
      },
      "source": [
        "application_train = application_train.merge(bureau_summary, how = 'left', left_index=True, right_index=True)\n",
        "\n",
        "null_columns_train=application_train.columns[application_train.isnull().any()]\n",
        "print(\"Count of Null Entries in Train Columns: \")\n",
        "display(application_train[null_columns_train].isnull().sum())\n",
        "\n",
        "application_test = application_test.merge(bureau_summary, how = 'left', left_index=True, right_index=True)\n",
        "\n",
        "null_columns_test=application_test.columns[application_test.isnull().any()]\n",
        "print(\"Count of Null Entries in Test Columns: \")\n",
        "display(application_test[null_columns_test].isnull().sum())"
      ],
      "execution_count": 86,
      "outputs": [
        {
          "output_type": "stream",
          "text": [
            "Count of Null Entries in Train Columns: \n"
          ],
          "name": "stdout"
        },
        {
          "output_type": "display_data",
          "data": {
            "text/plain": [
              "LATE_DAYS_MEAN                 15868\n",
              "LATE_DAYS_SUM                  15868\n",
              "LATE_DAYS_MAX                  15868\n",
              "AMT_UNPAID_MEAN                15868\n",
              "AMT_UNPAID_SUM                 15868\n",
              "AMT_UNPAID_MAX                 15868\n",
              "AMT_ANNUITY_SUM               215280\n",
              "AMT_CREDIT_MAX_OVERDUE_SUM    215280\n",
              "AMT_CREDIT_SUM_SUM            215280\n",
              "AMT_CREDIT_SUM_DEBT_SUM       215280\n",
              "AMT_CREDIT_SUM_LIMIT_SUM      215280\n",
              "AMT_CREDIT_SUM_OVERDUE_SUM    215280\n",
              "CNT_CREDIT_PROLONG_SUM        215280\n",
              "CREDIT_DAY_OVERDUE_SUM        215280\n",
              "DAYS_CREDIT_SUM               215280\n",
              "DAYS_CREDIT_ENDDATE_SUM       215280\n",
              "DAYS_CREDIT_UPDATE_SUM        215280\n",
              "DAYS_ENDDATE_FACT_SUM         215280\n",
              "MONTHS_BALANCE_SUM            215280\n",
              "CREDIT_ACTIVE_PC_1            215280\n",
              "CREDIT_ACTIVE_PC_2            215280\n",
              "CREDIT_CURRENCY_PC_1          215280\n",
              "CREDIT_CURRENCY_PC_2          215280\n",
              "CREDIT_TYPE_PC_1              215280\n",
              "CREDIT_TYPE_PC_2              215280\n",
              "CREDIT_STATUS_PC_1            215280\n",
              "CREDIT_STATUS_PC_2            215280\n",
              "CREDIT_STATUS_PC_3            215280\n",
              "dtype: int64"
            ]
          },
          "metadata": {
            "tags": []
          }
        },
        {
          "output_type": "stream",
          "text": [
            "Count of Null Entries in Test Columns: \n"
          ],
          "name": "stdout"
        },
        {
          "output_type": "display_data",
          "data": {
            "text/plain": [
              "LATE_DAYS_MEAN                 800\n",
              "LATE_DAYS_SUM                  800\n",
              "LATE_DAYS_MAX                  800\n",
              "AMT_UNPAID_MEAN                800\n",
              "AMT_UNPAID_SUM                 800\n",
              "AMT_UNPAID_MAX                 800\n",
              "AMT_ANNUITY_SUM               6433\n",
              "AMT_CREDIT_MAX_OVERDUE_SUM    6433\n",
              "AMT_CREDIT_SUM_SUM            6433\n",
              "AMT_CREDIT_SUM_DEBT_SUM       6433\n",
              "AMT_CREDIT_SUM_LIMIT_SUM      6433\n",
              "AMT_CREDIT_SUM_OVERDUE_SUM    6433\n",
              "CNT_CREDIT_PROLONG_SUM        6433\n",
              "CREDIT_DAY_OVERDUE_SUM        6433\n",
              "DAYS_CREDIT_SUM               6433\n",
              "DAYS_CREDIT_ENDDATE_SUM       6433\n",
              "DAYS_CREDIT_UPDATE_SUM        6433\n",
              "DAYS_ENDDATE_FACT_SUM         6433\n",
              "MONTHS_BALANCE_SUM            6433\n",
              "CREDIT_ACTIVE_PC_1            6433\n",
              "CREDIT_ACTIVE_PC_2            6433\n",
              "CREDIT_CURRENCY_PC_1          6433\n",
              "CREDIT_CURRENCY_PC_2          6433\n",
              "CREDIT_TYPE_PC_1              6433\n",
              "CREDIT_TYPE_PC_2              6433\n",
              "CREDIT_STATUS_PC_1            6433\n",
              "CREDIT_STATUS_PC_2            6433\n",
              "CREDIT_STATUS_PC_3            6433\n",
              "dtype: int64"
            ]
          },
          "metadata": {
            "tags": []
          }
        }
      ]
    },
    {
      "cell_type": "code",
      "metadata": {
        "colab": {
          "base_uri": "https://localhost:8080/"
        },
        "id": "T_AI8dLPRcIY",
        "outputId": "164be17e-e978-4037-ebc3-cc1d1068e303"
      },
      "source": [
        "application_train.info()"
      ],
      "execution_count": 87,
      "outputs": [
        {
          "output_type": "stream",
          "text": [
            "<class 'pandas.core.frame.DataFrame'>\n",
            "Int64Index: 307511 entries, 100002 to 456255\n",
            "Data columns (total 100 columns):\n",
            " #   Column                         Non-Null Count   Dtype   \n",
            "---  ------                         --------------   -----   \n",
            " 0   SK_ID_CURR                     307511 non-null  int64   \n",
            " 1   TARGET                         307511 non-null  int64   \n",
            " 2   NAME_CONTRACT_TYPE             307511 non-null  category\n",
            " 3   CODE_GENDER                    307511 non-null  category\n",
            " 4   FLAG_OWN_CAR                   307511 non-null  category\n",
            " 5   FLAG_OWN_REALTY                307511 non-null  category\n",
            " 6   CNT_CHILDREN                   307511 non-null  int64   \n",
            " 7   AMT_INCOME_TOTAL               307511 non-null  float64 \n",
            " 8   AMT_CREDIT                     307511 non-null  float64 \n",
            " 9   AMT_ANNUITY                    307511 non-null  float64 \n",
            " 10  AMT_GOODS_PRICE                307511 non-null  float64 \n",
            " 11  NAME_INCOME_TYPE               307511 non-null  category\n",
            " 12  NAME_EDUCATION_TYPE            307511 non-null  category\n",
            " 13  NAME_FAMILY_STATUS             307511 non-null  category\n",
            " 14  NAME_HOUSING_TYPE              307511 non-null  category\n",
            " 15  DAYS_BIRTH                     307511 non-null  int64   \n",
            " 16  DAYS_EMPLOYED                  307511 non-null  int64   \n",
            " 17  OWN_CAR_AGE                    307511 non-null  float64 \n",
            " 18  FLAG_MOBIL                     307511 non-null  int64   \n",
            " 19  FLAG_EMP_PHONE                 307511 non-null  int64   \n",
            " 20  FLAG_WORK_PHONE                307511 non-null  int64   \n",
            " 21  FLAG_CONT_MOBILE               307511 non-null  int64   \n",
            " 22  FLAG_PHONE                     307511 non-null  int64   \n",
            " 23  FLAG_EMAIL                     307511 non-null  int64   \n",
            " 24  OCCUPATION_TYPE                307511 non-null  category\n",
            " 25  CNT_FAM_MEMBERS                307511 non-null  float64 \n",
            " 26  REGION_RATING_CLIENT           307511 non-null  int64   \n",
            " 27  REG_REGION_NOT_LIVE_REGION     307511 non-null  int64   \n",
            " 28  REG_REGION_NOT_WORK_REGION     307511 non-null  int64   \n",
            " 29  LIVE_REGION_NOT_WORK_REGION    307511 non-null  int64   \n",
            " 30  REG_CITY_NOT_LIVE_CITY         307511 non-null  int64   \n",
            " 31  REG_CITY_NOT_WORK_CITY         307511 non-null  int64   \n",
            " 32  LIVE_CITY_NOT_WORK_CITY        307511 non-null  int64   \n",
            " 33  ORGANIZATION_TYPE              307511 non-null  category\n",
            " 34  OBS_30_CNT_SOCIAL_CIRCLE       307511 non-null  float64 \n",
            " 35  DEF_30_CNT_SOCIAL_CIRCLE       307511 non-null  float64 \n",
            " 36  OBS_60_CNT_SOCIAL_CIRCLE       307511 non-null  float64 \n",
            " 37  DEF_60_CNT_SOCIAL_CIRCLE       307511 non-null  float64 \n",
            " 38  DAYS_LAST_PHONE_CHANGE         307511 non-null  float64 \n",
            " 39  FLAG_DOCUMENT_PC_1             307511 non-null  float64 \n",
            " 40  FLAG_DOCUMENT_PC_2             307511 non-null  float64 \n",
            " 41  FLAG_DOCUMENT_PC_3             307511 non-null  float64 \n",
            " 42  FLAG_DOCUMENT_PC_4             307511 non-null  float64 \n",
            " 43  FLAG_DOCUMENT_PC_5             307511 non-null  float64 \n",
            " 44  AMT_REQ_CREDIT_PC_1            307511 non-null  float64 \n",
            " 45  AMT_REQ_CREDIT_PC_2            307511 non-null  float64 \n",
            " 46  AMT_ANNUITY_MEAN               307511 non-null  float64 \n",
            " 47  AMT_APPLICATION_MEAN           307511 non-null  float64 \n",
            " 48  AMT_CREDIT_MEAN                307511 non-null  float64 \n",
            " 49  AMT_DOWN_PAYMENT_MEAN          307511 non-null  float64 \n",
            " 50  AMT_DOWN_PAYMENT_SUM           307511 non-null  float64 \n",
            " 51  AMT_GOODS_PRICE_MEAN           307511 non-null  float64 \n",
            " 52  RATE_DOWN_PAYMENT_MEAN         307511 non-null  float64 \n",
            " 53  RATE_DOWN_PAYMENT_SUM          307511 non-null  float64 \n",
            " 54  RATE_INTEREST_PRIMARY_MEAN     307511 non-null  float64 \n",
            " 55  RATE_INTEREST_PRIMARY_SUM      307511 non-null  float64 \n",
            " 56  RATE_INTEREST_PRIVILEGED_MEAN  307511 non-null  float64 \n",
            " 57  RATE_INTEREST_PRIVILEGED_SUM   307511 non-null  float64 \n",
            " 58  NAME_CONTRACT_PC_1             307511 non-null  float64 \n",
            " 59  NAME_CONTRACT_PC_2             307511 non-null  float64 \n",
            " 60  NAME_CONTRACT_PC_3             307511 non-null  float64 \n",
            " 61  CODE_REJECT_REASON_PC_1        307511 non-null  float64 \n",
            " 62  CODE_REJECT_REASON_PC_2        307511 non-null  float64 \n",
            " 63  NAME_CLIENT_TYPE_PC_1          307511 non-null  float64 \n",
            " 64  NAME_CLIENT_TYPE_PC_2          307511 non-null  float64 \n",
            " 65  NAME_PORTFOLIO_PC_1            307511 non-null  float64 \n",
            " 66  NAME_PORTFOLIO_PC_2            307511 non-null  float64 \n",
            " 67  NAME_PORTFOLIO_PC_3            307511 non-null  float64 \n",
            " 68  NAME_PRODUCT_TYPE_PC_1         307511 non-null  float64 \n",
            " 69  NAME_PRODUCT_TYPE_PC_2         307511 non-null  float64 \n",
            " 70  AMT_SUM_PC_1                   307511 non-null  float64 \n",
            " 71  AMT_SUM_PC_2                   307511 non-null  float64 \n",
            " 72  LATE_DAYS_MEAN                 291643 non-null  float64 \n",
            " 73  LATE_DAYS_SUM                  291643 non-null  float64 \n",
            " 74  LATE_DAYS_MAX                  291643 non-null  float64 \n",
            " 75  AMT_UNPAID_MEAN                291643 non-null  float64 \n",
            " 76  AMT_UNPAID_SUM                 291643 non-null  float64 \n",
            " 77  AMT_UNPAID_MAX                 291643 non-null  float64 \n",
            " 78  AMT_ANNUITY_SUM                92231 non-null   float64 \n",
            " 79  AMT_CREDIT_MAX_OVERDUE_SUM     92231 non-null   float64 \n",
            " 80  AMT_CREDIT_SUM_SUM             92231 non-null   float64 \n",
            " 81  AMT_CREDIT_SUM_DEBT_SUM        92231 non-null   float64 \n",
            " 82  AMT_CREDIT_SUM_LIMIT_SUM       92231 non-null   float64 \n",
            " 83  AMT_CREDIT_SUM_OVERDUE_SUM     92231 non-null   float64 \n",
            " 84  CNT_CREDIT_PROLONG_SUM         92231 non-null   float64 \n",
            " 85  CREDIT_DAY_OVERDUE_SUM         92231 non-null   float64 \n",
            " 86  DAYS_CREDIT_SUM                92231 non-null   float64 \n",
            " 87  DAYS_CREDIT_ENDDATE_SUM        92231 non-null   float64 \n",
            " 88  DAYS_CREDIT_UPDATE_SUM         92231 non-null   float64 \n",
            " 89  DAYS_ENDDATE_FACT_SUM          92231 non-null   float64 \n",
            " 90  MONTHS_BALANCE_SUM             92231 non-null   float64 \n",
            " 91  CREDIT_ACTIVE_PC_1             92231 non-null   float64 \n",
            " 92  CREDIT_ACTIVE_PC_2             92231 non-null   float64 \n",
            " 93  CREDIT_CURRENCY_PC_1           92231 non-null   float64 \n",
            " 94  CREDIT_CURRENCY_PC_2           92231 non-null   float64 \n",
            " 95  CREDIT_TYPE_PC_1               92231 non-null   float64 \n",
            " 96  CREDIT_TYPE_PC_2               92231 non-null   float64 \n",
            " 97  CREDIT_STATUS_PC_1             92231 non-null   float64 \n",
            " 98  CREDIT_STATUS_PC_2             92231 non-null   float64 \n",
            " 99  CREDIT_STATUS_PC_3             92231 non-null   float64 \n",
            "dtypes: category(10), float64(72), int64(18)\n",
            "memory usage: 226.4 MB\n"
          ],
          "name": "stdout"
        }
      ]
    },
    {
      "cell_type": "code",
      "metadata": {
        "colab": {
          "base_uri": "https://localhost:8080/"
        },
        "id": "waAl5OYeRhRw",
        "outputId": "987f73bb-143f-4489-941c-e48f3d148716"
      },
      "source": [
        "application_test.info()"
      ],
      "execution_count": 88,
      "outputs": [
        {
          "output_type": "stream",
          "text": [
            "<class 'pandas.core.frame.DataFrame'>\n",
            "Int64Index: 48744 entries, 100001 to 456250\n",
            "Data columns (total 99 columns):\n",
            " #   Column                         Non-Null Count  Dtype   \n",
            "---  ------                         --------------  -----   \n",
            " 0   SK_ID_CURR                     48744 non-null  int64   \n",
            " 1   NAME_CONTRACT_TYPE             48744 non-null  category\n",
            " 2   CODE_GENDER                    48744 non-null  category\n",
            " 3   FLAG_OWN_CAR                   48744 non-null  category\n",
            " 4   FLAG_OWN_REALTY                48744 non-null  category\n",
            " 5   CNT_CHILDREN                   48744 non-null  int64   \n",
            " 6   AMT_INCOME_TOTAL               48744 non-null  float64 \n",
            " 7   AMT_CREDIT                     48744 non-null  float64 \n",
            " 8   AMT_ANNUITY                    48744 non-null  float64 \n",
            " 9   AMT_GOODS_PRICE                48744 non-null  float64 \n",
            " 10  NAME_INCOME_TYPE               48744 non-null  category\n",
            " 11  NAME_EDUCATION_TYPE            48744 non-null  category\n",
            " 12  NAME_FAMILY_STATUS             48744 non-null  category\n",
            " 13  NAME_HOUSING_TYPE              48744 non-null  category\n",
            " 14  DAYS_BIRTH                     48744 non-null  int64   \n",
            " 15  DAYS_EMPLOYED                  48744 non-null  int64   \n",
            " 16  OWN_CAR_AGE                    48744 non-null  float64 \n",
            " 17  FLAG_MOBIL                     48744 non-null  int64   \n",
            " 18  FLAG_EMP_PHONE                 48744 non-null  int64   \n",
            " 19  FLAG_WORK_PHONE                48744 non-null  int64   \n",
            " 20  FLAG_CONT_MOBILE               48744 non-null  int64   \n",
            " 21  FLAG_PHONE                     48744 non-null  int64   \n",
            " 22  FLAG_EMAIL                     48744 non-null  int64   \n",
            " 23  OCCUPATION_TYPE                48744 non-null  category\n",
            " 24  CNT_FAM_MEMBERS                48744 non-null  float64 \n",
            " 25  REGION_RATING_CLIENT           48744 non-null  int64   \n",
            " 26  REG_REGION_NOT_LIVE_REGION     48744 non-null  int64   \n",
            " 27  REG_REGION_NOT_WORK_REGION     48744 non-null  int64   \n",
            " 28  LIVE_REGION_NOT_WORK_REGION    48744 non-null  int64   \n",
            " 29  REG_CITY_NOT_LIVE_CITY         48744 non-null  int64   \n",
            " 30  REG_CITY_NOT_WORK_CITY         48744 non-null  int64   \n",
            " 31  LIVE_CITY_NOT_WORK_CITY        48744 non-null  int64   \n",
            " 32  ORGANIZATION_TYPE              48744 non-null  category\n",
            " 33  OBS_30_CNT_SOCIAL_CIRCLE       48744 non-null  float64 \n",
            " 34  DEF_30_CNT_SOCIAL_CIRCLE       48744 non-null  float64 \n",
            " 35  OBS_60_CNT_SOCIAL_CIRCLE       48744 non-null  float64 \n",
            " 36  DEF_60_CNT_SOCIAL_CIRCLE       48744 non-null  float64 \n",
            " 37  DAYS_LAST_PHONE_CHANGE         48744 non-null  float64 \n",
            " 38  FLAG_DOCUMENT_PC_1             48744 non-null  float64 \n",
            " 39  FLAG_DOCUMENT_PC_2             48744 non-null  float64 \n",
            " 40  FLAG_DOCUMENT_PC_3             48744 non-null  float64 \n",
            " 41  FLAG_DOCUMENT_PC_4             48744 non-null  float64 \n",
            " 42  FLAG_DOCUMENT_PC_5             48744 non-null  float64 \n",
            " 43  AMT_REQ_CREDIT_PC_1            48744 non-null  float64 \n",
            " 44  AMT_REQ_CREDIT_PC_2            48744 non-null  float64 \n",
            " 45  AMT_ANNUITY_MEAN               48744 non-null  float64 \n",
            " 46  AMT_APPLICATION_MEAN           48744 non-null  float64 \n",
            " 47  AMT_CREDIT_MEAN                48744 non-null  float64 \n",
            " 48  AMT_DOWN_PAYMENT_MEAN          48744 non-null  float64 \n",
            " 49  AMT_DOWN_PAYMENT_SUM           48744 non-null  float64 \n",
            " 50  AMT_GOODS_PRICE_MEAN           48744 non-null  float64 \n",
            " 51  RATE_DOWN_PAYMENT_MEAN         48744 non-null  float64 \n",
            " 52  RATE_DOWN_PAYMENT_SUM          48744 non-null  float64 \n",
            " 53  RATE_INTEREST_PRIMARY_MEAN     48744 non-null  float64 \n",
            " 54  RATE_INTEREST_PRIMARY_SUM      48744 non-null  float64 \n",
            " 55  RATE_INTEREST_PRIVILEGED_MEAN  48744 non-null  float64 \n",
            " 56  RATE_INTEREST_PRIVILEGED_SUM   48744 non-null  float64 \n",
            " 57  NAME_CONTRACT_PC_1             48744 non-null  float64 \n",
            " 58  NAME_CONTRACT_PC_2             48744 non-null  float64 \n",
            " 59  NAME_CONTRACT_PC_3             48744 non-null  float64 \n",
            " 60  CODE_REJECT_REASON_PC_1        48744 non-null  float64 \n",
            " 61  CODE_REJECT_REASON_PC_2        48744 non-null  float64 \n",
            " 62  NAME_CLIENT_TYPE_PC_1          48744 non-null  float64 \n",
            " 63  NAME_CLIENT_TYPE_PC_2          48744 non-null  float64 \n",
            " 64  NAME_PORTFOLIO_PC_1            48744 non-null  float64 \n",
            " 65  NAME_PORTFOLIO_PC_2            48744 non-null  float64 \n",
            " 66  NAME_PORTFOLIO_PC_3            48744 non-null  float64 \n",
            " 67  NAME_PRODUCT_TYPE_PC_1         48744 non-null  float64 \n",
            " 68  NAME_PRODUCT_TYPE_PC_2         48744 non-null  float64 \n",
            " 69  AMT_SUM_PC_1                   48744 non-null  float64 \n",
            " 70  AMT_SUM_PC_2                   48744 non-null  float64 \n",
            " 71  LATE_DAYS_MEAN                 47944 non-null  float64 \n",
            " 72  LATE_DAYS_SUM                  47944 non-null  float64 \n",
            " 73  LATE_DAYS_MAX                  47944 non-null  float64 \n",
            " 74  AMT_UNPAID_MEAN                47944 non-null  float64 \n",
            " 75  AMT_UNPAID_SUM                 47944 non-null  float64 \n",
            " 76  AMT_UNPAID_MAX                 47944 non-null  float64 \n",
            " 77  AMT_ANNUITY_SUM                42311 non-null  float64 \n",
            " 78  AMT_CREDIT_MAX_OVERDUE_SUM     42311 non-null  float64 \n",
            " 79  AMT_CREDIT_SUM_SUM             42311 non-null  float64 \n",
            " 80  AMT_CREDIT_SUM_DEBT_SUM        42311 non-null  float64 \n",
            " 81  AMT_CREDIT_SUM_LIMIT_SUM       42311 non-null  float64 \n",
            " 82  AMT_CREDIT_SUM_OVERDUE_SUM     42311 non-null  float64 \n",
            " 83  CNT_CREDIT_PROLONG_SUM         42311 non-null  float64 \n",
            " 84  CREDIT_DAY_OVERDUE_SUM         42311 non-null  float64 \n",
            " 85  DAYS_CREDIT_SUM                42311 non-null  float64 \n",
            " 86  DAYS_CREDIT_ENDDATE_SUM        42311 non-null  float64 \n",
            " 87  DAYS_CREDIT_UPDATE_SUM         42311 non-null  float64 \n",
            " 88  DAYS_ENDDATE_FACT_SUM          42311 non-null  float64 \n",
            " 89  MONTHS_BALANCE_SUM             42311 non-null  float64 \n",
            " 90  CREDIT_ACTIVE_PC_1             42311 non-null  float64 \n",
            " 91  CREDIT_ACTIVE_PC_2             42311 non-null  float64 \n",
            " 92  CREDIT_CURRENCY_PC_1           42311 non-null  float64 \n",
            " 93  CREDIT_CURRENCY_PC_2           42311 non-null  float64 \n",
            " 94  CREDIT_TYPE_PC_1               42311 non-null  float64 \n",
            " 95  CREDIT_TYPE_PC_2               42311 non-null  float64 \n",
            " 96  CREDIT_STATUS_PC_1             42311 non-null  float64 \n",
            " 97  CREDIT_STATUS_PC_2             42311 non-null  float64 \n",
            " 98  CREDIT_STATUS_PC_3             42311 non-null  float64 \n",
            "dtypes: category(10), float64(72), int64(17)\n",
            "memory usage: 35.2 MB\n"
          ],
          "name": "stdout"
        }
      ]
    },
    {
      "cell_type": "code",
      "metadata": {
        "colab": {
          "base_uri": "https://localhost:8080/"
        },
        "id": "iKg5b8DZTuXo",
        "outputId": "cfef9333-74d4-46c6-bb1f-ea2465e8eaf5"
      },
      "source": [
        "np.setdiff1d(application_train.columns, application_test.columns)"
      ],
      "execution_count": 89,
      "outputs": [
        {
          "output_type": "execute_result",
          "data": {
            "text/plain": [
              "array(['TARGET'], dtype=object)"
            ]
          },
          "metadata": {
            "tags": []
          },
          "execution_count": 89
        }
      ]
    },
    {
      "cell_type": "markdown",
      "metadata": {
        "id": "eW15kj0ZUbG4"
      },
      "source": [
        "## Checking Data Leakage and Doing Filter Feature Selection Method"
      ]
    },
    {
      "cell_type": "code",
      "metadata": {
        "colab": {
          "base_uri": "https://localhost:8080/"
        },
        "id": "zcTRwfldRqgm",
        "outputId": "8330555b-d891-49ae-e9a3-171c0e703e8b"
      },
      "source": [
        "import warnings\n",
        "warnings.filterwarnings('ignore')\n",
        "warnings.simplefilter(\"ignore\")\n",
        "\n",
        "!pip install ppscore\n",
        "import ppscore"
      ],
      "execution_count": 90,
      "outputs": [
        {
          "output_type": "stream",
          "text": [
            "Requirement already satisfied: ppscore in /usr/local/lib/python3.7/dist-packages (1.2.0)\n",
            "Requirement already satisfied: pandas<2.0.0,>=1.0.0 in /usr/local/lib/python3.7/dist-packages (from ppscore) (1.1.5)\n",
            "Requirement already satisfied: scikit-learn<1.0.0,>=0.20.2 in /usr/local/lib/python3.7/dist-packages (from ppscore) (0.24.0)\n",
            "Requirement already satisfied: numpy>=1.15.4 in /usr/local/lib/python3.7/dist-packages (from pandas<2.0.0,>=1.0.0->ppscore) (1.19.5)\n",
            "Requirement already satisfied: pytz>=2017.2 in /usr/local/lib/python3.7/dist-packages (from pandas<2.0.0,>=1.0.0->ppscore) (2018.9)\n",
            "Requirement already satisfied: python-dateutil>=2.7.3 in /usr/local/lib/python3.7/dist-packages (from pandas<2.0.0,>=1.0.0->ppscore) (2.8.1)\n",
            "Requirement already satisfied: scipy>=0.19.1 in /usr/local/lib/python3.7/dist-packages (from scikit-learn<1.0.0,>=0.20.2->ppscore) (1.4.1)\n",
            "Requirement already satisfied: threadpoolctl>=2.0.0 in /usr/local/lib/python3.7/dist-packages (from scikit-learn<1.0.0,>=0.20.2->ppscore) (2.1.0)\n",
            "Requirement already satisfied: joblib>=0.11 in /usr/local/lib/python3.7/dist-packages (from scikit-learn<1.0.0,>=0.20.2->ppscore) (1.0.1)\n",
            "Requirement already satisfied: six>=1.5 in /usr/local/lib/python3.7/dist-packages (from python-dateutil>=2.7.3->pandas<2.0.0,>=1.0.0->ppscore) (1.15.0)\n"
          ],
          "name": "stdout"
        }
      ]
    },
    {
      "cell_type": "markdown",
      "metadata": {
        "id": "ua5nj95XUMxu"
      },
      "source": [
        "Check Data Leakage using Predictive Power Score Matrix"
      ]
    },
    {
      "cell_type": "code",
      "metadata": {
        "id": "DCwnOoiiSKua"
      },
      "source": [
        "df_ppscore = ppscore.matrix(application_train.drop(columns=['TARGET', 'SK_ID_CURR']))"
      ],
      "execution_count": 91,
      "outputs": []
    },
    {
      "cell_type": "code",
      "metadata": {
        "id": "sjz8OMvIW66I"
      },
      "source": [
        "df_ppscore_filtered = df_ppscore[df_ppscore['case']!='predict_itself']\n",
        "df_ppscore_leakage_indication = df_ppscore_filtered[df_ppscore_filtered['ppscore']>0.7]"
      ],
      "execution_count": 92,
      "outputs": []
    },
    {
      "cell_type": "code",
      "metadata": {
        "colab": {
          "base_uri": "https://localhost:8080/",
          "height": 762
        },
        "id": "gCill7MMZUoH",
        "outputId": "ec52752c-7ee3-4680-8be5-f5d1ca4a0516"
      },
      "source": [
        "df_ppscore_leakage_indication.sort_values(by='ppscore',ascending=False)"
      ],
      "execution_count": 93,
      "outputs": [
        {
          "output_type": "execute_result",
          "data": {
            "text/html": [
              "<div>\n",
              "<style scoped>\n",
              "    .dataframe tbody tr th:only-of-type {\n",
              "        vertical-align: middle;\n",
              "    }\n",
              "\n",
              "    .dataframe tbody tr th {\n",
              "        vertical-align: top;\n",
              "    }\n",
              "\n",
              "    .dataframe thead th {\n",
              "        text-align: right;\n",
              "    }\n",
              "</style>\n",
              "<table border=\"1\" class=\"dataframe\">\n",
              "  <thead>\n",
              "    <tr style=\"text-align: right;\">\n",
              "      <th></th>\n",
              "      <th>x</th>\n",
              "      <th>y</th>\n",
              "      <th>ppscore</th>\n",
              "      <th>case</th>\n",
              "      <th>is_valid_score</th>\n",
              "      <th>metric</th>\n",
              "      <th>baseline_score</th>\n",
              "      <th>model_score</th>\n",
              "      <th>model</th>\n",
              "    </tr>\n",
              "  </thead>\n",
              "  <tbody>\n",
              "    <tr>\n",
              "      <th>899</th>\n",
              "      <td>NAME_INCOME_TYPE</td>\n",
              "      <td>FLAG_EMP_PHONE</td>\n",
              "      <td>1.000000</td>\n",
              "      <td>regression</td>\n",
              "      <td>True</td>\n",
              "      <td>mean absolute error</td>\n",
              "      <td>0.177800</td>\n",
              "      <td>0.000000</td>\n",
              "      <td>DecisionTreeRegressor()</td>\n",
              "    </tr>\n",
              "    <tr>\n",
              "      <th>3055</th>\n",
              "      <td>ORGANIZATION_TYPE</td>\n",
              "      <td>FLAG_EMP_PHONE</td>\n",
              "      <td>1.000000</td>\n",
              "      <td>regression</td>\n",
              "      <td>True</td>\n",
              "      <td>mean absolute error</td>\n",
              "      <td>0.177800</td>\n",
              "      <td>0.000000</td>\n",
              "      <td>DecisionTreeRegressor()</td>\n",
              "    </tr>\n",
              "    <tr>\n",
              "      <th>1472</th>\n",
              "      <td>OWN_CAR_AGE</td>\n",
              "      <td>FLAG_OWN_CAR</td>\n",
              "      <td>1.000000</td>\n",
              "      <td>classification</td>\n",
              "      <td>True</td>\n",
              "      <td>weighted F1</td>\n",
              "      <td>0.552400</td>\n",
              "      <td>1.000000</td>\n",
              "      <td>DecisionTreeClassifier()</td>\n",
              "    </tr>\n",
              "    <tr>\n",
              "      <th>1389</th>\n",
              "      <td>DAYS_EMPLOYED</td>\n",
              "      <td>FLAG_EMP_PHONE</td>\n",
              "      <td>1.000000</td>\n",
              "      <td>regression</td>\n",
              "      <td>True</td>\n",
              "      <td>mean absolute error</td>\n",
              "      <td>0.177800</td>\n",
              "      <td>0.000000</td>\n",
              "      <td>DecisionTreeRegressor()</td>\n",
              "    </tr>\n",
              "    <tr>\n",
              "      <th>3957</th>\n",
              "      <td>FLAG_DOCUMENT_PC_4</td>\n",
              "      <td>FLAG_DOCUMENT_PC_1</td>\n",
              "      <td>0.999997</td>\n",
              "      <td>regression</td>\n",
              "      <td>True</td>\n",
              "      <td>mean absolute error</td>\n",
              "      <td>0.313245</td>\n",
              "      <td>0.000001</td>\n",
              "      <td>DecisionTreeRegressor()</td>\n",
              "    </tr>\n",
              "    <tr>\n",
              "      <th>...</th>\n",
              "      <td>...</td>\n",
              "      <td>...</td>\n",
              "      <td>...</td>\n",
              "      <td>...</td>\n",
              "      <td>...</td>\n",
              "      <td>...</td>\n",
              "      <td>...</td>\n",
              "      <td>...</td>\n",
              "      <td>...</td>\n",
              "    </tr>\n",
              "    <tr>\n",
              "      <th>9105</th>\n",
              "      <td>CREDIT_CURRENCY_PC_2</td>\n",
              "      <td>CREDIT_ACTIVE_PC_1</td>\n",
              "      <td>0.731417</td>\n",
              "      <td>regression</td>\n",
              "      <td>True</td>\n",
              "      <td>mean absolute error</td>\n",
              "      <td>91.439603</td>\n",
              "      <td>24.559105</td>\n",
              "      <td>DecisionTreeRegressor()</td>\n",
              "    </tr>\n",
              "    <tr>\n",
              "      <th>8813</th>\n",
              "      <td>CREDIT_ACTIVE_PC_1</td>\n",
              "      <td>CREDIT_CURRENCY_PC_1</td>\n",
              "      <td>0.722301</td>\n",
              "      <td>regression</td>\n",
              "      <td>True</td>\n",
              "      <td>mean absolute error</td>\n",
              "      <td>107.740372</td>\n",
              "      <td>29.919352</td>\n",
              "      <td>DecisionTreeRegressor()</td>\n",
              "    </tr>\n",
              "    <tr>\n",
              "      <th>9011</th>\n",
              "      <td>CREDIT_CURRENCY_PC_1</td>\n",
              "      <td>CREDIT_TYPE_PC_1</td>\n",
              "      <td>0.715644</td>\n",
              "      <td>regression</td>\n",
              "      <td>True</td>\n",
              "      <td>mean absolute error</td>\n",
              "      <td>88.128745</td>\n",
              "      <td>25.059909</td>\n",
              "      <td>DecisionTreeRegressor()</td>\n",
              "    </tr>\n",
              "    <tr>\n",
              "      <th>9109</th>\n",
              "      <td>CREDIT_CURRENCY_PC_2</td>\n",
              "      <td>CREDIT_TYPE_PC_1</td>\n",
              "      <td>0.712831</td>\n",
              "      <td>regression</td>\n",
              "      <td>True</td>\n",
              "      <td>mean absolute error</td>\n",
              "      <td>88.128745</td>\n",
              "      <td>25.307855</td>\n",
              "      <td>DecisionTreeRegressor()</td>\n",
              "    </tr>\n",
              "    <tr>\n",
              "      <th>6322</th>\n",
              "      <td>NAME_PORTFOLIO_PC_2</td>\n",
              "      <td>RATE_DOWN_PAYMENT_MEAN</td>\n",
              "      <td>0.704975</td>\n",
              "      <td>regression</td>\n",
              "      <td>True</td>\n",
              "      <td>mean absolute error</td>\n",
              "      <td>113.948667</td>\n",
              "      <td>33.617744</td>\n",
              "      <td>DecisionTreeRegressor()</td>\n",
              "    </tr>\n",
              "  </tbody>\n",
              "</table>\n",
              "<p>377 rows × 9 columns</p>\n",
              "</div>"
            ],
            "text/plain": [
              "                         x                       y   ppscore            case  \\\n",
              "899       NAME_INCOME_TYPE          FLAG_EMP_PHONE  1.000000      regression   \n",
              "3055     ORGANIZATION_TYPE          FLAG_EMP_PHONE  1.000000      regression   \n",
              "1472           OWN_CAR_AGE            FLAG_OWN_CAR  1.000000  classification   \n",
              "1389         DAYS_EMPLOYED          FLAG_EMP_PHONE  1.000000      regression   \n",
              "3957    FLAG_DOCUMENT_PC_4      FLAG_DOCUMENT_PC_1  0.999997      regression   \n",
              "...                    ...                     ...       ...             ...   \n",
              "9105  CREDIT_CURRENCY_PC_2      CREDIT_ACTIVE_PC_1  0.731417      regression   \n",
              "8813    CREDIT_ACTIVE_PC_1    CREDIT_CURRENCY_PC_1  0.722301      regression   \n",
              "9011  CREDIT_CURRENCY_PC_1        CREDIT_TYPE_PC_1  0.715644      regression   \n",
              "9109  CREDIT_CURRENCY_PC_2        CREDIT_TYPE_PC_1  0.712831      regression   \n",
              "6322   NAME_PORTFOLIO_PC_2  RATE_DOWN_PAYMENT_MEAN  0.704975      regression   \n",
              "\n",
              "      is_valid_score               metric  baseline_score  model_score  \\\n",
              "899             True  mean absolute error        0.177800     0.000000   \n",
              "3055            True  mean absolute error        0.177800     0.000000   \n",
              "1472            True          weighted F1        0.552400     1.000000   \n",
              "1389            True  mean absolute error        0.177800     0.000000   \n",
              "3957            True  mean absolute error        0.313245     0.000001   \n",
              "...              ...                  ...             ...          ...   \n",
              "9105            True  mean absolute error       91.439603    24.559105   \n",
              "8813            True  mean absolute error      107.740372    29.919352   \n",
              "9011            True  mean absolute error       88.128745    25.059909   \n",
              "9109            True  mean absolute error       88.128745    25.307855   \n",
              "6322            True  mean absolute error      113.948667    33.617744   \n",
              "\n",
              "                         model  \n",
              "899    DecisionTreeRegressor()  \n",
              "3055   DecisionTreeRegressor()  \n",
              "1472  DecisionTreeClassifier()  \n",
              "1389   DecisionTreeRegressor()  \n",
              "3957   DecisionTreeRegressor()  \n",
              "...                        ...  \n",
              "9105   DecisionTreeRegressor()  \n",
              "8813   DecisionTreeRegressor()  \n",
              "9011   DecisionTreeRegressor()  \n",
              "9109   DecisionTreeRegressor()  \n",
              "6322   DecisionTreeRegressor()  \n",
              "\n",
              "[377 rows x 9 columns]"
            ]
          },
          "metadata": {
            "tags": []
          },
          "execution_count": 93
        }
      ]
    },
    {
      "cell_type": "markdown",
      "metadata": {
        "id": "EM7ffPYqZ0RA"
      },
      "source": [
        "Based on this result, we have several indications of Data Leakage (one feature affects another features), but for now we could leave it as it is"
      ]
    },
    {
      "cell_type": "markdown",
      "metadata": {
        "id": "1lE7PwGfUR_C"
      },
      "source": [
        "Then, we will filter out top 40 features using Predictive Power Score"
      ]
    },
    {
      "cell_type": "code",
      "metadata": {
        "colab": {
          "base_uri": "https://localhost:8080/"
        },
        "id": "GkWtM5irahKy",
        "outputId": "0f60354f-1bcb-4917-c713-0f9e32ddf65c"
      },
      "source": [
        "application_train['TARGET'] = pd.Categorical(application_train['TARGET'], categories = set(application_train['TARGET']))\n",
        "application_train['TARGET'].value_counts()"
      ],
      "execution_count": 94,
      "outputs": [
        {
          "output_type": "execute_result",
          "data": {
            "text/plain": [
              "0    282686\n",
              "1     24825\n",
              "Name: TARGET, dtype: int64"
            ]
          },
          "metadata": {
            "tags": []
          },
          "execution_count": 94
        }
      ]
    },
    {
      "cell_type": "code",
      "metadata": {
        "id": "3KJl_k5CT1pK"
      },
      "source": [
        "result=ppscore.predictors(application_train.drop(columns=['SK_ID_CURR']), \"TARGET\").sort_values(by='ppscore', ascending=False)"
      ],
      "execution_count": 95,
      "outputs": []
    },
    {
      "cell_type": "markdown",
      "metadata": {
        "id": "R-DSL3qjegd-"
      },
      "source": [
        "Since the PPS value doesn't show any significant values (it means no single category has great impact on target variable without interactions with other variables), we will leave it as it is"
      ]
    },
    {
      "cell_type": "code",
      "metadata": {
        "id": "-Rzr2VgweZCP"
      },
      "source": [
        "# result['baseline_model_difference'] = result['model_score'] - result['baseline_score']\n",
        "# result.sort_values(by='baseline_model_difference', ascending=False)"
      ],
      "execution_count": 96,
      "outputs": []
    },
    {
      "cell_type": "code",
      "metadata": {
        "colab": {
          "base_uri": "https://localhost:8080/"
        },
        "id": "Sv61Phl3ohJV",
        "outputId": "a063a8b6-9165-40ae-a1e6-4b944668f484"
      },
      "source": [
        "for categoricals in application_test.select_dtypes(['category']).columns:\n",
        "  application_train[categoricals]=application_train[categoricals].cat.codes\n",
        "  application_test[categoricals]=application_test[categoricals].cat.codes\n",
        "\n",
        "application_train['TARGET'] = application_train['TARGET'].cat.codes\n",
        "application_train['TARGET'].value_counts()"
      ],
      "execution_count": 97,
      "outputs": [
        {
          "output_type": "execute_result",
          "data": {
            "text/plain": [
              "0    282686\n",
              "1     24825\n",
              "Name: TARGET, dtype: int64"
            ]
          },
          "metadata": {
            "tags": []
          },
          "execution_count": 97
        }
      ]
    },
    {
      "cell_type": "code",
      "metadata": {
        "id": "oxKACvvgpg-f"
      },
      "source": [
        "#Filling the NA by -999 (so it's implicitly stated that it is NA)\n",
        "application_train.fillna(-999, inplace=True)\n",
        "application_test.fillna(-999, inplace=True)"
      ],
      "execution_count": 98,
      "outputs": []
    },
    {
      "cell_type": "code",
      "metadata": {
        "colab": {
          "base_uri": "https://localhost:8080/"
        },
        "id": "ja6ahXk7p2E4",
        "outputId": "41ecf302-3428-4d27-935a-a203df2b0fbb"
      },
      "source": [
        "application_train.info()"
      ],
      "execution_count": 99,
      "outputs": [
        {
          "output_type": "stream",
          "text": [
            "<class 'pandas.core.frame.DataFrame'>\n",
            "Int64Index: 307511 entries, 100002 to 456255\n",
            "Data columns (total 100 columns):\n",
            " #   Column                         Non-Null Count   Dtype  \n",
            "---  ------                         --------------   -----  \n",
            " 0   SK_ID_CURR                     307511 non-null  int64  \n",
            " 1   TARGET                         307511 non-null  int8   \n",
            " 2   NAME_CONTRACT_TYPE             307511 non-null  int8   \n",
            " 3   CODE_GENDER                    307511 non-null  int8   \n",
            " 4   FLAG_OWN_CAR                   307511 non-null  int8   \n",
            " 5   FLAG_OWN_REALTY                307511 non-null  int8   \n",
            " 6   CNT_CHILDREN                   307511 non-null  int64  \n",
            " 7   AMT_INCOME_TOTAL               307511 non-null  float64\n",
            " 8   AMT_CREDIT                     307511 non-null  float64\n",
            " 9   AMT_ANNUITY                    307511 non-null  float64\n",
            " 10  AMT_GOODS_PRICE                307511 non-null  float64\n",
            " 11  NAME_INCOME_TYPE               307511 non-null  int8   \n",
            " 12  NAME_EDUCATION_TYPE            307511 non-null  int8   \n",
            " 13  NAME_FAMILY_STATUS             307511 non-null  int8   \n",
            " 14  NAME_HOUSING_TYPE              307511 non-null  int8   \n",
            " 15  DAYS_BIRTH                     307511 non-null  int64  \n",
            " 16  DAYS_EMPLOYED                  307511 non-null  int64  \n",
            " 17  OWN_CAR_AGE                    307511 non-null  float64\n",
            " 18  FLAG_MOBIL                     307511 non-null  int64  \n",
            " 19  FLAG_EMP_PHONE                 307511 non-null  int64  \n",
            " 20  FLAG_WORK_PHONE                307511 non-null  int64  \n",
            " 21  FLAG_CONT_MOBILE               307511 non-null  int64  \n",
            " 22  FLAG_PHONE                     307511 non-null  int64  \n",
            " 23  FLAG_EMAIL                     307511 non-null  int64  \n",
            " 24  OCCUPATION_TYPE                307511 non-null  int8   \n",
            " 25  CNT_FAM_MEMBERS                307511 non-null  float64\n",
            " 26  REGION_RATING_CLIENT           307511 non-null  int64  \n",
            " 27  REG_REGION_NOT_LIVE_REGION     307511 non-null  int64  \n",
            " 28  REG_REGION_NOT_WORK_REGION     307511 non-null  int64  \n",
            " 29  LIVE_REGION_NOT_WORK_REGION    307511 non-null  int64  \n",
            " 30  REG_CITY_NOT_LIVE_CITY         307511 non-null  int64  \n",
            " 31  REG_CITY_NOT_WORK_CITY         307511 non-null  int64  \n",
            " 32  LIVE_CITY_NOT_WORK_CITY        307511 non-null  int64  \n",
            " 33  ORGANIZATION_TYPE              307511 non-null  int8   \n",
            " 34  OBS_30_CNT_SOCIAL_CIRCLE       307511 non-null  float64\n",
            " 35  DEF_30_CNT_SOCIAL_CIRCLE       307511 non-null  float64\n",
            " 36  OBS_60_CNT_SOCIAL_CIRCLE       307511 non-null  float64\n",
            " 37  DEF_60_CNT_SOCIAL_CIRCLE       307511 non-null  float64\n",
            " 38  DAYS_LAST_PHONE_CHANGE         307511 non-null  float64\n",
            " 39  FLAG_DOCUMENT_PC_1             307511 non-null  float64\n",
            " 40  FLAG_DOCUMENT_PC_2             307511 non-null  float64\n",
            " 41  FLAG_DOCUMENT_PC_3             307511 non-null  float64\n",
            " 42  FLAG_DOCUMENT_PC_4             307511 non-null  float64\n",
            " 43  FLAG_DOCUMENT_PC_5             307511 non-null  float64\n",
            " 44  AMT_REQ_CREDIT_PC_1            307511 non-null  float64\n",
            " 45  AMT_REQ_CREDIT_PC_2            307511 non-null  float64\n",
            " 46  AMT_ANNUITY_MEAN               307511 non-null  float64\n",
            " 47  AMT_APPLICATION_MEAN           307511 non-null  float64\n",
            " 48  AMT_CREDIT_MEAN                307511 non-null  float64\n",
            " 49  AMT_DOWN_PAYMENT_MEAN          307511 non-null  float64\n",
            " 50  AMT_DOWN_PAYMENT_SUM           307511 non-null  float64\n",
            " 51  AMT_GOODS_PRICE_MEAN           307511 non-null  float64\n",
            " 52  RATE_DOWN_PAYMENT_MEAN         307511 non-null  float64\n",
            " 53  RATE_DOWN_PAYMENT_SUM          307511 non-null  float64\n",
            " 54  RATE_INTEREST_PRIMARY_MEAN     307511 non-null  float64\n",
            " 55  RATE_INTEREST_PRIMARY_SUM      307511 non-null  float64\n",
            " 56  RATE_INTEREST_PRIVILEGED_MEAN  307511 non-null  float64\n",
            " 57  RATE_INTEREST_PRIVILEGED_SUM   307511 non-null  float64\n",
            " 58  NAME_CONTRACT_PC_1             307511 non-null  float64\n",
            " 59  NAME_CONTRACT_PC_2             307511 non-null  float64\n",
            " 60  NAME_CONTRACT_PC_3             307511 non-null  float64\n",
            " 61  CODE_REJECT_REASON_PC_1        307511 non-null  float64\n",
            " 62  CODE_REJECT_REASON_PC_2        307511 non-null  float64\n",
            " 63  NAME_CLIENT_TYPE_PC_1          307511 non-null  float64\n",
            " 64  NAME_CLIENT_TYPE_PC_2          307511 non-null  float64\n",
            " 65  NAME_PORTFOLIO_PC_1            307511 non-null  float64\n",
            " 66  NAME_PORTFOLIO_PC_2            307511 non-null  float64\n",
            " 67  NAME_PORTFOLIO_PC_3            307511 non-null  float64\n",
            " 68  NAME_PRODUCT_TYPE_PC_1         307511 non-null  float64\n",
            " 69  NAME_PRODUCT_TYPE_PC_2         307511 non-null  float64\n",
            " 70  AMT_SUM_PC_1                   307511 non-null  float64\n",
            " 71  AMT_SUM_PC_2                   307511 non-null  float64\n",
            " 72  LATE_DAYS_MEAN                 307511 non-null  float64\n",
            " 73  LATE_DAYS_SUM                  307511 non-null  float64\n",
            " 74  LATE_DAYS_MAX                  307511 non-null  float64\n",
            " 75  AMT_UNPAID_MEAN                307511 non-null  float64\n",
            " 76  AMT_UNPAID_SUM                 307511 non-null  float64\n",
            " 77  AMT_UNPAID_MAX                 307511 non-null  float64\n",
            " 78  AMT_ANNUITY_SUM                307511 non-null  float64\n",
            " 79  AMT_CREDIT_MAX_OVERDUE_SUM     307511 non-null  float64\n",
            " 80  AMT_CREDIT_SUM_SUM             307511 non-null  float64\n",
            " 81  AMT_CREDIT_SUM_DEBT_SUM        307511 non-null  float64\n",
            " 82  AMT_CREDIT_SUM_LIMIT_SUM       307511 non-null  float64\n",
            " 83  AMT_CREDIT_SUM_OVERDUE_SUM     307511 non-null  float64\n",
            " 84  CNT_CREDIT_PROLONG_SUM         307511 non-null  float64\n",
            " 85  CREDIT_DAY_OVERDUE_SUM         307511 non-null  float64\n",
            " 86  DAYS_CREDIT_SUM                307511 non-null  float64\n",
            " 87  DAYS_CREDIT_ENDDATE_SUM        307511 non-null  float64\n",
            " 88  DAYS_CREDIT_UPDATE_SUM         307511 non-null  float64\n",
            " 89  DAYS_ENDDATE_FACT_SUM          307511 non-null  float64\n",
            " 90  MONTHS_BALANCE_SUM             307511 non-null  float64\n",
            " 91  CREDIT_ACTIVE_PC_1             307511 non-null  float64\n",
            " 92  CREDIT_ACTIVE_PC_2             307511 non-null  float64\n",
            " 93  CREDIT_CURRENCY_PC_1           307511 non-null  float64\n",
            " 94  CREDIT_CURRENCY_PC_2           307511 non-null  float64\n",
            " 95  CREDIT_TYPE_PC_1               307511 non-null  float64\n",
            " 96  CREDIT_TYPE_PC_2               307511 non-null  float64\n",
            " 97  CREDIT_STATUS_PC_1             307511 non-null  float64\n",
            " 98  CREDIT_STATUS_PC_2             307511 non-null  float64\n",
            " 99  CREDIT_STATUS_PC_3             307511 non-null  float64\n",
            "dtypes: float64(72), int64(17), int8(11)\n",
            "memory usage: 224.4 MB\n"
          ],
          "name": "stdout"
        }
      ]
    },
    {
      "cell_type": "code",
      "metadata": {
        "colab": {
          "base_uri": "https://localhost:8080/"
        },
        "id": "w_rYyJ6jp3Sf",
        "outputId": "959a79f1-215f-49d2-86e2-a8d10550ea7e"
      },
      "source": [
        "application_test.info()"
      ],
      "execution_count": 100,
      "outputs": [
        {
          "output_type": "stream",
          "text": [
            "<class 'pandas.core.frame.DataFrame'>\n",
            "Int64Index: 48744 entries, 100001 to 456250\n",
            "Data columns (total 99 columns):\n",
            " #   Column                         Non-Null Count  Dtype  \n",
            "---  ------                         --------------  -----  \n",
            " 0   SK_ID_CURR                     48744 non-null  int64  \n",
            " 1   NAME_CONTRACT_TYPE             48744 non-null  int8   \n",
            " 2   CODE_GENDER                    48744 non-null  int8   \n",
            " 3   FLAG_OWN_CAR                   48744 non-null  int8   \n",
            " 4   FLAG_OWN_REALTY                48744 non-null  int8   \n",
            " 5   CNT_CHILDREN                   48744 non-null  int64  \n",
            " 6   AMT_INCOME_TOTAL               48744 non-null  float64\n",
            " 7   AMT_CREDIT                     48744 non-null  float64\n",
            " 8   AMT_ANNUITY                    48744 non-null  float64\n",
            " 9   AMT_GOODS_PRICE                48744 non-null  float64\n",
            " 10  NAME_INCOME_TYPE               48744 non-null  int8   \n",
            " 11  NAME_EDUCATION_TYPE            48744 non-null  int8   \n",
            " 12  NAME_FAMILY_STATUS             48744 non-null  int8   \n",
            " 13  NAME_HOUSING_TYPE              48744 non-null  int8   \n",
            " 14  DAYS_BIRTH                     48744 non-null  int64  \n",
            " 15  DAYS_EMPLOYED                  48744 non-null  int64  \n",
            " 16  OWN_CAR_AGE                    48744 non-null  float64\n",
            " 17  FLAG_MOBIL                     48744 non-null  int64  \n",
            " 18  FLAG_EMP_PHONE                 48744 non-null  int64  \n",
            " 19  FLAG_WORK_PHONE                48744 non-null  int64  \n",
            " 20  FLAG_CONT_MOBILE               48744 non-null  int64  \n",
            " 21  FLAG_PHONE                     48744 non-null  int64  \n",
            " 22  FLAG_EMAIL                     48744 non-null  int64  \n",
            " 23  OCCUPATION_TYPE                48744 non-null  int8   \n",
            " 24  CNT_FAM_MEMBERS                48744 non-null  float64\n",
            " 25  REGION_RATING_CLIENT           48744 non-null  int64  \n",
            " 26  REG_REGION_NOT_LIVE_REGION     48744 non-null  int64  \n",
            " 27  REG_REGION_NOT_WORK_REGION     48744 non-null  int64  \n",
            " 28  LIVE_REGION_NOT_WORK_REGION    48744 non-null  int64  \n",
            " 29  REG_CITY_NOT_LIVE_CITY         48744 non-null  int64  \n",
            " 30  REG_CITY_NOT_WORK_CITY         48744 non-null  int64  \n",
            " 31  LIVE_CITY_NOT_WORK_CITY        48744 non-null  int64  \n",
            " 32  ORGANIZATION_TYPE              48744 non-null  int8   \n",
            " 33  OBS_30_CNT_SOCIAL_CIRCLE       48744 non-null  float64\n",
            " 34  DEF_30_CNT_SOCIAL_CIRCLE       48744 non-null  float64\n",
            " 35  OBS_60_CNT_SOCIAL_CIRCLE       48744 non-null  float64\n",
            " 36  DEF_60_CNT_SOCIAL_CIRCLE       48744 non-null  float64\n",
            " 37  DAYS_LAST_PHONE_CHANGE         48744 non-null  float64\n",
            " 38  FLAG_DOCUMENT_PC_1             48744 non-null  float64\n",
            " 39  FLAG_DOCUMENT_PC_2             48744 non-null  float64\n",
            " 40  FLAG_DOCUMENT_PC_3             48744 non-null  float64\n",
            " 41  FLAG_DOCUMENT_PC_4             48744 non-null  float64\n",
            " 42  FLAG_DOCUMENT_PC_5             48744 non-null  float64\n",
            " 43  AMT_REQ_CREDIT_PC_1            48744 non-null  float64\n",
            " 44  AMT_REQ_CREDIT_PC_2            48744 non-null  float64\n",
            " 45  AMT_ANNUITY_MEAN               48744 non-null  float64\n",
            " 46  AMT_APPLICATION_MEAN           48744 non-null  float64\n",
            " 47  AMT_CREDIT_MEAN                48744 non-null  float64\n",
            " 48  AMT_DOWN_PAYMENT_MEAN          48744 non-null  float64\n",
            " 49  AMT_DOWN_PAYMENT_SUM           48744 non-null  float64\n",
            " 50  AMT_GOODS_PRICE_MEAN           48744 non-null  float64\n",
            " 51  RATE_DOWN_PAYMENT_MEAN         48744 non-null  float64\n",
            " 52  RATE_DOWN_PAYMENT_SUM          48744 non-null  float64\n",
            " 53  RATE_INTEREST_PRIMARY_MEAN     48744 non-null  float64\n",
            " 54  RATE_INTEREST_PRIMARY_SUM      48744 non-null  float64\n",
            " 55  RATE_INTEREST_PRIVILEGED_MEAN  48744 non-null  float64\n",
            " 56  RATE_INTEREST_PRIVILEGED_SUM   48744 non-null  float64\n",
            " 57  NAME_CONTRACT_PC_1             48744 non-null  float64\n",
            " 58  NAME_CONTRACT_PC_2             48744 non-null  float64\n",
            " 59  NAME_CONTRACT_PC_3             48744 non-null  float64\n",
            " 60  CODE_REJECT_REASON_PC_1        48744 non-null  float64\n",
            " 61  CODE_REJECT_REASON_PC_2        48744 non-null  float64\n",
            " 62  NAME_CLIENT_TYPE_PC_1          48744 non-null  float64\n",
            " 63  NAME_CLIENT_TYPE_PC_2          48744 non-null  float64\n",
            " 64  NAME_PORTFOLIO_PC_1            48744 non-null  float64\n",
            " 65  NAME_PORTFOLIO_PC_2            48744 non-null  float64\n",
            " 66  NAME_PORTFOLIO_PC_3            48744 non-null  float64\n",
            " 67  NAME_PRODUCT_TYPE_PC_1         48744 non-null  float64\n",
            " 68  NAME_PRODUCT_TYPE_PC_2         48744 non-null  float64\n",
            " 69  AMT_SUM_PC_1                   48744 non-null  float64\n",
            " 70  AMT_SUM_PC_2                   48744 non-null  float64\n",
            " 71  LATE_DAYS_MEAN                 48744 non-null  float64\n",
            " 72  LATE_DAYS_SUM                  48744 non-null  float64\n",
            " 73  LATE_DAYS_MAX                  48744 non-null  float64\n",
            " 74  AMT_UNPAID_MEAN                48744 non-null  float64\n",
            " 75  AMT_UNPAID_SUM                 48744 non-null  float64\n",
            " 76  AMT_UNPAID_MAX                 48744 non-null  float64\n",
            " 77  AMT_ANNUITY_SUM                48744 non-null  float64\n",
            " 78  AMT_CREDIT_MAX_OVERDUE_SUM     48744 non-null  float64\n",
            " 79  AMT_CREDIT_SUM_SUM             48744 non-null  float64\n",
            " 80  AMT_CREDIT_SUM_DEBT_SUM        48744 non-null  float64\n",
            " 81  AMT_CREDIT_SUM_LIMIT_SUM       48744 non-null  float64\n",
            " 82  AMT_CREDIT_SUM_OVERDUE_SUM     48744 non-null  float64\n",
            " 83  CNT_CREDIT_PROLONG_SUM         48744 non-null  float64\n",
            " 84  CREDIT_DAY_OVERDUE_SUM         48744 non-null  float64\n",
            " 85  DAYS_CREDIT_SUM                48744 non-null  float64\n",
            " 86  DAYS_CREDIT_ENDDATE_SUM        48744 non-null  float64\n",
            " 87  DAYS_CREDIT_UPDATE_SUM         48744 non-null  float64\n",
            " 88  DAYS_ENDDATE_FACT_SUM          48744 non-null  float64\n",
            " 89  MONTHS_BALANCE_SUM             48744 non-null  float64\n",
            " 90  CREDIT_ACTIVE_PC_1             48744 non-null  float64\n",
            " 91  CREDIT_ACTIVE_PC_2             48744 non-null  float64\n",
            " 92  CREDIT_CURRENCY_PC_1           48744 non-null  float64\n",
            " 93  CREDIT_CURRENCY_PC_2           48744 non-null  float64\n",
            " 94  CREDIT_TYPE_PC_1               48744 non-null  float64\n",
            " 95  CREDIT_TYPE_PC_2               48744 non-null  float64\n",
            " 96  CREDIT_STATUS_PC_1             48744 non-null  float64\n",
            " 97  CREDIT_STATUS_PC_2             48744 non-null  float64\n",
            " 98  CREDIT_STATUS_PC_3             48744 non-null  float64\n",
            "dtypes: float64(72), int64(17), int8(10)\n",
            "memory usage: 35.2 MB\n"
          ],
          "name": "stdout"
        }
      ]
    },
    {
      "cell_type": "markdown",
      "metadata": {
        "id": "ywNX7YyRtyTf"
      },
      "source": [
        "# Model Tuning"
      ]
    },
    {
      "cell_type": "code",
      "metadata": {
        "id": "D2yn-gbp4fDg"
      },
      "source": [
        "from sklearn.model_selection import train_test_split, StratifiedKFold\n",
        "from sklearn.linear_model import RidgeClassifierCV\n",
        "from xgboost import XGBRegressor,plot_importance\n",
        "from xgboost import XGBClassifier\n",
        "from operator import itemgetter"
      ],
      "execution_count": 101,
      "outputs": []
    },
    {
      "cell_type": "code",
      "metadata": {
        "id": "zCfRFo5L7GBy",
        "colab": {
          "base_uri": "https://localhost:8080/",
          "height": 321
        },
        "outputId": "307a8b23-ea59-4d44-b6bb-b9a8b3b3807d"
      },
      "source": [
        "X_train, X_val, y_train, y_val = train_test_split(application_train.drop(['TARGET','SK_ID_CURR'], axis=1),\n",
        "                                                    application_train['TARGET'], \n",
        "                                                    test_size=0.2, random_state = 100)\n",
        "\n",
        "print('Number of Train Data is: ', X_train.shape[0])\n",
        "print('Number of Val Data is: ', X_val.shape[0])\n",
        "\n",
        "X_train.head(2)\n",
        "X_val.head(2)"
      ],
      "execution_count": 102,
      "outputs": [
        {
          "output_type": "stream",
          "text": [
            "Number of Train Data is:  246008\n",
            "Number of Val Data is:  61503\n"
          ],
          "name": "stdout"
        },
        {
          "output_type": "execute_result",
          "data": {
            "text/html": [
              "<div>\n",
              "<style scoped>\n",
              "    .dataframe tbody tr th:only-of-type {\n",
              "        vertical-align: middle;\n",
              "    }\n",
              "\n",
              "    .dataframe tbody tr th {\n",
              "        vertical-align: top;\n",
              "    }\n",
              "\n",
              "    .dataframe thead th {\n",
              "        text-align: right;\n",
              "    }\n",
              "</style>\n",
              "<table border=\"1\" class=\"dataframe\">\n",
              "  <thead>\n",
              "    <tr style=\"text-align: right;\">\n",
              "      <th></th>\n",
              "      <th>NAME_CONTRACT_TYPE</th>\n",
              "      <th>CODE_GENDER</th>\n",
              "      <th>FLAG_OWN_CAR</th>\n",
              "      <th>FLAG_OWN_REALTY</th>\n",
              "      <th>CNT_CHILDREN</th>\n",
              "      <th>AMT_INCOME_TOTAL</th>\n",
              "      <th>AMT_CREDIT</th>\n",
              "      <th>AMT_ANNUITY</th>\n",
              "      <th>AMT_GOODS_PRICE</th>\n",
              "      <th>NAME_INCOME_TYPE</th>\n",
              "      <th>NAME_EDUCATION_TYPE</th>\n",
              "      <th>NAME_FAMILY_STATUS</th>\n",
              "      <th>NAME_HOUSING_TYPE</th>\n",
              "      <th>DAYS_BIRTH</th>\n",
              "      <th>DAYS_EMPLOYED</th>\n",
              "      <th>OWN_CAR_AGE</th>\n",
              "      <th>FLAG_MOBIL</th>\n",
              "      <th>FLAG_EMP_PHONE</th>\n",
              "      <th>FLAG_WORK_PHONE</th>\n",
              "      <th>FLAG_CONT_MOBILE</th>\n",
              "      <th>FLAG_PHONE</th>\n",
              "      <th>FLAG_EMAIL</th>\n",
              "      <th>OCCUPATION_TYPE</th>\n",
              "      <th>CNT_FAM_MEMBERS</th>\n",
              "      <th>REGION_RATING_CLIENT</th>\n",
              "      <th>REG_REGION_NOT_LIVE_REGION</th>\n",
              "      <th>REG_REGION_NOT_WORK_REGION</th>\n",
              "      <th>LIVE_REGION_NOT_WORK_REGION</th>\n",
              "      <th>REG_CITY_NOT_LIVE_CITY</th>\n",
              "      <th>REG_CITY_NOT_WORK_CITY</th>\n",
              "      <th>LIVE_CITY_NOT_WORK_CITY</th>\n",
              "      <th>ORGANIZATION_TYPE</th>\n",
              "      <th>OBS_30_CNT_SOCIAL_CIRCLE</th>\n",
              "      <th>DEF_30_CNT_SOCIAL_CIRCLE</th>\n",
              "      <th>OBS_60_CNT_SOCIAL_CIRCLE</th>\n",
              "      <th>DEF_60_CNT_SOCIAL_CIRCLE</th>\n",
              "      <th>DAYS_LAST_PHONE_CHANGE</th>\n",
              "      <th>FLAG_DOCUMENT_PC_1</th>\n",
              "      <th>FLAG_DOCUMENT_PC_2</th>\n",
              "      <th>FLAG_DOCUMENT_PC_3</th>\n",
              "      <th>FLAG_DOCUMENT_PC_4</th>\n",
              "      <th>FLAG_DOCUMENT_PC_5</th>\n",
              "      <th>AMT_REQ_CREDIT_PC_1</th>\n",
              "      <th>AMT_REQ_CREDIT_PC_2</th>\n",
              "      <th>AMT_ANNUITY_MEAN</th>\n",
              "      <th>AMT_APPLICATION_MEAN</th>\n",
              "      <th>AMT_CREDIT_MEAN</th>\n",
              "      <th>AMT_DOWN_PAYMENT_MEAN</th>\n",
              "      <th>AMT_DOWN_PAYMENT_SUM</th>\n",
              "      <th>AMT_GOODS_PRICE_MEAN</th>\n",
              "      <th>RATE_DOWN_PAYMENT_MEAN</th>\n",
              "      <th>RATE_DOWN_PAYMENT_SUM</th>\n",
              "      <th>RATE_INTEREST_PRIMARY_MEAN</th>\n",
              "      <th>RATE_INTEREST_PRIMARY_SUM</th>\n",
              "      <th>RATE_INTEREST_PRIVILEGED_MEAN</th>\n",
              "      <th>RATE_INTEREST_PRIVILEGED_SUM</th>\n",
              "      <th>NAME_CONTRACT_PC_1</th>\n",
              "      <th>NAME_CONTRACT_PC_2</th>\n",
              "      <th>NAME_CONTRACT_PC_3</th>\n",
              "      <th>CODE_REJECT_REASON_PC_1</th>\n",
              "      <th>CODE_REJECT_REASON_PC_2</th>\n",
              "      <th>NAME_CLIENT_TYPE_PC_1</th>\n",
              "      <th>NAME_CLIENT_TYPE_PC_2</th>\n",
              "      <th>NAME_PORTFOLIO_PC_1</th>\n",
              "      <th>NAME_PORTFOLIO_PC_2</th>\n",
              "      <th>NAME_PORTFOLIO_PC_3</th>\n",
              "      <th>NAME_PRODUCT_TYPE_PC_1</th>\n",
              "      <th>NAME_PRODUCT_TYPE_PC_2</th>\n",
              "      <th>AMT_SUM_PC_1</th>\n",
              "      <th>AMT_SUM_PC_2</th>\n",
              "      <th>LATE_DAYS_MEAN</th>\n",
              "      <th>LATE_DAYS_SUM</th>\n",
              "      <th>LATE_DAYS_MAX</th>\n",
              "      <th>AMT_UNPAID_MEAN</th>\n",
              "      <th>AMT_UNPAID_SUM</th>\n",
              "      <th>AMT_UNPAID_MAX</th>\n",
              "      <th>AMT_ANNUITY_SUM</th>\n",
              "      <th>AMT_CREDIT_MAX_OVERDUE_SUM</th>\n",
              "      <th>AMT_CREDIT_SUM_SUM</th>\n",
              "      <th>AMT_CREDIT_SUM_DEBT_SUM</th>\n",
              "      <th>AMT_CREDIT_SUM_LIMIT_SUM</th>\n",
              "      <th>AMT_CREDIT_SUM_OVERDUE_SUM</th>\n",
              "      <th>CNT_CREDIT_PROLONG_SUM</th>\n",
              "      <th>CREDIT_DAY_OVERDUE_SUM</th>\n",
              "      <th>DAYS_CREDIT_SUM</th>\n",
              "      <th>DAYS_CREDIT_ENDDATE_SUM</th>\n",
              "      <th>DAYS_CREDIT_UPDATE_SUM</th>\n",
              "      <th>DAYS_ENDDATE_FACT_SUM</th>\n",
              "      <th>MONTHS_BALANCE_SUM</th>\n",
              "      <th>CREDIT_ACTIVE_PC_1</th>\n",
              "      <th>CREDIT_ACTIVE_PC_2</th>\n",
              "      <th>CREDIT_CURRENCY_PC_1</th>\n",
              "      <th>CREDIT_CURRENCY_PC_2</th>\n",
              "      <th>CREDIT_TYPE_PC_1</th>\n",
              "      <th>CREDIT_TYPE_PC_2</th>\n",
              "      <th>CREDIT_STATUS_PC_1</th>\n",
              "      <th>CREDIT_STATUS_PC_2</th>\n",
              "      <th>CREDIT_STATUS_PC_3</th>\n",
              "    </tr>\n",
              "    <tr>\n",
              "      <th>SK_ID_CURR</th>\n",
              "      <th></th>\n",
              "      <th></th>\n",
              "      <th></th>\n",
              "      <th></th>\n",
              "      <th></th>\n",
              "      <th></th>\n",
              "      <th></th>\n",
              "      <th></th>\n",
              "      <th></th>\n",
              "      <th></th>\n",
              "      <th></th>\n",
              "      <th></th>\n",
              "      <th></th>\n",
              "      <th></th>\n",
              "      <th></th>\n",
              "      <th></th>\n",
              "      <th></th>\n",
              "      <th></th>\n",
              "      <th></th>\n",
              "      <th></th>\n",
              "      <th></th>\n",
              "      <th></th>\n",
              "      <th></th>\n",
              "      <th></th>\n",
              "      <th></th>\n",
              "      <th></th>\n",
              "      <th></th>\n",
              "      <th></th>\n",
              "      <th></th>\n",
              "      <th></th>\n",
              "      <th></th>\n",
              "      <th></th>\n",
              "      <th></th>\n",
              "      <th></th>\n",
              "      <th></th>\n",
              "      <th></th>\n",
              "      <th></th>\n",
              "      <th></th>\n",
              "      <th></th>\n",
              "      <th></th>\n",
              "      <th></th>\n",
              "      <th></th>\n",
              "      <th></th>\n",
              "      <th></th>\n",
              "      <th></th>\n",
              "      <th></th>\n",
              "      <th></th>\n",
              "      <th></th>\n",
              "      <th></th>\n",
              "      <th></th>\n",
              "      <th></th>\n",
              "      <th></th>\n",
              "      <th></th>\n",
              "      <th></th>\n",
              "      <th></th>\n",
              "      <th></th>\n",
              "      <th></th>\n",
              "      <th></th>\n",
              "      <th></th>\n",
              "      <th></th>\n",
              "      <th></th>\n",
              "      <th></th>\n",
              "      <th></th>\n",
              "      <th></th>\n",
              "      <th></th>\n",
              "      <th></th>\n",
              "      <th></th>\n",
              "      <th></th>\n",
              "      <th></th>\n",
              "      <th></th>\n",
              "      <th></th>\n",
              "      <th></th>\n",
              "      <th></th>\n",
              "      <th></th>\n",
              "      <th></th>\n",
              "      <th></th>\n",
              "      <th></th>\n",
              "      <th></th>\n",
              "      <th></th>\n",
              "      <th></th>\n",
              "      <th></th>\n",
              "      <th></th>\n",
              "      <th></th>\n",
              "      <th></th>\n",
              "      <th></th>\n",
              "      <th></th>\n",
              "      <th></th>\n",
              "      <th></th>\n",
              "      <th></th>\n",
              "      <th></th>\n",
              "      <th></th>\n",
              "      <th></th>\n",
              "      <th></th>\n",
              "      <th></th>\n",
              "      <th></th>\n",
              "      <th></th>\n",
              "      <th></th>\n",
              "      <th></th>\n",
              "    </tr>\n",
              "  </thead>\n",
              "  <tbody>\n",
              "    <tr>\n",
              "      <th>281498</th>\n",
              "      <td>0</td>\n",
              "      <td>2</td>\n",
              "      <td>0</td>\n",
              "      <td>0</td>\n",
              "      <td>0</td>\n",
              "      <td>63000.0</td>\n",
              "      <td>314055.0</td>\n",
              "      <td>16573.5</td>\n",
              "      <td>238500.0</td>\n",
              "      <td>3</td>\n",
              "      <td>2</td>\n",
              "      <td>1</td>\n",
              "      <td>4</td>\n",
              "      <td>-14126</td>\n",
              "      <td>-151</td>\n",
              "      <td>-99.0</td>\n",
              "      <td>1</td>\n",
              "      <td>1</td>\n",
              "      <td>1</td>\n",
              "      <td>1</td>\n",
              "      <td>1</td>\n",
              "      <td>0</td>\n",
              "      <td>10</td>\n",
              "      <td>1.0</td>\n",
              "      <td>2</td>\n",
              "      <td>0</td>\n",
              "      <td>0</td>\n",
              "      <td>0</td>\n",
              "      <td>0</td>\n",
              "      <td>0</td>\n",
              "      <td>0</td>\n",
              "      <td>27</td>\n",
              "      <td>1.0</td>\n",
              "      <td>0.0</td>\n",
              "      <td>1.0</td>\n",
              "      <td>0.0</td>\n",
              "      <td>-569.0</td>\n",
              "      <td>-0.313593</td>\n",
              "      <td>-0.004004</td>\n",
              "      <td>-0.017349</td>\n",
              "      <td>0.003071</td>\n",
              "      <td>-0.011815</td>\n",
              "      <td>-32.269213</td>\n",
              "      <td>0.704069</td>\n",
              "      <td>5630.220</td>\n",
              "      <td>28755.0</td>\n",
              "      <td>30271.5</td>\n",
              "      <td>0.0</td>\n",
              "      <td>0.0</td>\n",
              "      <td>28755.0</td>\n",
              "      <td>0.0</td>\n",
              "      <td>0.0</td>\n",
              "      <td>-999.0</td>\n",
              "      <td>0.0</td>\n",
              "      <td>-999.0</td>\n",
              "      <td>0.0</td>\n",
              "      <td>-3.265881</td>\n",
              "      <td>-1.244843</td>\n",
              "      <td>0.254810</td>\n",
              "      <td>-3.041173</td>\n",
              "      <td>0.104680</td>\n",
              "      <td>-3.628521</td>\n",
              "      <td>-0.454297</td>\n",
              "      <td>-1.858450</td>\n",
              "      <td>-0.894073</td>\n",
              "      <td>0.144240</td>\n",
              "      <td>-2.543343</td>\n",
              "      <td>-0.281701</td>\n",
              "      <td>-1.507992e+06</td>\n",
              "      <td>-12869.018818</td>\n",
              "      <td>0.0</td>\n",
              "      <td>0.0</td>\n",
              "      <td>0.0</td>\n",
              "      <td>0.0</td>\n",
              "      <td>0.0</td>\n",
              "      <td>0.0</td>\n",
              "      <td>-999.0</td>\n",
              "      <td>-999.0</td>\n",
              "      <td>-999.0</td>\n",
              "      <td>-999.0</td>\n",
              "      <td>-999.0</td>\n",
              "      <td>-999.0</td>\n",
              "      <td>-999.0</td>\n",
              "      <td>-999.0</td>\n",
              "      <td>-999.0</td>\n",
              "      <td>-999.0</td>\n",
              "      <td>-999.0</td>\n",
              "      <td>-999.0</td>\n",
              "      <td>-999.0</td>\n",
              "      <td>-999.0</td>\n",
              "      <td>-999.0</td>\n",
              "      <td>-999.0</td>\n",
              "      <td>-999.0</td>\n",
              "      <td>-999.0</td>\n",
              "      <td>-999.0</td>\n",
              "      <td>-999.0</td>\n",
              "      <td>-999.0</td>\n",
              "      <td>-999.0</td>\n",
              "    </tr>\n",
              "    <tr>\n",
              "      <th>423537</th>\n",
              "      <td>0</td>\n",
              "      <td>1</td>\n",
              "      <td>1</td>\n",
              "      <td>1</td>\n",
              "      <td>0</td>\n",
              "      <td>166500.0</td>\n",
              "      <td>1288350.0</td>\n",
              "      <td>41562.0</td>\n",
              "      <td>1125000.0</td>\n",
              "      <td>7</td>\n",
              "      <td>1</td>\n",
              "      <td>4</td>\n",
              "      <td>4</td>\n",
              "      <td>-15322</td>\n",
              "      <td>-2437</td>\n",
              "      <td>3.0</td>\n",
              "      <td>1</td>\n",
              "      <td>1</td>\n",
              "      <td>1</td>\n",
              "      <td>1</td>\n",
              "      <td>0</td>\n",
              "      <td>1</td>\n",
              "      <td>9</td>\n",
              "      <td>2.0</td>\n",
              "      <td>2</td>\n",
              "      <td>0</td>\n",
              "      <td>0</td>\n",
              "      <td>0</td>\n",
              "      <td>0</td>\n",
              "      <td>0</td>\n",
              "      <td>0</td>\n",
              "      <td>23</td>\n",
              "      <td>2.0</td>\n",
              "      <td>0.0</td>\n",
              "      <td>2.0</td>\n",
              "      <td>0.0</td>\n",
              "      <td>-837.0</td>\n",
              "      <td>-0.313593</td>\n",
              "      <td>-0.004004</td>\n",
              "      <td>-0.017349</td>\n",
              "      <td>0.003071</td>\n",
              "      <td>-0.011815</td>\n",
              "      <td>-34.327923</td>\n",
              "      <td>-1.607304</td>\n",
              "      <td>53135.805</td>\n",
              "      <td>562500.0</td>\n",
              "      <td>587947.5</td>\n",
              "      <td>-999.0</td>\n",
              "      <td>0.0</td>\n",
              "      <td>750000.0</td>\n",
              "      <td>-999.0</td>\n",
              "      <td>0.0</td>\n",
              "      <td>-999.0</td>\n",
              "      <td>0.0</td>\n",
              "      <td>-999.0</td>\n",
              "      <td>0.0</td>\n",
              "      <td>0.828401</td>\n",
              "      <td>-2.708947</td>\n",
              "      <td>-0.207291</td>\n",
              "      <td>-0.879663</td>\n",
              "      <td>0.668199</td>\n",
              "      <td>-0.629351</td>\n",
              "      <td>-0.421593</td>\n",
              "      <td>1.038503</td>\n",
              "      <td>-2.337277</td>\n",
              "      <td>-0.548603</td>\n",
              "      <td>-1.920513</td>\n",
              "      <td>0.726522</td>\n",
              "      <td>2.399546e+06</td>\n",
              "      <td>-111901.450430</td>\n",
              "      <td>0.0</td>\n",
              "      <td>0.0</td>\n",
              "      <td>0.0</td>\n",
              "      <td>0.0</td>\n",
              "      <td>0.0</td>\n",
              "      <td>0.0</td>\n",
              "      <td>-999.0</td>\n",
              "      <td>-999.0</td>\n",
              "      <td>-999.0</td>\n",
              "      <td>-999.0</td>\n",
              "      <td>-999.0</td>\n",
              "      <td>-999.0</td>\n",
              "      <td>-999.0</td>\n",
              "      <td>-999.0</td>\n",
              "      <td>-999.0</td>\n",
              "      <td>-999.0</td>\n",
              "      <td>-999.0</td>\n",
              "      <td>-999.0</td>\n",
              "      <td>-999.0</td>\n",
              "      <td>-999.0</td>\n",
              "      <td>-999.0</td>\n",
              "      <td>-999.0</td>\n",
              "      <td>-999.0</td>\n",
              "      <td>-999.0</td>\n",
              "      <td>-999.0</td>\n",
              "      <td>-999.0</td>\n",
              "      <td>-999.0</td>\n",
              "      <td>-999.0</td>\n",
              "    </tr>\n",
              "  </tbody>\n",
              "</table>\n",
              "</div>"
            ],
            "text/plain": [
              "            NAME_CONTRACT_TYPE  CODE_GENDER  FLAG_OWN_CAR  FLAG_OWN_REALTY  \\\n",
              "SK_ID_CURR                                                                   \n",
              "281498                       0            2             0                0   \n",
              "423537                       0            1             1                1   \n",
              "\n",
              "            CNT_CHILDREN  AMT_INCOME_TOTAL  AMT_CREDIT  AMT_ANNUITY  \\\n",
              "SK_ID_CURR                                                            \n",
              "281498                 0           63000.0    314055.0      16573.5   \n",
              "423537                 0          166500.0   1288350.0      41562.0   \n",
              "\n",
              "            AMT_GOODS_PRICE  NAME_INCOME_TYPE  NAME_EDUCATION_TYPE  \\\n",
              "SK_ID_CURR                                                           \n",
              "281498             238500.0                 3                    2   \n",
              "423537            1125000.0                 7                    1   \n",
              "\n",
              "            NAME_FAMILY_STATUS  NAME_HOUSING_TYPE  DAYS_BIRTH  DAYS_EMPLOYED  \\\n",
              "SK_ID_CURR                                                                     \n",
              "281498                       1                  4      -14126           -151   \n",
              "423537                       4                  4      -15322          -2437   \n",
              "\n",
              "            OWN_CAR_AGE  FLAG_MOBIL  FLAG_EMP_PHONE  FLAG_WORK_PHONE  \\\n",
              "SK_ID_CURR                                                             \n",
              "281498            -99.0           1               1                1   \n",
              "423537              3.0           1               1                1   \n",
              "\n",
              "            FLAG_CONT_MOBILE  FLAG_PHONE  FLAG_EMAIL  OCCUPATION_TYPE  \\\n",
              "SK_ID_CURR                                                              \n",
              "281498                     1           1           0               10   \n",
              "423537                     1           0           1                9   \n",
              "\n",
              "            CNT_FAM_MEMBERS  REGION_RATING_CLIENT  REG_REGION_NOT_LIVE_REGION  \\\n",
              "SK_ID_CURR                                                                      \n",
              "281498                  1.0                     2                           0   \n",
              "423537                  2.0                     2                           0   \n",
              "\n",
              "            REG_REGION_NOT_WORK_REGION  LIVE_REGION_NOT_WORK_REGION  \\\n",
              "SK_ID_CURR                                                            \n",
              "281498                               0                            0   \n",
              "423537                               0                            0   \n",
              "\n",
              "            REG_CITY_NOT_LIVE_CITY  REG_CITY_NOT_WORK_CITY  \\\n",
              "SK_ID_CURR                                                   \n",
              "281498                           0                       0   \n",
              "423537                           0                       0   \n",
              "\n",
              "            LIVE_CITY_NOT_WORK_CITY  ORGANIZATION_TYPE  \\\n",
              "SK_ID_CURR                                               \n",
              "281498                            0                 27   \n",
              "423537                            0                 23   \n",
              "\n",
              "            OBS_30_CNT_SOCIAL_CIRCLE  DEF_30_CNT_SOCIAL_CIRCLE  \\\n",
              "SK_ID_CURR                                                       \n",
              "281498                           1.0                       0.0   \n",
              "423537                           2.0                       0.0   \n",
              "\n",
              "            OBS_60_CNT_SOCIAL_CIRCLE  DEF_60_CNT_SOCIAL_CIRCLE  \\\n",
              "SK_ID_CURR                                                       \n",
              "281498                           1.0                       0.0   \n",
              "423537                           2.0                       0.0   \n",
              "\n",
              "            DAYS_LAST_PHONE_CHANGE  FLAG_DOCUMENT_PC_1  FLAG_DOCUMENT_PC_2  \\\n",
              "SK_ID_CURR                                                                   \n",
              "281498                      -569.0           -0.313593           -0.004004   \n",
              "423537                      -837.0           -0.313593           -0.004004   \n",
              "\n",
              "            FLAG_DOCUMENT_PC_3  FLAG_DOCUMENT_PC_4  FLAG_DOCUMENT_PC_5  \\\n",
              "SK_ID_CURR                                                               \n",
              "281498               -0.017349            0.003071           -0.011815   \n",
              "423537               -0.017349            0.003071           -0.011815   \n",
              "\n",
              "            AMT_REQ_CREDIT_PC_1  AMT_REQ_CREDIT_PC_2  AMT_ANNUITY_MEAN  \\\n",
              "SK_ID_CURR                                                               \n",
              "281498               -32.269213             0.704069          5630.220   \n",
              "423537               -34.327923            -1.607304         53135.805   \n",
              "\n",
              "            AMT_APPLICATION_MEAN  AMT_CREDIT_MEAN  AMT_DOWN_PAYMENT_MEAN  \\\n",
              "SK_ID_CURR                                                                 \n",
              "281498                   28755.0          30271.5                    0.0   \n",
              "423537                  562500.0         587947.5                 -999.0   \n",
              "\n",
              "            AMT_DOWN_PAYMENT_SUM  AMT_GOODS_PRICE_MEAN  \\\n",
              "SK_ID_CURR                                               \n",
              "281498                       0.0               28755.0   \n",
              "423537                       0.0              750000.0   \n",
              "\n",
              "            RATE_DOWN_PAYMENT_MEAN  RATE_DOWN_PAYMENT_SUM  \\\n",
              "SK_ID_CURR                                                  \n",
              "281498                         0.0                    0.0   \n",
              "423537                      -999.0                    0.0   \n",
              "\n",
              "            RATE_INTEREST_PRIMARY_MEAN  RATE_INTEREST_PRIMARY_SUM  \\\n",
              "SK_ID_CURR                                                          \n",
              "281498                          -999.0                        0.0   \n",
              "423537                          -999.0                        0.0   \n",
              "\n",
              "            RATE_INTEREST_PRIVILEGED_MEAN  RATE_INTEREST_PRIVILEGED_SUM  \\\n",
              "SK_ID_CURR                                                                \n",
              "281498                             -999.0                           0.0   \n",
              "423537                             -999.0                           0.0   \n",
              "\n",
              "            NAME_CONTRACT_PC_1  NAME_CONTRACT_PC_2  NAME_CONTRACT_PC_3  \\\n",
              "SK_ID_CURR                                                               \n",
              "281498               -3.265881           -1.244843            0.254810   \n",
              "423537                0.828401           -2.708947           -0.207291   \n",
              "\n",
              "            CODE_REJECT_REASON_PC_1  CODE_REJECT_REASON_PC_2  \\\n",
              "SK_ID_CURR                                                     \n",
              "281498                    -3.041173                 0.104680   \n",
              "423537                    -0.879663                 0.668199   \n",
              "\n",
              "            NAME_CLIENT_TYPE_PC_1  NAME_CLIENT_TYPE_PC_2  NAME_PORTFOLIO_PC_1  \\\n",
              "SK_ID_CURR                                                                      \n",
              "281498                  -3.628521              -0.454297            -1.858450   \n",
              "423537                  -0.629351              -0.421593             1.038503   \n",
              "\n",
              "            NAME_PORTFOLIO_PC_2  NAME_PORTFOLIO_PC_3  NAME_PRODUCT_TYPE_PC_1  \\\n",
              "SK_ID_CURR                                                                     \n",
              "281498                -0.894073             0.144240               -2.543343   \n",
              "423537                -2.337277            -0.548603               -1.920513   \n",
              "\n",
              "            NAME_PRODUCT_TYPE_PC_2  AMT_SUM_PC_1   AMT_SUM_PC_2  \\\n",
              "SK_ID_CURR                                                        \n",
              "281498                   -0.281701 -1.507992e+06  -12869.018818   \n",
              "423537                    0.726522  2.399546e+06 -111901.450430   \n",
              "\n",
              "            LATE_DAYS_MEAN  LATE_DAYS_SUM  LATE_DAYS_MAX  AMT_UNPAID_MEAN  \\\n",
              "SK_ID_CURR                                                                  \n",
              "281498                 0.0            0.0            0.0              0.0   \n",
              "423537                 0.0            0.0            0.0              0.0   \n",
              "\n",
              "            AMT_UNPAID_SUM  AMT_UNPAID_MAX  AMT_ANNUITY_SUM  \\\n",
              "SK_ID_CURR                                                    \n",
              "281498                 0.0             0.0           -999.0   \n",
              "423537                 0.0             0.0           -999.0   \n",
              "\n",
              "            AMT_CREDIT_MAX_OVERDUE_SUM  AMT_CREDIT_SUM_SUM  \\\n",
              "SK_ID_CURR                                                   \n",
              "281498                          -999.0              -999.0   \n",
              "423537                          -999.0              -999.0   \n",
              "\n",
              "            AMT_CREDIT_SUM_DEBT_SUM  AMT_CREDIT_SUM_LIMIT_SUM  \\\n",
              "SK_ID_CURR                                                      \n",
              "281498                       -999.0                    -999.0   \n",
              "423537                       -999.0                    -999.0   \n",
              "\n",
              "            AMT_CREDIT_SUM_OVERDUE_SUM  CNT_CREDIT_PROLONG_SUM  \\\n",
              "SK_ID_CURR                                                       \n",
              "281498                          -999.0                  -999.0   \n",
              "423537                          -999.0                  -999.0   \n",
              "\n",
              "            CREDIT_DAY_OVERDUE_SUM  DAYS_CREDIT_SUM  DAYS_CREDIT_ENDDATE_SUM  \\\n",
              "SK_ID_CURR                                                                     \n",
              "281498                      -999.0           -999.0                   -999.0   \n",
              "423537                      -999.0           -999.0                   -999.0   \n",
              "\n",
              "            DAYS_CREDIT_UPDATE_SUM  DAYS_ENDDATE_FACT_SUM  MONTHS_BALANCE_SUM  \\\n",
              "SK_ID_CURR                                                                      \n",
              "281498                      -999.0                 -999.0              -999.0   \n",
              "423537                      -999.0                 -999.0              -999.0   \n",
              "\n",
              "            CREDIT_ACTIVE_PC_1  CREDIT_ACTIVE_PC_2  CREDIT_CURRENCY_PC_1  \\\n",
              "SK_ID_CURR                                                                 \n",
              "281498                  -999.0              -999.0                -999.0   \n",
              "423537                  -999.0              -999.0                -999.0   \n",
              "\n",
              "            CREDIT_CURRENCY_PC_2  CREDIT_TYPE_PC_1  CREDIT_TYPE_PC_2  \\\n",
              "SK_ID_CURR                                                             \n",
              "281498                    -999.0            -999.0            -999.0   \n",
              "423537                    -999.0            -999.0            -999.0   \n",
              "\n",
              "            CREDIT_STATUS_PC_1  CREDIT_STATUS_PC_2  CREDIT_STATUS_PC_3  \n",
              "SK_ID_CURR                                                              \n",
              "281498                  -999.0              -999.0              -999.0  \n",
              "423537                  -999.0              -999.0              -999.0  "
            ]
          },
          "metadata": {
            "tags": []
          },
          "execution_count": 102
        },
        {
          "output_type": "execute_result",
          "data": {
            "text/html": [
              "<div>\n",
              "<style scoped>\n",
              "    .dataframe tbody tr th:only-of-type {\n",
              "        vertical-align: middle;\n",
              "    }\n",
              "\n",
              "    .dataframe tbody tr th {\n",
              "        vertical-align: top;\n",
              "    }\n",
              "\n",
              "    .dataframe thead th {\n",
              "        text-align: right;\n",
              "    }\n",
              "</style>\n",
              "<table border=\"1\" class=\"dataframe\">\n",
              "  <thead>\n",
              "    <tr style=\"text-align: right;\">\n",
              "      <th></th>\n",
              "      <th>NAME_CONTRACT_TYPE</th>\n",
              "      <th>CODE_GENDER</th>\n",
              "      <th>FLAG_OWN_CAR</th>\n",
              "      <th>FLAG_OWN_REALTY</th>\n",
              "      <th>CNT_CHILDREN</th>\n",
              "      <th>AMT_INCOME_TOTAL</th>\n",
              "      <th>AMT_CREDIT</th>\n",
              "      <th>AMT_ANNUITY</th>\n",
              "      <th>AMT_GOODS_PRICE</th>\n",
              "      <th>NAME_INCOME_TYPE</th>\n",
              "      <th>NAME_EDUCATION_TYPE</th>\n",
              "      <th>NAME_FAMILY_STATUS</th>\n",
              "      <th>NAME_HOUSING_TYPE</th>\n",
              "      <th>DAYS_BIRTH</th>\n",
              "      <th>DAYS_EMPLOYED</th>\n",
              "      <th>OWN_CAR_AGE</th>\n",
              "      <th>FLAG_MOBIL</th>\n",
              "      <th>FLAG_EMP_PHONE</th>\n",
              "      <th>FLAG_WORK_PHONE</th>\n",
              "      <th>FLAG_CONT_MOBILE</th>\n",
              "      <th>FLAG_PHONE</th>\n",
              "      <th>FLAG_EMAIL</th>\n",
              "      <th>OCCUPATION_TYPE</th>\n",
              "      <th>CNT_FAM_MEMBERS</th>\n",
              "      <th>REGION_RATING_CLIENT</th>\n",
              "      <th>REG_REGION_NOT_LIVE_REGION</th>\n",
              "      <th>REG_REGION_NOT_WORK_REGION</th>\n",
              "      <th>LIVE_REGION_NOT_WORK_REGION</th>\n",
              "      <th>REG_CITY_NOT_LIVE_CITY</th>\n",
              "      <th>REG_CITY_NOT_WORK_CITY</th>\n",
              "      <th>LIVE_CITY_NOT_WORK_CITY</th>\n",
              "      <th>ORGANIZATION_TYPE</th>\n",
              "      <th>OBS_30_CNT_SOCIAL_CIRCLE</th>\n",
              "      <th>DEF_30_CNT_SOCIAL_CIRCLE</th>\n",
              "      <th>OBS_60_CNT_SOCIAL_CIRCLE</th>\n",
              "      <th>DEF_60_CNT_SOCIAL_CIRCLE</th>\n",
              "      <th>DAYS_LAST_PHONE_CHANGE</th>\n",
              "      <th>FLAG_DOCUMENT_PC_1</th>\n",
              "      <th>FLAG_DOCUMENT_PC_2</th>\n",
              "      <th>FLAG_DOCUMENT_PC_3</th>\n",
              "      <th>FLAG_DOCUMENT_PC_4</th>\n",
              "      <th>FLAG_DOCUMENT_PC_5</th>\n",
              "      <th>AMT_REQ_CREDIT_PC_1</th>\n",
              "      <th>AMT_REQ_CREDIT_PC_2</th>\n",
              "      <th>AMT_ANNUITY_MEAN</th>\n",
              "      <th>AMT_APPLICATION_MEAN</th>\n",
              "      <th>AMT_CREDIT_MEAN</th>\n",
              "      <th>AMT_DOWN_PAYMENT_MEAN</th>\n",
              "      <th>AMT_DOWN_PAYMENT_SUM</th>\n",
              "      <th>AMT_GOODS_PRICE_MEAN</th>\n",
              "      <th>RATE_DOWN_PAYMENT_MEAN</th>\n",
              "      <th>RATE_DOWN_PAYMENT_SUM</th>\n",
              "      <th>RATE_INTEREST_PRIMARY_MEAN</th>\n",
              "      <th>RATE_INTEREST_PRIMARY_SUM</th>\n",
              "      <th>RATE_INTEREST_PRIVILEGED_MEAN</th>\n",
              "      <th>RATE_INTEREST_PRIVILEGED_SUM</th>\n",
              "      <th>NAME_CONTRACT_PC_1</th>\n",
              "      <th>NAME_CONTRACT_PC_2</th>\n",
              "      <th>NAME_CONTRACT_PC_3</th>\n",
              "      <th>CODE_REJECT_REASON_PC_1</th>\n",
              "      <th>CODE_REJECT_REASON_PC_2</th>\n",
              "      <th>NAME_CLIENT_TYPE_PC_1</th>\n",
              "      <th>NAME_CLIENT_TYPE_PC_2</th>\n",
              "      <th>NAME_PORTFOLIO_PC_1</th>\n",
              "      <th>NAME_PORTFOLIO_PC_2</th>\n",
              "      <th>NAME_PORTFOLIO_PC_3</th>\n",
              "      <th>NAME_PRODUCT_TYPE_PC_1</th>\n",
              "      <th>NAME_PRODUCT_TYPE_PC_2</th>\n",
              "      <th>AMT_SUM_PC_1</th>\n",
              "      <th>AMT_SUM_PC_2</th>\n",
              "      <th>LATE_DAYS_MEAN</th>\n",
              "      <th>LATE_DAYS_SUM</th>\n",
              "      <th>LATE_DAYS_MAX</th>\n",
              "      <th>AMT_UNPAID_MEAN</th>\n",
              "      <th>AMT_UNPAID_SUM</th>\n",
              "      <th>AMT_UNPAID_MAX</th>\n",
              "      <th>AMT_ANNUITY_SUM</th>\n",
              "      <th>AMT_CREDIT_MAX_OVERDUE_SUM</th>\n",
              "      <th>AMT_CREDIT_SUM_SUM</th>\n",
              "      <th>AMT_CREDIT_SUM_DEBT_SUM</th>\n",
              "      <th>AMT_CREDIT_SUM_LIMIT_SUM</th>\n",
              "      <th>AMT_CREDIT_SUM_OVERDUE_SUM</th>\n",
              "      <th>CNT_CREDIT_PROLONG_SUM</th>\n",
              "      <th>CREDIT_DAY_OVERDUE_SUM</th>\n",
              "      <th>DAYS_CREDIT_SUM</th>\n",
              "      <th>DAYS_CREDIT_ENDDATE_SUM</th>\n",
              "      <th>DAYS_CREDIT_UPDATE_SUM</th>\n",
              "      <th>DAYS_ENDDATE_FACT_SUM</th>\n",
              "      <th>MONTHS_BALANCE_SUM</th>\n",
              "      <th>CREDIT_ACTIVE_PC_1</th>\n",
              "      <th>CREDIT_ACTIVE_PC_2</th>\n",
              "      <th>CREDIT_CURRENCY_PC_1</th>\n",
              "      <th>CREDIT_CURRENCY_PC_2</th>\n",
              "      <th>CREDIT_TYPE_PC_1</th>\n",
              "      <th>CREDIT_TYPE_PC_2</th>\n",
              "      <th>CREDIT_STATUS_PC_1</th>\n",
              "      <th>CREDIT_STATUS_PC_2</th>\n",
              "      <th>CREDIT_STATUS_PC_3</th>\n",
              "    </tr>\n",
              "    <tr>\n",
              "      <th>SK_ID_CURR</th>\n",
              "      <th></th>\n",
              "      <th></th>\n",
              "      <th></th>\n",
              "      <th></th>\n",
              "      <th></th>\n",
              "      <th></th>\n",
              "      <th></th>\n",
              "      <th></th>\n",
              "      <th></th>\n",
              "      <th></th>\n",
              "      <th></th>\n",
              "      <th></th>\n",
              "      <th></th>\n",
              "      <th></th>\n",
              "      <th></th>\n",
              "      <th></th>\n",
              "      <th></th>\n",
              "      <th></th>\n",
              "      <th></th>\n",
              "      <th></th>\n",
              "      <th></th>\n",
              "      <th></th>\n",
              "      <th></th>\n",
              "      <th></th>\n",
              "      <th></th>\n",
              "      <th></th>\n",
              "      <th></th>\n",
              "      <th></th>\n",
              "      <th></th>\n",
              "      <th></th>\n",
              "      <th></th>\n",
              "      <th></th>\n",
              "      <th></th>\n",
              "      <th></th>\n",
              "      <th></th>\n",
              "      <th></th>\n",
              "      <th></th>\n",
              "      <th></th>\n",
              "      <th></th>\n",
              "      <th></th>\n",
              "      <th></th>\n",
              "      <th></th>\n",
              "      <th></th>\n",
              "      <th></th>\n",
              "      <th></th>\n",
              "      <th></th>\n",
              "      <th></th>\n",
              "      <th></th>\n",
              "      <th></th>\n",
              "      <th></th>\n",
              "      <th></th>\n",
              "      <th></th>\n",
              "      <th></th>\n",
              "      <th></th>\n",
              "      <th></th>\n",
              "      <th></th>\n",
              "      <th></th>\n",
              "      <th></th>\n",
              "      <th></th>\n",
              "      <th></th>\n",
              "      <th></th>\n",
              "      <th></th>\n",
              "      <th></th>\n",
              "      <th></th>\n",
              "      <th></th>\n",
              "      <th></th>\n",
              "      <th></th>\n",
              "      <th></th>\n",
              "      <th></th>\n",
              "      <th></th>\n",
              "      <th></th>\n",
              "      <th></th>\n",
              "      <th></th>\n",
              "      <th></th>\n",
              "      <th></th>\n",
              "      <th></th>\n",
              "      <th></th>\n",
              "      <th></th>\n",
              "      <th></th>\n",
              "      <th></th>\n",
              "      <th></th>\n",
              "      <th></th>\n",
              "      <th></th>\n",
              "      <th></th>\n",
              "      <th></th>\n",
              "      <th></th>\n",
              "      <th></th>\n",
              "      <th></th>\n",
              "      <th></th>\n",
              "      <th></th>\n",
              "      <th></th>\n",
              "      <th></th>\n",
              "      <th></th>\n",
              "      <th></th>\n",
              "      <th></th>\n",
              "      <th></th>\n",
              "      <th></th>\n",
              "      <th></th>\n",
              "    </tr>\n",
              "  </thead>\n",
              "  <tbody>\n",
              "    <tr>\n",
              "      <th>362145</th>\n",
              "      <td>0</td>\n",
              "      <td>1</td>\n",
              "      <td>0</td>\n",
              "      <td>1</td>\n",
              "      <td>0</td>\n",
              "      <td>112500.0</td>\n",
              "      <td>1288350.0</td>\n",
              "      <td>37800.0</td>\n",
              "      <td>1125000.0</td>\n",
              "      <td>3</td>\n",
              "      <td>0</td>\n",
              "      <td>4</td>\n",
              "      <td>4</td>\n",
              "      <td>-16582</td>\n",
              "      <td>-909</td>\n",
              "      <td>-99.0</td>\n",
              "      <td>1</td>\n",
              "      <td>1</td>\n",
              "      <td>0</td>\n",
              "      <td>1</td>\n",
              "      <td>0</td>\n",
              "      <td>0</td>\n",
              "      <td>18</td>\n",
              "      <td>2.0</td>\n",
              "      <td>3</td>\n",
              "      <td>0</td>\n",
              "      <td>0</td>\n",
              "      <td>0</td>\n",
              "      <td>0</td>\n",
              "      <td>0</td>\n",
              "      <td>0</td>\n",
              "      <td>23</td>\n",
              "      <td>4.0</td>\n",
              "      <td>2.0</td>\n",
              "      <td>4.0</td>\n",
              "      <td>2.0</td>\n",
              "      <td>-1633.0</td>\n",
              "      <td>0.874248</td>\n",
              "      <td>0.729681</td>\n",
              "      <td>-0.240126</td>\n",
              "      <td>0.030574</td>\n",
              "      <td>-0.015869</td>\n",
              "      <td>-32.262365</td>\n",
              "      <td>1.854211</td>\n",
              "      <td>11314.3950</td>\n",
              "      <td>53712.0</td>\n",
              "      <td>50332.500</td>\n",
              "      <td>5373.0</td>\n",
              "      <td>5373.0</td>\n",
              "      <td>53712.0</td>\n",
              "      <td>0.105047</td>\n",
              "      <td>0.105047</td>\n",
              "      <td>-999.0</td>\n",
              "      <td>0.0</td>\n",
              "      <td>-999.0</td>\n",
              "      <td>0.0</td>\n",
              "      <td>-3.265881</td>\n",
              "      <td>-1.244843</td>\n",
              "      <td>0.254810</td>\n",
              "      <td>-3.041173</td>\n",
              "      <td>0.104680</td>\n",
              "      <td>-3.628521</td>\n",
              "      <td>-0.454297</td>\n",
              "      <td>-1.85845</td>\n",
              "      <td>-0.894073</td>\n",
              "      <td>0.144240</td>\n",
              "      <td>-2.543343</td>\n",
              "      <td>-0.281701</td>\n",
              "      <td>-1.467680e+06</td>\n",
              "      <td>-18626.575945</td>\n",
              "      <td>0.000000</td>\n",
              "      <td>0.0</td>\n",
              "      <td>0.0</td>\n",
              "      <td>0.000000</td>\n",
              "      <td>0.000</td>\n",
              "      <td>0.000</td>\n",
              "      <td>-999.0</td>\n",
              "      <td>-999.0</td>\n",
              "      <td>-999.0</td>\n",
              "      <td>-999.0</td>\n",
              "      <td>-999.0</td>\n",
              "      <td>-999.0</td>\n",
              "      <td>-999.0</td>\n",
              "      <td>-999.0</td>\n",
              "      <td>-999.0</td>\n",
              "      <td>-999.0</td>\n",
              "      <td>-999.0</td>\n",
              "      <td>-999.0</td>\n",
              "      <td>-999.0</td>\n",
              "      <td>-999.0</td>\n",
              "      <td>-999.0</td>\n",
              "      <td>-999.0</td>\n",
              "      <td>-999.0</td>\n",
              "      <td>-999.0</td>\n",
              "      <td>-999.0</td>\n",
              "      <td>-999.0</td>\n",
              "      <td>-999.0</td>\n",
              "      <td>-999.0</td>\n",
              "    </tr>\n",
              "    <tr>\n",
              "      <th>350807</th>\n",
              "      <td>0</td>\n",
              "      <td>1</td>\n",
              "      <td>0</td>\n",
              "      <td>1</td>\n",
              "      <td>0</td>\n",
              "      <td>85050.0</td>\n",
              "      <td>463284.0</td>\n",
              "      <td>14674.5</td>\n",
              "      <td>382500.0</td>\n",
              "      <td>6</td>\n",
              "      <td>1</td>\n",
              "      <td>3</td>\n",
              "      <td>4</td>\n",
              "      <td>-22446</td>\n",
              "      <td>365243</td>\n",
              "      <td>-99.0</td>\n",
              "      <td>1</td>\n",
              "      <td>0</td>\n",
              "      <td>0</td>\n",
              "      <td>1</td>\n",
              "      <td>0</td>\n",
              "      <td>0</td>\n",
              "      <td>16</td>\n",
              "      <td>1.0</td>\n",
              "      <td>3</td>\n",
              "      <td>0</td>\n",
              "      <td>0</td>\n",
              "      <td>0</td>\n",
              "      <td>0</td>\n",
              "      <td>0</td>\n",
              "      <td>0</td>\n",
              "      <td>43</td>\n",
              "      <td>4.0</td>\n",
              "      <td>2.0</td>\n",
              "      <td>4.0</td>\n",
              "      <td>1.0</td>\n",
              "      <td>-805.0</td>\n",
              "      <td>0.910918</td>\n",
              "      <td>-0.683507</td>\n",
              "      <td>-0.212372</td>\n",
              "      <td>0.027939</td>\n",
              "      <td>-0.002022</td>\n",
              "      <td>210.638914</td>\n",
              "      <td>-0.032058</td>\n",
              "      <td>20424.7275</td>\n",
              "      <td>154132.5</td>\n",
              "      <td>169255.875</td>\n",
              "      <td>2745.0</td>\n",
              "      <td>5490.0</td>\n",
              "      <td>308265.0</td>\n",
              "      <td>0.024866</td>\n",
              "      <td>0.049732</td>\n",
              "      <td>-999.0</td>\n",
              "      <td>0.0</td>\n",
              "      <td>-999.0</td>\n",
              "      <td>0.0</td>\n",
              "      <td>8.553418</td>\n",
              "      <td>-1.833328</td>\n",
              "      <td>-0.610802</td>\n",
              "      <td>5.399375</td>\n",
              "      <td>1.381474</td>\n",
              "      <td>6.353616</td>\n",
              "      <td>0.631583</td>\n",
              "      <td>4.97031</td>\n",
              "      <td>0.081607</td>\n",
              "      <td>2.352498</td>\n",
              "      <td>5.122941</td>\n",
              "      <td>-0.643863</td>\n",
              "      <td>1.754986e+06</td>\n",
              "      <td>-17242.329502</td>\n",
              "      <td>0.145455</td>\n",
              "      <td>8.0</td>\n",
              "      <td>3.0</td>\n",
              "      <td>1240.348091</td>\n",
              "      <td>68219.145</td>\n",
              "      <td>35612.775</td>\n",
              "      <td>-999.0</td>\n",
              "      <td>-999.0</td>\n",
              "      <td>-999.0</td>\n",
              "      <td>-999.0</td>\n",
              "      <td>-999.0</td>\n",
              "      <td>-999.0</td>\n",
              "      <td>-999.0</td>\n",
              "      <td>-999.0</td>\n",
              "      <td>-999.0</td>\n",
              "      <td>-999.0</td>\n",
              "      <td>-999.0</td>\n",
              "      <td>-999.0</td>\n",
              "      <td>-999.0</td>\n",
              "      <td>-999.0</td>\n",
              "      <td>-999.0</td>\n",
              "      <td>-999.0</td>\n",
              "      <td>-999.0</td>\n",
              "      <td>-999.0</td>\n",
              "      <td>-999.0</td>\n",
              "      <td>-999.0</td>\n",
              "      <td>-999.0</td>\n",
              "      <td>-999.0</td>\n",
              "    </tr>\n",
              "  </tbody>\n",
              "</table>\n",
              "</div>"
            ],
            "text/plain": [
              "            NAME_CONTRACT_TYPE  CODE_GENDER  FLAG_OWN_CAR  FLAG_OWN_REALTY  \\\n",
              "SK_ID_CURR                                                                   \n",
              "362145                       0            1             0                1   \n",
              "350807                       0            1             0                1   \n",
              "\n",
              "            CNT_CHILDREN  AMT_INCOME_TOTAL  AMT_CREDIT  AMT_ANNUITY  \\\n",
              "SK_ID_CURR                                                            \n",
              "362145                 0          112500.0   1288350.0      37800.0   \n",
              "350807                 0           85050.0    463284.0      14674.5   \n",
              "\n",
              "            AMT_GOODS_PRICE  NAME_INCOME_TYPE  NAME_EDUCATION_TYPE  \\\n",
              "SK_ID_CURR                                                           \n",
              "362145            1125000.0                 3                    0   \n",
              "350807             382500.0                 6                    1   \n",
              "\n",
              "            NAME_FAMILY_STATUS  NAME_HOUSING_TYPE  DAYS_BIRTH  DAYS_EMPLOYED  \\\n",
              "SK_ID_CURR                                                                     \n",
              "362145                       4                  4      -16582           -909   \n",
              "350807                       3                  4      -22446         365243   \n",
              "\n",
              "            OWN_CAR_AGE  FLAG_MOBIL  FLAG_EMP_PHONE  FLAG_WORK_PHONE  \\\n",
              "SK_ID_CURR                                                             \n",
              "362145            -99.0           1               1                0   \n",
              "350807            -99.0           1               0                0   \n",
              "\n",
              "            FLAG_CONT_MOBILE  FLAG_PHONE  FLAG_EMAIL  OCCUPATION_TYPE  \\\n",
              "SK_ID_CURR                                                              \n",
              "362145                     1           0           0               18   \n",
              "350807                     1           0           0               16   \n",
              "\n",
              "            CNT_FAM_MEMBERS  REGION_RATING_CLIENT  REG_REGION_NOT_LIVE_REGION  \\\n",
              "SK_ID_CURR                                                                      \n",
              "362145                  2.0                     3                           0   \n",
              "350807                  1.0                     3                           0   \n",
              "\n",
              "            REG_REGION_NOT_WORK_REGION  LIVE_REGION_NOT_WORK_REGION  \\\n",
              "SK_ID_CURR                                                            \n",
              "362145                               0                            0   \n",
              "350807                               0                            0   \n",
              "\n",
              "            REG_CITY_NOT_LIVE_CITY  REG_CITY_NOT_WORK_CITY  \\\n",
              "SK_ID_CURR                                                   \n",
              "362145                           0                       0   \n",
              "350807                           0                       0   \n",
              "\n",
              "            LIVE_CITY_NOT_WORK_CITY  ORGANIZATION_TYPE  \\\n",
              "SK_ID_CURR                                               \n",
              "362145                            0                 23   \n",
              "350807                            0                 43   \n",
              "\n",
              "            OBS_30_CNT_SOCIAL_CIRCLE  DEF_30_CNT_SOCIAL_CIRCLE  \\\n",
              "SK_ID_CURR                                                       \n",
              "362145                           4.0                       2.0   \n",
              "350807                           4.0                       2.0   \n",
              "\n",
              "            OBS_60_CNT_SOCIAL_CIRCLE  DEF_60_CNT_SOCIAL_CIRCLE  \\\n",
              "SK_ID_CURR                                                       \n",
              "362145                           4.0                       2.0   \n",
              "350807                           4.0                       1.0   \n",
              "\n",
              "            DAYS_LAST_PHONE_CHANGE  FLAG_DOCUMENT_PC_1  FLAG_DOCUMENT_PC_2  \\\n",
              "SK_ID_CURR                                                                   \n",
              "362145                     -1633.0            0.874248            0.729681   \n",
              "350807                      -805.0            0.910918           -0.683507   \n",
              "\n",
              "            FLAG_DOCUMENT_PC_3  FLAG_DOCUMENT_PC_4  FLAG_DOCUMENT_PC_5  \\\n",
              "SK_ID_CURR                                                               \n",
              "362145               -0.240126            0.030574           -0.015869   \n",
              "350807               -0.212372            0.027939           -0.002022   \n",
              "\n",
              "            AMT_REQ_CREDIT_PC_1  AMT_REQ_CREDIT_PC_2  AMT_ANNUITY_MEAN  \\\n",
              "SK_ID_CURR                                                               \n",
              "362145               -32.262365             1.854211        11314.3950   \n",
              "350807               210.638914            -0.032058        20424.7275   \n",
              "\n",
              "            AMT_APPLICATION_MEAN  AMT_CREDIT_MEAN  AMT_DOWN_PAYMENT_MEAN  \\\n",
              "SK_ID_CURR                                                                 \n",
              "362145                   53712.0        50332.500                 5373.0   \n",
              "350807                  154132.5       169255.875                 2745.0   \n",
              "\n",
              "            AMT_DOWN_PAYMENT_SUM  AMT_GOODS_PRICE_MEAN  \\\n",
              "SK_ID_CURR                                               \n",
              "362145                    5373.0               53712.0   \n",
              "350807                    5490.0              308265.0   \n",
              "\n",
              "            RATE_DOWN_PAYMENT_MEAN  RATE_DOWN_PAYMENT_SUM  \\\n",
              "SK_ID_CURR                                                  \n",
              "362145                    0.105047               0.105047   \n",
              "350807                    0.024866               0.049732   \n",
              "\n",
              "            RATE_INTEREST_PRIMARY_MEAN  RATE_INTEREST_PRIMARY_SUM  \\\n",
              "SK_ID_CURR                                                          \n",
              "362145                          -999.0                        0.0   \n",
              "350807                          -999.0                        0.0   \n",
              "\n",
              "            RATE_INTEREST_PRIVILEGED_MEAN  RATE_INTEREST_PRIVILEGED_SUM  \\\n",
              "SK_ID_CURR                                                                \n",
              "362145                             -999.0                           0.0   \n",
              "350807                             -999.0                           0.0   \n",
              "\n",
              "            NAME_CONTRACT_PC_1  NAME_CONTRACT_PC_2  NAME_CONTRACT_PC_3  \\\n",
              "SK_ID_CURR                                                               \n",
              "362145               -3.265881           -1.244843            0.254810   \n",
              "350807                8.553418           -1.833328           -0.610802   \n",
              "\n",
              "            CODE_REJECT_REASON_PC_1  CODE_REJECT_REASON_PC_2  \\\n",
              "SK_ID_CURR                                                     \n",
              "362145                    -3.041173                 0.104680   \n",
              "350807                     5.399375                 1.381474   \n",
              "\n",
              "            NAME_CLIENT_TYPE_PC_1  NAME_CLIENT_TYPE_PC_2  NAME_PORTFOLIO_PC_1  \\\n",
              "SK_ID_CURR                                                                      \n",
              "362145                  -3.628521              -0.454297             -1.85845   \n",
              "350807                   6.353616               0.631583              4.97031   \n",
              "\n",
              "            NAME_PORTFOLIO_PC_2  NAME_PORTFOLIO_PC_3  NAME_PRODUCT_TYPE_PC_1  \\\n",
              "SK_ID_CURR                                                                     \n",
              "362145                -0.894073             0.144240               -2.543343   \n",
              "350807                 0.081607             2.352498                5.122941   \n",
              "\n",
              "            NAME_PRODUCT_TYPE_PC_2  AMT_SUM_PC_1  AMT_SUM_PC_2  \\\n",
              "SK_ID_CURR                                                       \n",
              "362145                   -0.281701 -1.467680e+06 -18626.575945   \n",
              "350807                   -0.643863  1.754986e+06 -17242.329502   \n",
              "\n",
              "            LATE_DAYS_MEAN  LATE_DAYS_SUM  LATE_DAYS_MAX  AMT_UNPAID_MEAN  \\\n",
              "SK_ID_CURR                                                                  \n",
              "362145            0.000000            0.0            0.0         0.000000   \n",
              "350807            0.145455            8.0            3.0      1240.348091   \n",
              "\n",
              "            AMT_UNPAID_SUM  AMT_UNPAID_MAX  AMT_ANNUITY_SUM  \\\n",
              "SK_ID_CURR                                                    \n",
              "362145               0.000           0.000           -999.0   \n",
              "350807           68219.145       35612.775           -999.0   \n",
              "\n",
              "            AMT_CREDIT_MAX_OVERDUE_SUM  AMT_CREDIT_SUM_SUM  \\\n",
              "SK_ID_CURR                                                   \n",
              "362145                          -999.0              -999.0   \n",
              "350807                          -999.0              -999.0   \n",
              "\n",
              "            AMT_CREDIT_SUM_DEBT_SUM  AMT_CREDIT_SUM_LIMIT_SUM  \\\n",
              "SK_ID_CURR                                                      \n",
              "362145                       -999.0                    -999.0   \n",
              "350807                       -999.0                    -999.0   \n",
              "\n",
              "            AMT_CREDIT_SUM_OVERDUE_SUM  CNT_CREDIT_PROLONG_SUM  \\\n",
              "SK_ID_CURR                                                       \n",
              "362145                          -999.0                  -999.0   \n",
              "350807                          -999.0                  -999.0   \n",
              "\n",
              "            CREDIT_DAY_OVERDUE_SUM  DAYS_CREDIT_SUM  DAYS_CREDIT_ENDDATE_SUM  \\\n",
              "SK_ID_CURR                                                                     \n",
              "362145                      -999.0           -999.0                   -999.0   \n",
              "350807                      -999.0           -999.0                   -999.0   \n",
              "\n",
              "            DAYS_CREDIT_UPDATE_SUM  DAYS_ENDDATE_FACT_SUM  MONTHS_BALANCE_SUM  \\\n",
              "SK_ID_CURR                                                                      \n",
              "362145                      -999.0                 -999.0              -999.0   \n",
              "350807                      -999.0                 -999.0              -999.0   \n",
              "\n",
              "            CREDIT_ACTIVE_PC_1  CREDIT_ACTIVE_PC_2  CREDIT_CURRENCY_PC_1  \\\n",
              "SK_ID_CURR                                                                 \n",
              "362145                  -999.0              -999.0                -999.0   \n",
              "350807                  -999.0              -999.0                -999.0   \n",
              "\n",
              "            CREDIT_CURRENCY_PC_2  CREDIT_TYPE_PC_1  CREDIT_TYPE_PC_2  \\\n",
              "SK_ID_CURR                                                             \n",
              "362145                    -999.0            -999.0            -999.0   \n",
              "350807                    -999.0            -999.0            -999.0   \n",
              "\n",
              "            CREDIT_STATUS_PC_1  CREDIT_STATUS_PC_2  CREDIT_STATUS_PC_3  \n",
              "SK_ID_CURR                                                              \n",
              "362145                  -999.0              -999.0              -999.0  \n",
              "350807                  -999.0              -999.0              -999.0  "
            ]
          },
          "metadata": {
            "tags": []
          },
          "execution_count": 102
        }
      ]
    },
    {
      "cell_type": "code",
      "metadata": {
        "colab": {
          "base_uri": "https://localhost:8080/"
        },
        "id": "O9PnLjbtipqJ",
        "outputId": "1c772a6e-3329-41d2-e7bb-aef977bf12d2"
      },
      "source": [
        "!pip install scikit-learn==0.24\n",
        "from sklearn.experimental import enable_halving_search_cv\n",
        "from sklearn.model_selection import HalvingGridSearchCV"
      ],
      "execution_count": 103,
      "outputs": [
        {
          "output_type": "stream",
          "text": [
            "Requirement already satisfied: scikit-learn==0.24 in /usr/local/lib/python3.7/dist-packages (0.24.0)\n",
            "Requirement already satisfied: numpy>=1.13.3 in /usr/local/lib/python3.7/dist-packages (from scikit-learn==0.24) (1.19.5)\n",
            "Requirement already satisfied: joblib>=0.11 in /usr/local/lib/python3.7/dist-packages (from scikit-learn==0.24) (1.0.1)\n",
            "Requirement already satisfied: threadpoolctl>=2.0.0 in /usr/local/lib/python3.7/dist-packages (from scikit-learn==0.24) (2.1.0)\n",
            "Requirement already satisfied: scipy>=0.19.1 in /usr/local/lib/python3.7/dist-packages (from scikit-learn==0.24) (1.4.1)\n"
          ],
          "name": "stdout"
        }
      ]
    },
    {
      "cell_type": "code",
      "metadata": {
        "id": "hfFYrn6HlrtI"
      },
      "source": [
        "from sklearn.metrics import log_loss, f1_score"
      ],
      "execution_count": 117,
      "outputs": []
    },
    {
      "cell_type": "code",
      "metadata": {
        "colab": {
          "base_uri": "https://localhost:8080/"
        },
        "id": "N3p3UHiak2k5",
        "outputId": "9949b59a-6bb5-4771-d99e-bec823fb8913"
      },
      "source": [
        "alphas = [0.1, 0.5, 1, 2, 5]\n",
        "kfold = StratifiedKFold(5)\n",
        "clf_lr = RidgeClassifierCV(alphas=alphas, cv=kfold).fit(X_train, y_train)\n",
        "\n",
        "print(\"Training Log-Loss score: \", log_loss(y_train, clf_lr.predict(X_train)))\n",
        "print(\"Validation Log-Loss score: \", log_loss(y_val, clf_lr.predict(X_val)))"
      ],
      "execution_count": 105,
      "outputs": [
        {
          "output_type": "stream",
          "text": [
            "Training Log-Loss score: 2.785054632936337\n",
            "Validation Log-Loss score: 2.806770486339871\n"
          ],
          "name": "stdout"
        }
      ]
    },
    {
      "cell_type": "code",
      "metadata": {
        "colab": {
          "base_uri": "https://localhost:8080/"
        },
        "id": "PyG0JylnIMj6",
        "outputId": "ae3e2493-b242-41c1-a925-9e0ff3d43b2c"
      },
      "source": [
        "print(\"Training F1-Score: \", f1_score(y_train, clf_lr.predict(X_train)))\n",
        "print(\"Validation F1-Score: \", f1_score(y_val, clf_lr.predict(X_val)))"
      ],
      "execution_count": 118,
      "outputs": [
        {
          "output_type": "stream",
          "text": [
            "Training F1-Score:  0.0006045644616857272\n",
            "Validation F1-Score:  0.0004000000000000001\n"
          ],
          "name": "stdout"
        }
      ]
    },
    {
      "cell_type": "code",
      "metadata": {
        "colab": {
          "base_uri": "https://localhost:8080/"
        },
        "id": "_ik3ZHg4qi2Q",
        "outputId": "d45cd1a4-8083-41c9-e54f-33ecfab64f44"
      },
      "source": [
        "from sklearn.metrics import confusion_matrix\n",
        "\n",
        "tn, fp, fn, tp = confusion_matrix(y_train, clf_lr.predict(X_train)).ravel()\n",
        "total_train = tn + fp + fn + tp\n",
        "print('Train TN Amount is: ' + str(tn) + ' or ' + str(tn/total_train*100) + '%')\n",
        "print('Train TP Amount is: ' + str(tp) + ' or ' + str(tp/total_train*100) + '%')\n",
        "print('Train FN Amount is: ' + str(fn) + ' or ' + str(fn/total_train*100) + '%')\n",
        "print('Train FP Amount is: ' + str(fp) + ' or ' + str(fp/total_train*100) + '%')\n",
        "\n",
        "print()\n",
        "tn, fp, fn, tp = confusion_matrix(y_val, clf_lr.predict(X_val)).ravel()\n",
        "total_CV = tn + fp + fn + tp\n",
        "print('Val TN Amount is: ' + str(tn) + ' or ' + str(tn/total_CV*100) + '%')\n",
        "print('Val TP Amount is: ' + str(tp) + ' or ' + str(tp/total_CV*100) + '%')\n",
        "print('Val FN Amount is: ' + str(fn) + ' or ' + str(fn/total_CV*100) + '%')\n",
        "print('Val FP Amount is: ' + str(fp) + ' or ' + str(fp/total_CV*100) + '%')"
      ],
      "execution_count": 106,
      "outputs": [
        {
          "output_type": "stream",
          "text": [
            "Train TN Amount is: 226165 or 91.93400214627167%\n",
            "Train TP Amount is: 6 or 0.002438945074956912%\n",
            "Train FN Amount is: 19821 or 8.05705505512016%\n",
            "Train FP Amount is: 16 or 0.006503853533218432%\n",
            "\n",
            "Val TN Amount is: 56504 or 91.87194120612003%\n",
            "Val TP Amount is: 1 or 0.0016259369461652277%\n",
            "Val FN Amount is: 4997 or 8.124806919987643%\n",
            "Val FP Amount is: 1 or 0.0016259369461652277%\n"
          ],
          "name": "stdout"
        }
      ]
    },
    {
      "cell_type": "code",
      "metadata": {
        "id": "k5CPb5K1GlDu"
      },
      "source": [
        "from collections import OrderedDict\n",
        "param_dict = OrderedDict(\n",
        "    reg_lambda = [1, 2, 5],\n",
        "    reg_alpha = [1, 2, 5],\n",
        "    max_depth = [5, 6, 7])"
      ],
      "execution_count": 107,
      "outputs": []
    },
    {
      "cell_type": "code",
      "metadata": {
        "colab": {
          "base_uri": "https://localhost:8080/"
        },
        "id": "RFV-mY2AqJg-",
        "outputId": "bec4de07-0ee7-4cc2-c3a9-fde9a35c1176"
      },
      "source": [
        "gsearch = HalvingGridSearchCV(estimator = XGBRegressor(random_state=100, objective='binary:logistic'),\n",
        "                              param_grid = param_dict, cv=kfold, n_jobs=-1, \n",
        "                              min_resources=int(np.floor(0.05*X_train.shape[0])),\n",
        "                              max_resources=int(np.floor(0.5*X_train.shape[0])),\n",
        "                              verbose = 2)\n",
        "\n",
        "gsearch.fit(X_train,y_train)\n",
        "gsearch.best_params_, gsearch.best_score_,"
      ],
      "execution_count": 108,
      "outputs": [
        {
          "output_type": "stream",
          "text": [
            "n_iterations: 3\n",
            "n_required_iterations: 4\n",
            "n_possible_iterations: 3\n",
            "min_resources_: 12300\n",
            "max_resources_: 123004\n",
            "aggressive_elimination: False\n",
            "factor: 3\n",
            "----------\n",
            "iter: 0\n",
            "n_candidates: 27\n",
            "n_resources: 12300\n",
            "Fitting 5 folds for each of 27 candidates, totalling 135 fits\n",
            "----------\n",
            "iter: 1\n",
            "n_candidates: 9\n",
            "n_resources: 36900\n",
            "Fitting 5 folds for each of 9 candidates, totalling 45 fits\n",
            "----------\n",
            "iter: 2\n",
            "n_candidates: 3\n",
            "n_resources: 110700\n",
            "Fitting 5 folds for each of 3 candidates, totalling 15 fits\n"
          ],
          "name": "stdout"
        },
        {
          "output_type": "execute_result",
          "data": {
            "text/plain": [
              "HalvingGridSearchCV(cv=StratifiedKFold(n_splits=5, random_state=None, shuffle=False),\n",
              "                    estimator=XGBRegressor(objective='binary:logistic',\n",
              "                                           random_state=100),\n",
              "                    max_resources=123004, min_resources=12300, n_jobs=-1,\n",
              "                    param_grid=OrderedDict([('reg_lambda', [1, 2, 5]),\n",
              "                                            ('reg_alpha', [1, 2, 5]),\n",
              "                                            ('max_depth', [5, 6, 7])]),\n",
              "                    refit=<function _refit_callable at 0x7fdb9b7090e0>,\n",
              "                    verbose=2)"
            ]
          },
          "metadata": {
            "tags": []
          },
          "execution_count": 108
        },
        {
          "output_type": "execute_result",
          "data": {
            "text/plain": [
              "({'max_depth': 5, 'reg_alpha': 5, 'reg_lambda': 2}, 0.0544339634675461)"
            ]
          },
          "metadata": {
            "tags": []
          },
          "execution_count": 108
        }
      ]
    },
    {
      "cell_type": "code",
      "metadata": {
        "colab": {
          "base_uri": "https://localhost:8080/"
        },
        "id": "-yfr-Jz1h74F",
        "outputId": "3ce4d8c5-faae-4815-f1ae-7f10da79d9df"
      },
      "source": [
        "print(\"Training Log-Loss score: \", log_loss(y_train, gsearch.predict(X_train).round().astype('int')))\n",
        "print(\"Validation Log-Loss score: \", log_loss(y_val, gsearch.predict(X_val).round().astype('int')))"
      ],
      "execution_count": 109,
      "outputs": [
        {
          "output_type": "stream",
          "text": [
            "Training Log-Loss score: 2.781123524436358\n",
            "Validation Log-Loss score: 2.8084553005240456\n"
          ],
          "name": "stdout"
        }
      ]
    },
    {
      "cell_type": "code",
      "metadata": {
        "colab": {
          "base_uri": "https://localhost:8080/"
        },
        "id": "kDrblQPY2lUc",
        "outputId": "50615327-fead-4d8b-cc69-942d5b47b5e3"
      },
      "source": [
        "print(\"Training F1-Score: \", f1_score(y_train, gsearch.predict(X_train).round().astype('int')))\n",
        "print(\"Validation F1-Score: \", f1_score(y_val, gsearch.predict(X_val).round().astype('int')))"
      ],
      "execution_count": 119,
      "outputs": [
        {
          "output_type": "stream",
          "text": [
            "Training F1-Score:  0.0036215482118605704\n",
            "Validation F1-Score:  0.0015971251746855662\n"
          ],
          "name": "stdout"
        }
      ]
    },
    {
      "cell_type": "code",
      "metadata": {
        "id": "yHb1wvtQlry5",
        "colab": {
          "base_uri": "https://localhost:8080/"
        },
        "outputId": "aaefc39a-0e92-45a5-c004-11f2e867ee31"
      },
      "source": [
        "from sklearn.metrics import confusion_matrix\n",
        "\n",
        "tn, fp, fn, tp = confusion_matrix(y_train, gsearch.predict(X_train).round().astype('int')).ravel()\n",
        "total_train = tn + fp + fn + tp\n",
        "print('Train TN Amount is:' + str(tn) + ' or ' + str(tn/total_train*100) + '%')\n",
        "print('Train TP Amount is:' + str(tp) + ' or ' + str(tp/total_train*100) + '%')\n",
        "print('Train FN Amount is:' + str(fn) + ' or ' + str(fn/total_train*100) + '%')\n",
        "print('Train FP Amount is:' + str(fp) + ' or ' + str(fp/total_train*100) + '%')\n",
        "\n",
        "tn, fp, fn, tp = confusion_matrix(y_val, gsearch.predict(X_val).round().astype('int')).ravel()\n",
        "total_CV = tn + fp + fn + tp\n",
        "print('Val TN Amount is:' + str(tn) + ' or ' + str(tn/total_CV*100) + '%')\n",
        "print('Val TP Amount is:' + str(tp) + ' or ' + str(tp/total_CV*100) + '%')\n",
        "print('Val FN Amount is:' + str(fn) + ' or ' + str(fn/total_CV*100) + '%')\n",
        "print('Val FP Amount is:' + str(fp) + ' or ' + str(fp/total_CV*100) + '%')"
      ],
      "execution_count": 111,
      "outputs": [
        {
          "output_type": "stream",
          "text": [
            "Train TN Amount is:226163 or 91.93318916458001%\n",
            "Train TP Amount is:36 or 0.014633670449741473%\n",
            "Train FN Amount is:19791 or 8.044860329745374%\n",
            "Train FP Amount is:18 or 0.0073168352248707364%\n",
            "Val TN Amount is:56498 or 91.86218558444304%\n",
            "Val TP Amount is:4 or 0.006503747784660911%\n",
            "Val FN Amount is:4994 or 8.119929109149147%\n",
            "Val FP Amount is:7 or 0.011381558623156594%\n"
          ],
          "name": "stdout"
        }
      ]
    },
    {
      "cell_type": "code",
      "metadata": {
        "colab": {
          "base_uri": "https://localhost:8080/"
        },
        "id": "LG39yPRiSdaa",
        "outputId": "e544d8c0-eea9-40c2-d44e-92abab157b0a"
      },
      "source": [
        "application_test.info()"
      ],
      "execution_count": 124,
      "outputs": [
        {
          "output_type": "stream",
          "text": [
            "<class 'pandas.core.frame.DataFrame'>\n",
            "Int64Index: 48744 entries, 100001 to 456250\n",
            "Data columns (total 99 columns):\n",
            " #   Column                         Non-Null Count  Dtype  \n",
            "---  ------                         --------------  -----  \n",
            " 0   SK_ID_CURR                     48744 non-null  int64  \n",
            " 1   NAME_CONTRACT_TYPE             48744 non-null  int8   \n",
            " 2   CODE_GENDER                    48744 non-null  int8   \n",
            " 3   FLAG_OWN_CAR                   48744 non-null  int8   \n",
            " 4   FLAG_OWN_REALTY                48744 non-null  int8   \n",
            " 5   CNT_CHILDREN                   48744 non-null  int64  \n",
            " 6   AMT_INCOME_TOTAL               48744 non-null  float64\n",
            " 7   AMT_CREDIT                     48744 non-null  float64\n",
            " 8   AMT_ANNUITY                    48744 non-null  float64\n",
            " 9   AMT_GOODS_PRICE                48744 non-null  float64\n",
            " 10  NAME_INCOME_TYPE               48744 non-null  int8   \n",
            " 11  NAME_EDUCATION_TYPE            48744 non-null  int8   \n",
            " 12  NAME_FAMILY_STATUS             48744 non-null  int8   \n",
            " 13  NAME_HOUSING_TYPE              48744 non-null  int8   \n",
            " 14  DAYS_BIRTH                     48744 non-null  int64  \n",
            " 15  DAYS_EMPLOYED                  48744 non-null  int64  \n",
            " 16  OWN_CAR_AGE                    48744 non-null  float64\n",
            " 17  FLAG_MOBIL                     48744 non-null  int64  \n",
            " 18  FLAG_EMP_PHONE                 48744 non-null  int64  \n",
            " 19  FLAG_WORK_PHONE                48744 non-null  int64  \n",
            " 20  FLAG_CONT_MOBILE               48744 non-null  int64  \n",
            " 21  FLAG_PHONE                     48744 non-null  int64  \n",
            " 22  FLAG_EMAIL                     48744 non-null  int64  \n",
            " 23  OCCUPATION_TYPE                48744 non-null  int8   \n",
            " 24  CNT_FAM_MEMBERS                48744 non-null  float64\n",
            " 25  REGION_RATING_CLIENT           48744 non-null  int64  \n",
            " 26  REG_REGION_NOT_LIVE_REGION     48744 non-null  int64  \n",
            " 27  REG_REGION_NOT_WORK_REGION     48744 non-null  int64  \n",
            " 28  LIVE_REGION_NOT_WORK_REGION    48744 non-null  int64  \n",
            " 29  REG_CITY_NOT_LIVE_CITY         48744 non-null  int64  \n",
            " 30  REG_CITY_NOT_WORK_CITY         48744 non-null  int64  \n",
            " 31  LIVE_CITY_NOT_WORK_CITY        48744 non-null  int64  \n",
            " 32  ORGANIZATION_TYPE              48744 non-null  int8   \n",
            " 33  OBS_30_CNT_SOCIAL_CIRCLE       48744 non-null  float64\n",
            " 34  DEF_30_CNT_SOCIAL_CIRCLE       48744 non-null  float64\n",
            " 35  OBS_60_CNT_SOCIAL_CIRCLE       48744 non-null  float64\n",
            " 36  DEF_60_CNT_SOCIAL_CIRCLE       48744 non-null  float64\n",
            " 37  DAYS_LAST_PHONE_CHANGE         48744 non-null  float64\n",
            " 38  FLAG_DOCUMENT_PC_1             48744 non-null  float64\n",
            " 39  FLAG_DOCUMENT_PC_2             48744 non-null  float64\n",
            " 40  FLAG_DOCUMENT_PC_3             48744 non-null  float64\n",
            " 41  FLAG_DOCUMENT_PC_4             48744 non-null  float64\n",
            " 42  FLAG_DOCUMENT_PC_5             48744 non-null  float64\n",
            " 43  AMT_REQ_CREDIT_PC_1            48744 non-null  float64\n",
            " 44  AMT_REQ_CREDIT_PC_2            48744 non-null  float64\n",
            " 45  AMT_ANNUITY_MEAN               48744 non-null  float64\n",
            " 46  AMT_APPLICATION_MEAN           48744 non-null  float64\n",
            " 47  AMT_CREDIT_MEAN                48744 non-null  float64\n",
            " 48  AMT_DOWN_PAYMENT_MEAN          48744 non-null  float64\n",
            " 49  AMT_DOWN_PAYMENT_SUM           48744 non-null  float64\n",
            " 50  AMT_GOODS_PRICE_MEAN           48744 non-null  float64\n",
            " 51  RATE_DOWN_PAYMENT_MEAN         48744 non-null  float64\n",
            " 52  RATE_DOWN_PAYMENT_SUM          48744 non-null  float64\n",
            " 53  RATE_INTEREST_PRIMARY_MEAN     48744 non-null  float64\n",
            " 54  RATE_INTEREST_PRIMARY_SUM      48744 non-null  float64\n",
            " 55  RATE_INTEREST_PRIVILEGED_MEAN  48744 non-null  float64\n",
            " 56  RATE_INTEREST_PRIVILEGED_SUM   48744 non-null  float64\n",
            " 57  NAME_CONTRACT_PC_1             48744 non-null  float64\n",
            " 58  NAME_CONTRACT_PC_2             48744 non-null  float64\n",
            " 59  NAME_CONTRACT_PC_3             48744 non-null  float64\n",
            " 60  CODE_REJECT_REASON_PC_1        48744 non-null  float64\n",
            " 61  CODE_REJECT_REASON_PC_2        48744 non-null  float64\n",
            " 62  NAME_CLIENT_TYPE_PC_1          48744 non-null  float64\n",
            " 63  NAME_CLIENT_TYPE_PC_2          48744 non-null  float64\n",
            " 64  NAME_PORTFOLIO_PC_1            48744 non-null  float64\n",
            " 65  NAME_PORTFOLIO_PC_2            48744 non-null  float64\n",
            " 66  NAME_PORTFOLIO_PC_3            48744 non-null  float64\n",
            " 67  NAME_PRODUCT_TYPE_PC_1         48744 non-null  float64\n",
            " 68  NAME_PRODUCT_TYPE_PC_2         48744 non-null  float64\n",
            " 69  AMT_SUM_PC_1                   48744 non-null  float64\n",
            " 70  AMT_SUM_PC_2                   48744 non-null  float64\n",
            " 71  LATE_DAYS_MEAN                 48744 non-null  float64\n",
            " 72  LATE_DAYS_SUM                  48744 non-null  float64\n",
            " 73  LATE_DAYS_MAX                  48744 non-null  float64\n",
            " 74  AMT_UNPAID_MEAN                48744 non-null  float64\n",
            " 75  AMT_UNPAID_SUM                 48744 non-null  float64\n",
            " 76  AMT_UNPAID_MAX                 48744 non-null  float64\n",
            " 77  AMT_ANNUITY_SUM                48744 non-null  float64\n",
            " 78  AMT_CREDIT_MAX_OVERDUE_SUM     48744 non-null  float64\n",
            " 79  AMT_CREDIT_SUM_SUM             48744 non-null  float64\n",
            " 80  AMT_CREDIT_SUM_DEBT_SUM        48744 non-null  float64\n",
            " 81  AMT_CREDIT_SUM_LIMIT_SUM       48744 non-null  float64\n",
            " 82  AMT_CREDIT_SUM_OVERDUE_SUM     48744 non-null  float64\n",
            " 83  CNT_CREDIT_PROLONG_SUM         48744 non-null  float64\n",
            " 84  CREDIT_DAY_OVERDUE_SUM         48744 non-null  float64\n",
            " 85  DAYS_CREDIT_SUM                48744 non-null  float64\n",
            " 86  DAYS_CREDIT_ENDDATE_SUM        48744 non-null  float64\n",
            " 87  DAYS_CREDIT_UPDATE_SUM         48744 non-null  float64\n",
            " 88  DAYS_ENDDATE_FACT_SUM          48744 non-null  float64\n",
            " 89  MONTHS_BALANCE_SUM             48744 non-null  float64\n",
            " 90  CREDIT_ACTIVE_PC_1             48744 non-null  float64\n",
            " 91  CREDIT_ACTIVE_PC_2             48744 non-null  float64\n",
            " 92  CREDIT_CURRENCY_PC_1           48744 non-null  float64\n",
            " 93  CREDIT_CURRENCY_PC_2           48744 non-null  float64\n",
            " 94  CREDIT_TYPE_PC_1               48744 non-null  float64\n",
            " 95  CREDIT_TYPE_PC_2               48744 non-null  float64\n",
            " 96  CREDIT_STATUS_PC_1             48744 non-null  float64\n",
            " 97  CREDIT_STATUS_PC_2             48744 non-null  float64\n",
            " 98  CREDIT_STATUS_PC_3             48744 non-null  float64\n",
            "dtypes: float64(72), int64(17), int8(10)\n",
            "memory usage: 35.2 MB\n"
          ],
          "name": "stdout"
        }
      ]
    },
    {
      "cell_type": "code",
      "metadata": {
        "colab": {
          "base_uri": "https://localhost:8080/"
        },
        "id": "VKqBeSZaRxua",
        "outputId": "4cfe1c7b-942b-40c1-a229-dfacc3c9e0a8"
      },
      "source": [
        "dict = {'SK_ID_CURR' : application_test.index, 'TARGET' : gsearch.predict(application_test.drop(columns=['SK_ID_CURR'])).round().astype('int')}\n",
        "sample_submission_xgb = pd.DataFrame(data=dict)\n",
        "sample_submission_xgb.shape[0]"
      ],
      "execution_count": 142,
      "outputs": [
        {
          "output_type": "execute_result",
          "data": {
            "text/plain": [
              "48744"
            ]
          },
          "metadata": {
            "tags": []
          },
          "execution_count": 142
        }
      ]
    },
    {
      "cell_type": "code",
      "metadata": {
        "colab": {
          "base_uri": "https://localhost:8080/"
        },
        "id": "2wsuQ9oXTcNr",
        "outputId": "05a04f4e-0837-4829-aeb5-249e78160fdd"
      },
      "source": [
        "dict = {'SK_ID_CURR' : application_test.index, 'TARGET' : clf_lr.predict(application_test.drop(columns=['SK_ID_CURR']))}\n",
        "sample_submission_lr = pd.DataFrame(data=dict)\n",
        "sample_submission_lr.shape[0]"
      ],
      "execution_count": 141,
      "outputs": [
        {
          "output_type": "execute_result",
          "data": {
            "text/plain": [
              "48744"
            ]
          },
          "metadata": {
            "tags": []
          },
          "execution_count": 141
        }
      ]
    },
    {
      "cell_type": "code",
      "metadata": {
        "colab": {
          "base_uri": "https://localhost:8080/",
          "height": 142
        },
        "id": "6m1HXfvMTrgZ",
        "outputId": "f9b2fd71-9292-4bcb-df32-32d7ebd605c7"
      },
      "source": [
        "sample_submission_xgb.head()\n",
        "sample_submission_xgb[sample_submission_xgb['TARGET']==1]"
      ],
      "execution_count": 136,
      "outputs": [
        {
          "output_type": "execute_result",
          "data": {
            "text/html": [
              "<div>\n",
              "<style scoped>\n",
              "    .dataframe tbody tr th:only-of-type {\n",
              "        vertical-align: middle;\n",
              "    }\n",
              "\n",
              "    .dataframe tbody tr th {\n",
              "        vertical-align: top;\n",
              "    }\n",
              "\n",
              "    .dataframe thead th {\n",
              "        text-align: right;\n",
              "    }\n",
              "</style>\n",
              "<table border=\"1\" class=\"dataframe\">\n",
              "  <thead>\n",
              "    <tr style=\"text-align: right;\">\n",
              "      <th></th>\n",
              "      <th>SK_ID_CURR</th>\n",
              "      <th>TARGET</th>\n",
              "    </tr>\n",
              "  </thead>\n",
              "  <tbody>\n",
              "    <tr>\n",
              "      <th>4967</th>\n",
              "      <td>135857</td>\n",
              "      <td>1</td>\n",
              "    </tr>\n",
              "    <tr>\n",
              "      <th>12398</th>\n",
              "      <td>190200</td>\n",
              "      <td>1</td>\n",
              "    </tr>\n",
              "    <tr>\n",
              "      <th>15955</th>\n",
              "      <td>215033</td>\n",
              "      <td>1</td>\n",
              "    </tr>\n",
              "  </tbody>\n",
              "</table>\n",
              "</div>"
            ],
            "text/plain": [
              "       SK_ID_CURR  TARGET\n",
              "4967       135857       1\n",
              "12398      190200       1\n",
              "15955      215033       1"
            ]
          },
          "metadata": {
            "tags": []
          },
          "execution_count": 136
        }
      ]
    },
    {
      "cell_type": "code",
      "metadata": {
        "colab": {
          "base_uri": "https://localhost:8080/",
          "height": 701
        },
        "id": "hwzsYeMiTuUe",
        "outputId": "611e476a-5bf7-4118-cc7f-6bf09f5e8f37"
      },
      "source": [
        "sample_submission_lr.head()\n",
        "sample_submission_lr[sample_submission_lr['TARGET']==1]"
      ],
      "execution_count": 138,
      "outputs": [
        {
          "output_type": "execute_result",
          "data": {
            "text/html": [
              "<div>\n",
              "<style scoped>\n",
              "    .dataframe tbody tr th:only-of-type {\n",
              "        vertical-align: middle;\n",
              "    }\n",
              "\n",
              "    .dataframe tbody tr th {\n",
              "        vertical-align: top;\n",
              "    }\n",
              "\n",
              "    .dataframe thead th {\n",
              "        text-align: right;\n",
              "    }\n",
              "</style>\n",
              "<table border=\"1\" class=\"dataframe\">\n",
              "  <thead>\n",
              "    <tr style=\"text-align: right;\">\n",
              "      <th></th>\n",
              "      <th>SK_ID_CURR</th>\n",
              "      <th>TARGET</th>\n",
              "    </tr>\n",
              "  </thead>\n",
              "  <tbody>\n",
              "    <tr>\n",
              "      <th>0</th>\n",
              "      <td>100001</td>\n",
              "      <td>0</td>\n",
              "    </tr>\n",
              "    <tr>\n",
              "      <th>1</th>\n",
              "      <td>100005</td>\n",
              "      <td>0</td>\n",
              "    </tr>\n",
              "    <tr>\n",
              "      <th>2</th>\n",
              "      <td>100013</td>\n",
              "      <td>0</td>\n",
              "    </tr>\n",
              "    <tr>\n",
              "      <th>3</th>\n",
              "      <td>100028</td>\n",
              "      <td>0</td>\n",
              "    </tr>\n",
              "    <tr>\n",
              "      <th>4</th>\n",
              "      <td>100038</td>\n",
              "      <td>0</td>\n",
              "    </tr>\n",
              "  </tbody>\n",
              "</table>\n",
              "</div>"
            ],
            "text/plain": [
              "   SK_ID_CURR  TARGET\n",
              "0      100001       0\n",
              "1      100005       0\n",
              "2      100013       0\n",
              "3      100028       0\n",
              "4      100038       0"
            ]
          },
          "metadata": {
            "tags": []
          },
          "execution_count": 138
        },
        {
          "output_type": "execute_result",
          "data": {
            "text/html": [
              "<div>\n",
              "<style scoped>\n",
              "    .dataframe tbody tr th:only-of-type {\n",
              "        vertical-align: middle;\n",
              "    }\n",
              "\n",
              "    .dataframe tbody tr th {\n",
              "        vertical-align: top;\n",
              "    }\n",
              "\n",
              "    .dataframe thead th {\n",
              "        text-align: right;\n",
              "    }\n",
              "</style>\n",
              "<table border=\"1\" class=\"dataframe\">\n",
              "  <thead>\n",
              "    <tr style=\"text-align: right;\">\n",
              "      <th></th>\n",
              "      <th>SK_ID_CURR</th>\n",
              "      <th>TARGET</th>\n",
              "    </tr>\n",
              "  </thead>\n",
              "  <tbody>\n",
              "    <tr>\n",
              "      <th>2205</th>\n",
              "      <td>115480</td>\n",
              "      <td>1</td>\n",
              "    </tr>\n",
              "    <tr>\n",
              "      <th>9040</th>\n",
              "      <td>165918</td>\n",
              "      <td>1</td>\n",
              "    </tr>\n",
              "    <tr>\n",
              "      <th>9134</th>\n",
              "      <td>166618</td>\n",
              "      <td>1</td>\n",
              "    </tr>\n",
              "    <tr>\n",
              "      <th>9246</th>\n",
              "      <td>167328</td>\n",
              "      <td>1</td>\n",
              "    </tr>\n",
              "    <tr>\n",
              "      <th>9769</th>\n",
              "      <td>170970</td>\n",
              "      <td>1</td>\n",
              "    </tr>\n",
              "    <tr>\n",
              "      <th>12090</th>\n",
              "      <td>187868</td>\n",
              "      <td>1</td>\n",
              "    </tr>\n",
              "    <tr>\n",
              "      <th>12398</th>\n",
              "      <td>190200</td>\n",
              "      <td>1</td>\n",
              "    </tr>\n",
              "    <tr>\n",
              "      <th>17326</th>\n",
              "      <td>225612</td>\n",
              "      <td>1</td>\n",
              "    </tr>\n",
              "    <tr>\n",
              "      <th>20736</th>\n",
              "      <td>250462</td>\n",
              "      <td>1</td>\n",
              "    </tr>\n",
              "    <tr>\n",
              "      <th>27226</th>\n",
              "      <td>298532</td>\n",
              "      <td>1</td>\n",
              "    </tr>\n",
              "    <tr>\n",
              "      <th>27334</th>\n",
              "      <td>299339</td>\n",
              "      <td>1</td>\n",
              "    </tr>\n",
              "    <tr>\n",
              "      <th>34495</th>\n",
              "      <td>351898</td>\n",
              "      <td>1</td>\n",
              "    </tr>\n",
              "    <tr>\n",
              "      <th>39942</th>\n",
              "      <td>394113</td>\n",
              "      <td>1</td>\n",
              "    </tr>\n",
              "    <tr>\n",
              "      <th>40585</th>\n",
              "      <td>398738</td>\n",
              "      <td>1</td>\n",
              "    </tr>\n",
              "    <tr>\n",
              "      <th>46713</th>\n",
              "      <td>441392</td>\n",
              "      <td>1</td>\n",
              "    </tr>\n",
              "  </tbody>\n",
              "</table>\n",
              "</div>"
            ],
            "text/plain": [
              "       SK_ID_CURR  TARGET\n",
              "2205       115480       1\n",
              "9040       165918       1\n",
              "9134       166618       1\n",
              "9246       167328       1\n",
              "9769       170970       1\n",
              "12090      187868       1\n",
              "12398      190200       1\n",
              "17326      225612       1\n",
              "20736      250462       1\n",
              "27226      298532       1\n",
              "27334      299339       1\n",
              "34495      351898       1\n",
              "39942      394113       1\n",
              "40585      398738       1\n",
              "46713      441392       1"
            ]
          },
          "metadata": {
            "tags": []
          },
          "execution_count": 138
        }
      ]
    },
    {
      "cell_type": "code",
      "metadata": {
        "id": "Y3VhUCBQUIIe"
      },
      "source": [
        "sample_submission_xgb.to_csv(\"Black Box Model Submission.csv\")\n",
        "sample_submission_lr.to_csv(\"Logistic Regression Model Submission.csv\")"
      ],
      "execution_count": 140,
      "outputs": []
    }
  ]
}